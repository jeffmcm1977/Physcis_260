{
 "cells": [
  {
   "cell_type": "markdown",
   "metadata": {},
   "source": [
    "# Phys 260: Python assignment header\n",
    "\n",
    "### (1) Fill out the cell below.  \n",
    "The cell below is a **code cell**.  Fill out your University of Michigan uniqname, then your name, and collaborators in the cell below **inside the quotes**.  \n",
    "\n",
    "**Do not delete the quotes.**  We will use this information to organize your assignments.  To edit and execute cells, double click inside the cell, type, and press \\<shift\\>+\\<enter\\> to execute."
   ]
  },
  {
   "cell_type": "code",
   "execution_count": null,
   "metadata": {},
   "outputs": [],
   "source": [
    "UNIQNAME = \"\"\n",
    "NAME = \"\"\n",
    "COLLABORATORS = \"\""
   ]
  },
  {
   "cell_type": "markdown",
   "metadata": {},
   "source": [
    "### (2) Check your python version.  \n",
    "**Execute the cell below** (double click in the cell and press \\<shift\\>+\\<enter\\>, or click in the cell and press the Run button) to check that you are using a version of python that is compatible with the tool we are using to grade your assignments.  If your ```IPython``` version is too old, we will *not* be able to grade your assignments."
   ]
  },
  {
   "cell_type": "code",
   "execution_count": null,
   "metadata": {},
   "outputs": [],
   "source": [
    "import IPython\n",
    "assert IPython.version_info[0] >= 3, \"Your version of IPython is too old, please update it.\""
   ]
  },
  {
   "cell_type": "markdown",
   "metadata": {},
   "source": [
    "### (3) Do your best to answer all questions in the assignment.  \n",
    "To answer questions, **replace** anything that says either\n",
    "- \"YOUR ANSWER HERE\" \n",
    "- \n",
    "```\n",
    "YOUR CODE HERE\n",
    "raise NotImplementedError\n",
    "``` \n",
    "\n",
    "with your answer/code.  Cells with either of the two bullet points above are cells of the notebook that will be graded.\n",
    "\n",
    "**To edit markdown** cells (e.g. this one),  *double click in the cell to type*.\n"
   ]
  },
  {
   "cell_type": "markdown",
   "metadata": {},
   "source": [
    "### (4) Make sure your notebook runs sequentially.\n",
    "After you complete this assignment, make sure everything runs as expected. First, **restart the kernel** (in the menubar, select Kernel$\\rightarrow$Restart) and then **run all cells** (in the menubar, select Cell$\\rightarrow$Run All)."
   ]
  },
  {
   "cell_type": "code",
   "execution_count": null,
   "metadata": {},
   "outputs": [],
   "source": []
  },
  {
   "cell_type": "markdown",
   "metadata": {},
   "source": [
    "# Phys 260 Python Lab 4: Visualization with MatPlotLib in review (10 points)"
   ]
  },
  {
   "cell_type": "markdown",
   "metadata": {},
   "source": [
    "# Introduction\n",
    "\n",
    "Each Python lab will start with a pre-flight exercise that walks through building some of the set up and tools ($\\sim$ 30 min), followed by an in-class tutorial with time for Q+A (50 min) so you can walk through steps that will be necessary for the homework assignment you will submit ($\\sim$ 3 hrs).  Each lab will contain starter code, similar to what you see below.  Please fill in the code to complete the pre-flight assignment in preparation for the in-class tutorial.  \n",
    "\n",
    "Preflight ($\\sim$30-60 min, 10 points) **Typically due: Fridays noon EST**\n",
    "\n",
    "*Preflight typically graded by Friday 5p EST*\n",
    "\n",
    "In-class tutorial **Friday noon**\n",
    "\n",
    "Homework assignment ($\\sim$ 3-5 hrs, 30 points) **Typically due: Tuesdays at noon EST**\n",
    "\n",
    "*Homework typically graded by Wednesday 5p*\n",
    "\n",
    "When we grade your homework, we will not run your code. Once submitted, your notebook should have the outputs for all of your results.  Please do not include long outputs from debugging, beyond a few print statements and the requested visualizations (i.e. plots).\n",
    "\n",
    "**Grading:** When we grade your notebook, we will convert the .ipynb file to an HTML file.  We will be using [nbgrader](https://nbgrader.readthedocs.io/en/stable/) to grade your notebooks. "
   ]
  },
  {
   "cell_type": "markdown",
   "metadata": {},
   "source": [
    "## Preflight summary\n",
    "- Brief review of relaxing a potential, now with a dipole in 2d\n",
    "- Visualizing results, getting to know the matplotlib tools"
   ]
  },
  {
   "cell_type": "code",
   "execution_count": null,
   "metadata": {},
   "outputs": [],
   "source": [
    "# Import relevant modules\n",
    "import numpy as np\n",
    "from matplotlib import pyplot as plt\n",
    "import matplotlib.cm as cm                 # allows us to choose a variety of colormaps\n",
    "from mpl_toolkits.mplot3d import Axes3D    # this is a special library to plot in 3d"
   ]
  },
  {
   "cell_type": "markdown",
   "metadata": {},
   "source": [
    "## Brief review of relaxing a potential with a dipole in 2d (5 points)\n",
    "\n",
    "- Create a 2d meshgrid sampling points in space \n",
    "- Create a scalar field for the potential of a dipole through iterative relaxation\n",
    "- Create a vector field for the corresponding electric field"
   ]
  },
  {
   "cell_type": "markdown",
   "metadata": {},
   "source": [
    "## Quick aside on variable scopes\n",
    "\n",
    "One things we did not discuss yet, is the [scope of a variable](https://www.w3schools.com/python/python_scope.asp) (see link for more examples, or [this tutorial](https://www.datacamp.com/community/tutorials/scope-of-variables-python) for some nice visualizations).  Below, we illustrate what happens to an `int`, a `list`, a `tuple`, and an `np.ndarray` when passed into a function.  "
   ]
  },
  {
   "cell_type": "code",
   "execution_count": null,
   "metadata": {},
   "outputs": [],
   "source": [
    "# Illustration of variable scope \n",
    "test_int = 20\n",
    "test_list = [1, 3, 'blah']\n",
    "test_tup = (1,100,1000)\n",
    "test_array = np.arange(10)\n",
    "\n",
    "def try_to_change_things(int_arg, list_arg, tup_arg, array_arg) :\n",
    "    \"\"\"Changes each input argument and prints the change made in the function\"\"\"\n",
    "    int_arg = int_arg + 1\n",
    "    int_arg += 1\n",
    "    \n",
    "    list_arg.append('blue') # Tries a list operation, appending is a method of the object\n",
    "    list_arg += ['green']\n",
    "    list_arg = ['red', 'apple']  # Tries to change the entire list, but this reassigns the \n",
    "                                    # name list_arg (in the function) to point to this other list\n",
    "    \n",
    "    tup_arg = (2, 200, 2000)\n",
    "    \n",
    "    array_arg[0] = 100 # Tries to change one element, setting an element has an under the \n",
    "                            # hood __setitem__ method\n",
    "    array_arg = np.arange(20)  # Tries to change the entire array\n",
    "    print('From inside the scope of the function:')\n",
    "    print(int_arg, list_arg, tup_arg, array_arg)\n",
    "    \n",
    "# Execute the function\n",
    "try_to_change_things(test_int, test_list, test_tup, test_array)\n",
    "\n",
    "print('From outside the scope of the function:')    \n",
    "print(test_int, test_list, test_tup, test_array)"
   ]
  },
  {
   "cell_type": "markdown",
   "metadata": {},
   "source": [
    "**Open question** (1 points): What changes for which objects made it outside the function scope?  \n",
    "\n",
    "Bonus: Why?  Note, this has to do with mutable vs. immutable objects in python (recall preflight 1), and how objects are passed into functions.  This is a whole topic itself, but if you're looking to delve more deeply, various articles, or [stackoverflow posts](https://stackoverflow.com/questions/986006/how-do-i-pass-a-variable-by-reference) have explanations.  The main thing I'd like you to get out of this is that there are in fact differences, and you'll want to be mindful of these differences when writing code.  "
   ]
  },
  {
   "cell_type": "markdown",
   "metadata": {
    "deletable": false,
    "nbgrader": {
     "cell_type": "markdown",
     "checksum": "2cf678b5a2e12565c2c6d13e395f0e4b",
     "grade": true,
     "grade_id": "PF_Variable_Scope_Q",
     "locked": false,
     "points": 1,
     "schema_version": 3,
     "solution": true,
     "task": false
    }
   },
   "source": [
    "YOUR ANSWER HERE"
   ]
  },
  {
   "cell_type": "markdown",
   "metadata": {},
   "source": [
    "### Dipole Relaxation\n",
    "\n",
    "We are going to recreate our relaxation code in 2D from the previous HW, but use a different set of boundary conditions, those of a dipole. We will set the potential at two points we decide and use relaxation to find the potential and electric field. First, let us set up a square of meshgrid points.  Due to the `streamplot` expectation of `'xy'` indexing, we'll also generate meshgrid points with the same conventions.  "
   ]
  },
  {
   "cell_type": "code",
   "execution_count": null,
   "metadata": {},
   "outputs": [],
   "source": [
    "# Generate coordinates of the positions we sample in our field.\n",
    "square_points_1d = np.linspace(-2,2,400)\n",
    "x_points, y_points = np.meshgrid(square_points_1d, square_points_1d)"
   ]
  },
  {
   "cell_type": "markdown",
   "metadata": {},
   "source": [
    "### Dipole conditions (1 points)\n",
    "\n",
    "Below, we write a function to set the dipole initial conditions.  We will eventually set the bounds to be equal and opposite along the x-axis (i.e. on the horizontal line closest to $y=0$), and equidistant from the origin and square edges.  But, the function below is agnostic to the actual positions, and assumes arguments that will specify the array element locations of the dipole.  Let the positive potential, $V_+=100$, and the negative potential, $V_-=-100$ respectively sit on the positive and negative sides of the x-axis.  \n",
    "\n",
    "Food for thought: Notice here we aren't returning the array in our `set_dipole_conditions()` function. Why does this work here, keeping in mind the earlier exercise on variable scopes, mutable, and immutable objects? Is there a downside to returning the new array?"
   ]
  },
  {
   "cell_type": "code",
   "execution_count": null,
   "metadata": {},
   "outputs": [],
   "source": []
  },
  {
   "cell_type": "code",
   "execution_count": null,
   "metadata": {
    "deletable": false,
    "nbgrader": {
     "cell_type": "code",
     "checksum": "1928ee880d30ea6b0f65c65a29ad6ad6",
     "grade": false,
     "grade_id": "cell-120a43266b043f1f",
     "locked": false,
     "schema_version": 3,
     "solution": true,
     "task": false
    }
   },
   "outputs": [],
   "source": [
    "def set_dipole_conditions(potential_array, dipole_plus_index, dipole_minus_index, \n",
    "                          potential_plus=100, potential_minus=-100) :\n",
    "    \"\"\"Returns potential array with set boundary conditions.  \n",
    "\n",
    "    Inputs:\n",
    "    potential_array (n-darray) : array containing the potential at each sampled point \n",
    "    dipole_plus_index (tuple) : index of the point corresponding to the plus \n",
    "    dipole_minus_index (tuple) : index of the point corresponding to the plus \n",
    "    potential_plus (float) : value of positive peak in potential\n",
    "    potential_minus (float) : value of negative peak in potential\n",
    "\n",
    "    Outputs:\n",
    "    potential_array (n-darray) : array containing the potential at each sampled point with boundary conditions \n",
    "    \"\"\"\n",
    "    # Assign the potential_plus value to the correct element in potential_array\n",
    "    potential_array[dipole_plus_index] = potential_plus\n",
    "\n",
    "    # Assign the potential_minus value to the correct element in potential_array\n",
    "    # YOUR CODE HERE\n",
    "    raise NotImplementedError()\n",
    "    \n",
    "    return None # Note that None is the **default** return value for any function"
   ]
  },
  {
   "cell_type": "code",
   "execution_count": null,
   "metadata": {
    "deletable": false,
    "editable": false,
    "nbgrader": {
     "cell_type": "code",
     "checksum": "cbfa2cffc5e9df8ebd83e316ecaae1df",
     "grade": true,
     "grade_id": "PF_set_dipole_conditions",
     "locked": true,
     "points": 1,
     "schema_version": 3,
     "solution": false,
     "task": false
    }
   },
   "outputs": [],
   "source": [
    "\"\"\"Execute to check you're on the right track\"\"\"\n",
    "test_2d_array = np.arange(10)\n",
    "test_2d_array = test_2d_array.reshape(2,5)\n",
    "set_dipole_conditions(test_2d_array, (0,0), (-1,-1))\n",
    "assert((test_2d_array == np.array([[100,1,2,3,4],[5,6,7,8,-100]])).all())"
   ]
  },
  {
   "cell_type": "markdown",
   "metadata": {},
   "source": [
    "## Execute a function to change values in an array (2 points)\n",
    "\n",
    "Now we relax the potential....  Fill out the function below as you did for the last tutorial/hw.  \n",
    "\n",
    "Note, there is a difference in how you will set the boundary conditions with `set_dipole_conditions`.  You do not have a return value from the `set_dipole_conditions`.   Simply executing the function will change the input potential. "
   ]
  },
  {
   "cell_type": "code",
   "execution_count": null,
   "metadata": {
    "deletable": false,
    "nbgrader": {
     "cell_type": "code",
     "checksum": "6cf92bb43fffa67f263a1b065565e3dc",
     "grade": false,
     "grade_id": "cell-3ae8b27eb3d447a1",
     "locked": false,
     "schema_version": 3,
     "solution": true,
     "task": false
    }
   },
   "outputs": [],
   "source": [
    "def relax_potential_dipole( potential_array, dipole_plus_index, dipole_minus_index, \n",
    "                          potential_plus=100, potential_minus=-100) :\n",
    "    \"\"\"Returns relaxed 2-d dipole potential array with set boundary conditions.  \n",
    "\n",
    "    Inputs:\n",
    "    potential_array (n-darray) : array containing the potential at each sampled point \n",
    "    dipole_plus_index (tuple) : index of the point corresponding to the plus \n",
    "    dipole_minus_index (tuple) : index of the point corresponding to the plus \n",
    "    potential_plus (float) : value of positive peak in potential\n",
    "    potential_minus (float) : value of negative peak in potential\n",
    "\n",
    "    Outputs:\n",
    "    relaxed_potential (n-darray) : array containing the relaxed potential at each sampled point with boundary conditions set     \n",
    "    \"\"\"\n",
    "\n",
    "    # Define potential_left, right, top, and bottom\n",
    "    potential_bottom = np.roll(potential_array, -1, axis=0)\n",
    "    potential_top = np.roll(potential_array, 1, axis=0)\n",
    "    potential_left = np.roll(potential_array, -1, axis=1)\n",
    "    potential_right = np.roll(potential_array, 1, axis=1)\n",
    "    \n",
    "    relaxed_potential = np.mean(np.array([potential_left, potential_right, \n",
    "                                          potential_top, potential_bottom]),axis=0)\n",
    "    assert(relaxed_potential.shape == potential_array.shape)\n",
    "    \n",
    "    # Set boundary conditions\n",
    "    # YOUR CODE HERE\n",
    "    raise NotImplementedError()\n",
    "    \n",
    "    return relaxed_potential"
   ]
  },
  {
   "cell_type": "code",
   "execution_count": null,
   "metadata": {
    "deletable": false,
    "editable": false,
    "nbgrader": {
     "cell_type": "code",
     "checksum": "afb6c01490ef5ae3e0417b318cc95dfa",
     "grade": true,
     "grade_id": "PF_relax_potential_dipole",
     "locked": true,
     "points": 2,
     "schema_version": 3,
     "solution": false,
     "task": false
    }
   },
   "outputs": [],
   "source": [
    "\"\"\"Execute to check you're on the right track\"\"\"\n",
    "relax_test = relax_potential_dipole(np.zeros(x_points.shape), (0,0), (-1,-1))\n",
    "assert(relax_test.shape == x_points.shape )"
   ]
  },
  {
   "cell_type": "markdown",
   "metadata": {},
   "source": [
    "### Find the dipole positions (1 point)\n",
    "Now, we use both functions to iteratively relax the potential.  First, we identify the appropriate indices for the `dipole_plus_index` and the `dipole_minus_index`.  Recall, we will set the dipole along the x-axis (i.e. on the horizontal line closest to $y=0$), and equidistant from the origin and square edges.  \n",
    "\n",
    "The boolean corresponding to the former is written out.  You will need to fill in the boolean, `x_axis_bool`, that will identify the line of points closest to $y=0$. *Hint* the `np.min` and `np.abs` functions may be useful here to use on `y_points`.  \n",
    "\n",
    "We can then, we can use both booleans to identify the dipole indices.  While this is slight overkill since we know there are 400 points in each direction, this is a good exercise to walk through the logic of `np.where`.      "
   ]
  },
  {
   "cell_type": "code",
   "execution_count": null,
   "metadata": {
    "deletable": false,
    "nbgrader": {
     "cell_type": "code",
     "checksum": "2d6c7f97c6ceeae4f51faf6fdfc38a8a",
     "grade": false,
     "grade_id": "cell-497244cca2f38045",
     "locked": false,
     "schema_version": 3,
     "solution": true,
     "task": false
    }
   },
   "outputs": [],
   "source": [
    "# Boolean to identify the lines equidistant from the x=0 and left and right edges\n",
    "distance_to_midpoints = np.abs(np.abs(x_points) - x_points.max()/2)\n",
    "x_midpoint_bool = distance_to_midpoints == np.min(distance_to_midpoints)\n",
    "\n",
    "# Define the boolean, x_axis_bool to identify the line closest to y=0\n",
    "# YOUR CODE HERE\n",
    "raise NotImplementedError()\n",
    "\n",
    "#  Use both boolean statements to collect the dipole indices\n",
    "dipole_indices = np.where(x_axis_bool & x_midpoint_bool)\n",
    "print(dipole_indices)\n",
    "dipole_left = (dipole_indices[0][0], dipole_indices[1][0])\n",
    "dipole_right = (dipole_indices[0][1], dipole_indices[1][1])\n",
    "print('dipole indices: ', dipole_left, dipole_right)   # Note the difference in indexing due to 'xy' conventions\n",
    "print('x coordinate of the left dipole:', x_points[dipole_left])\n",
    "print('y coordinate of the left dipole:', y_points[dipole_left])\n",
    "print('x coordinate of the right dipole:', x_points[dipole_right])\n",
    "print('y coordinate of the right dipole:', y_points[dipole_right])\n"
   ]
  },
  {
   "cell_type": "code",
   "execution_count": null,
   "metadata": {
    "deletable": false,
    "editable": false,
    "nbgrader": {
     "cell_type": "code",
     "checksum": "ecbf0aaa63f64e55c276990436d111eb",
     "grade": true,
     "grade_id": "PF_find_dipole_positions",
     "locked": true,
     "points": 1,
     "schema_version": 3,
     "solution": false,
     "task": false
    }
   },
   "outputs": [],
   "source": [
    "\"\"\"Execute to check you're on the right track -- Note, if you're stuck from the above, \n",
    "you can directly input the indices below in place of dipole_left \n",
    "and dipole_right when executing relax_potential_dipole\"\"\"\n",
    "\n",
    "assert(dipole_left == (200,100))\n",
    "assert(dipole_right == (200,299))"
   ]
  },
  {
   "cell_type": "markdown",
   "metadata": {},
   "source": [
    "Now let's run the relaxation code. This is almost exactly the same as the code we ran in the previous homework."
   ]
  },
  {
   "cell_type": "code",
   "execution_count": null,
   "metadata": {},
   "outputs": [],
   "source": [
    "convergence_criterion = 0.01\n",
    "largest_iteration_difference = 1 # initialize\n",
    "\n",
    "# Initialize the potential\n",
    "potential_2d_dipole = relax_potential_dipole(np.zeros(x_points.shape), dipole_left, dipole_right)\n",
    "\n",
    "while largest_iteration_difference > convergence_criterion :\n",
    "    relaxed_potential = relax_potential_dipole(potential_2d_dipole, dipole_left, dipole_right)\n",
    "\n",
    "    largest_iteration_difference = np.max(np.abs(relaxed_potential - potential_2d_dipole))\n",
    "    potential_2d_dipole = relaxed_potential"
   ]
  },
  {
   "cell_type": "markdown",
   "metadata": {},
   "source": [
    "Now, we create the electric field"
   ]
  },
  {
   "cell_type": "code",
   "execution_count": null,
   "metadata": {},
   "outputs": [],
   "source": [
    "dipole_electric_field = -np.array([np.gradient(potential_2d_dipole, axis=0), \n",
    "                                               np.gradient(potential_2d_dipole, axis=1)])"
   ]
  },
  {
   "cell_type": "markdown",
   "metadata": {},
   "source": [
    "## Visualize results (5 points)\n",
    "\n",
    "Matplotlib can be kind of clunky in how the object methods are handled.  While there are smoother tools (e.g. [seaborn](https://seaborn.pydata.org/) is a relatively recent favorite), it is more common to get a solid start on some nice looking visualizations with matplotlib, online documentation (and stackoverflow), and the [matplotlib gallery](https://matplotlib.org/3.1.1/gallery/index.html).\n",
    "\n",
    "- First, we'll compare visualizations of the scalar field, `potential_2d_dipole`, with `imshow` and in 3d.  We'll see a commonality in the use of colorbars.\n",
    "- Second, we'll compare `imshow` and the `contour` plot\n",
    "- Finally, we'll take a look at the pieces that go into `streamplot`."
   ]
  },
  {
   "cell_type": "markdown",
   "metadata": {},
   "source": [
    "### Change a keyword (1 point)\n",
    "\n",
    "Modify the code below - look up some of the [colormaps in matplotlib](https://matplotlib.org/tutorials/colors/colormaps.html), and change the keyword `cmap` to something of your choice. \n",
    "\n",
    "```\n",
    "fig = plt.figure(figsize=(12,9))\n",
    "ax = fig.gca(projection='3d') # We set the current axes to be a projection in 3d\n",
    "surf = ax.plot_surface(x_points,y_points,potential_2d_dipole, cmap=cm.inferno)\n",
    "fig.colorbar(surf)\n",
    "ax.set_ylabel('y-axis [cm]')\n",
    "ax.set_xlabel('x-axis [cm]')\n",
    "ax.view_init(30, 40)\n",
    "```"
   ]
  },
  {
   "cell_type": "code",
   "execution_count": null,
   "metadata": {
    "deletable": false,
    "nbgrader": {
     "cell_type": "code",
     "checksum": "71b0e4136ab9174c40bfeb2cbbea4eac",
     "grade": true,
     "grade_id": "PF_surfplot_cmap",
     "locked": false,
     "points": 1,
     "schema_version": 3,
     "solution": true,
     "task": false
    }
   },
   "outputs": [],
   "source": [
    "# Plot here\n",
    "# YOUR CODE HERE\n",
    "raise NotImplementedError()"
   ]
  },
  {
   "cell_type": "markdown",
   "metadata": {},
   "source": [
    "Below, we show the same plot with `imshow`.  You'll notice that `colorbar` (as in the previous cell) is a method of the `fig` (or figure object) not the `ax` (or axes) object.  We can't place a colorbar directly on the axis, but have to place it on the overall figure.  You'll notice that the colorbar takes in a mappable as an argument - it needs to know what colors it maps onto.  In our case, the mappable is the *returned* instance of the of ax.imshow(....) that we executed, which we named `image_on_axes`.  Note, we would still be able to render the `imshow` image by just executing it, we would just not be able to use the last line in the cell."
   ]
  },
  {
   "cell_type": "code",
   "execution_count": null,
   "metadata": {},
   "outputs": [],
   "source": [
    "fig, ax = plt.subplots(1,1,figsize=(12,9))\n",
    "\n",
    "image_on_axes = ax.imshow(potential_2d_dipole, origin='lower', cmap=cm.inferno)   \n",
    "ax.set_ylabel('y-axis [cm]')\n",
    "ax.set_xlabel('x-axis [cm]')\n",
    "\n",
    "fig.colorbar(image_on_axes)"
   ]
  },
  {
   "cell_type": "markdown",
   "metadata": {},
   "source": [
    "## Contour plots\n",
    "\n",
    "A new plot you saw in the last tutorial/hw is the contour plot.  Below we make a base contour plot of equipotential lines."
   ]
  },
  {
   "cell_type": "code",
   "execution_count": null,
   "metadata": {},
   "outputs": [],
   "source": [
    "fig, ax = plt.subplots(1,1,figsize=(9,9))\n",
    "ax.contour(x_points, y_points, potential_2d_dipole, levels=np.arange(-100,100,10),cmap=cm.Reds)"
   ]
  },
  {
   "cell_type": "markdown",
   "metadata": {},
   "source": [
    "### Refine a plot (2 points)\n",
    "Now, remake the plot to be more readable:\n",
    "- change the input kwarg `levels` to take in values that are log spaced - so there are lines at $\\pm 0.001, 0.01, 0.1, 1, 10$.  Define this as `logged_levels`. (Depending on how you define `logged_levels` to input into `levels`, you may get an error.  Try working through the error message starting from the bottom.  Note, you should be able to input a list of numbers, i.e. `logged_levels` can be a list. )\n",
    "- change the colormap to a different one (you may find yourself only seeing very light colors because of the log spacing - try to pick a darker one for visibility, but there are ways to log space the colors as well)\n",
    "- look at the 30th code cell from the last tutorial/hw to add labels to the contours. *Hint*: the method to label the contours is a method of the axes object, but you need a mappable as the first argument as you did in the previous plots for the colorbar."
   ]
  },
  {
   "cell_type": "code",
   "execution_count": null,
   "metadata": {
    "deletable": false,
    "nbgrader": {
     "cell_type": "code",
     "checksum": "4441532c775028d06577c0be893a1f5f",
     "grade": true,
     "grade_id": "PF_refine_contour_plot",
     "locked": false,
     "points": 2,
     "schema_version": 3,
     "solution": true,
     "task": false
    }
   },
   "outputs": [],
   "source": [
    "# Make your refined plot here, first defining logged_levels\n",
    "# YOUR CODE HERE\n",
    "raise NotImplementedError()"
   ]
  },
  {
   "cell_type": "markdown",
   "metadata": {},
   "source": [
    "## Subplots for side-by-side plotting (1 point)\n",
    "\n",
    "Use `plt.subplots` for side-by-side plotting of the above two figures, plotting the contour plot on the left and the imshow plot on the right.  Hint:  See the use of this in the 10th code cell of tutorial/hw 3, and you should be mostly able to copy and paste code from above for each subplot that goes on their respective axis."
   ]
  },
  {
   "cell_type": "code",
   "execution_count": null,
   "metadata": {
    "deletable": false,
    "nbgrader": {
     "cell_type": "code",
     "checksum": "d34c9f664b959f09d2626d0afe9e0f0a",
     "grade": true,
     "grade_id": "PF_subplot",
     "locked": false,
     "points": 1,
     "schema_version": 3,
     "solution": true,
     "task": false
    }
   },
   "outputs": [],
   "source": [
    "# Plot the previous two plots side by side\n",
    "fig, (ax1, ax2) = plt.subplots(1,2, figsize=(15,7))\n",
    "# YOUR CODE HERE\n",
    "raise NotImplementedError()"
   ]
  },
  {
   "cell_type": "markdown",
   "metadata": {},
   "source": [
    "## Let's visualize both the scalar field and the vector field  (1 points)\n",
    "We will use both `contour` and `streamplot` on the same axis.  You'll need to fill in the portion for streamplot.  Recall, streamplot expects `xy` conventions, which our `x_points` and `y_points` are already defined with.  However, our `dipole_electric_field` does not assume these conventions.  *Hint:* If your streamplot looks funny to you (given what you know about the directions the field lines around a dipole should look like), then try switching around how you are using `dipole_electric_field`."
   ]
  },
  {
   "cell_type": "code",
   "execution_count": null,
   "metadata": {
    "deletable": false,
    "nbgrader": {
     "cell_type": "code",
     "checksum": "ff28d1d14c6162a1cff2e8883ad67011",
     "grade": true,
     "grade_id": "PF_streamplot",
     "locked": false,
     "points": 1,
     "schema_version": 3,
     "solution": true,
     "task": false
    }
   },
   "outputs": [],
   "source": [
    "emagnitude = 10*np.log(np.linalg.norm(dipole_electric_field, axis=0)) # We will color code by this\n",
    "\n",
    "fig, ax = plt.subplots(1, figsize=(8,8))\n",
    "\n",
    "# Use streamplot on the axis to visualize the electric field\n",
    "# YOUR CODE HERE\n",
    "raise NotImplementedError()\n",
    "contour1 = ax.contour(x_points, y_points, potential_2d_dipole, \n",
    "                      levels=logged_levels,cmap=plt.cm.Reds)\n",
    "ax.clabel(contour1, fontsize=10, colors='black')  # label the contours\n",
    "\n",
    "ax.set_aspect('equal')\n",
    "ax.set_xlabel('x-axis ', fontsize=16)\n",
    "ax.set_ylabel('y-axis ', fontsize=16)"
   ]
  }
 ],
 "metadata": {
  "kernelspec": {
   "display_name": "Python 3 (ipykernel)",
   "language": "python",
   "name": "python3"
  },
  "language_info": {
   "codemirror_mode": {
    "name": "ipython",
    "version": 3
   },
   "file_extension": ".py",
   "mimetype": "text/x-python",
   "name": "python",
   "nbconvert_exporter": "python",
   "pygments_lexer": "ipython3",
   "version": "3.9.7"
  }
 },
 "nbformat": 4,
 "nbformat_minor": 2
}
