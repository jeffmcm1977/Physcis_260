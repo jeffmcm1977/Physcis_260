{
 "cells": [
  {
   "cell_type": "markdown",
   "metadata": {},
   "source": [
    "# Phys 260: Python assignment header\n",
    "\n",
    "### (1) Fill out the cell below.  \n",
    "The cell below is a **code cell**.  Fill out your University of Michigan uniqname, then your name, and collaborators in the cell below **inside the quotes**.  \n",
    "\n",
    "**Do not delete the quotes.**  We will use this information to organize your assignments.  To edit and execute cells, double click inside the cell, type, and press \\<shift\\>+\\<enter\\> to execute."
   ]
  },
  {
   "cell_type": "code",
   "execution_count": null,
   "metadata": {},
   "outputs": [],
   "source": [
    "UNIQNAME = \"\"\n",
    "NAME = \"\"\n",
    "COLLABORATORS = \"\""
   ]
  },
  {
   "cell_type": "markdown",
   "metadata": {},
   "source": [
    "### (2) Check your python version.  \n",
    "**Execute the cell below** (double click in the cell and press \\<shift\\>+\\<enter\\>, or click in the cell and press the Run button) to check that you are using a version of python that is compatible with the tool we are using to grade your assignments.  If your ```IPython``` version is too old, we will *not* be able to grade your assignments."
   ]
  },
  {
   "cell_type": "code",
   "execution_count": null,
   "metadata": {},
   "outputs": [],
   "source": [
    "import IPython\n",
    "assert IPython.version_info[0] >= 3, \"Your version of IPython is too old, please update it.\""
   ]
  },
  {
   "cell_type": "markdown",
   "metadata": {},
   "source": [
    "### (3) Do your best to answer all questions in the assignment.  \n",
    "To answer questions, **replace** anything that says either\n",
    "- \"YOUR ANSWER HERE\" \n",
    "- \n",
    "```\n",
    "YOUR CODE HERE\n",
    "raise NotImplementedError\n",
    "``` \n",
    "\n",
    "with your answer/code.  Cells with either of the two bullet points above are cells of the notebook that will be graded.\n",
    "\n",
    "**To edit markdown** cells (e.g. this one),  *double click in the cell to type*.  Press \\<shift\\>+\\<enter\\> to execute the cell.\n"
   ]
  },
  {
   "cell_type": "markdown",
   "metadata": {},
   "source": [
    "### (4) Make sure your notebook runs sequentially.\n",
    "After you complete this assignment, make sure everything runs as expected. First, **restart the kernel** (in the menubar, select Kernel$\\rightarrow$Restart) and then **run all cells** (in the menubar, select Cell$\\rightarrow$Run All)."
   ]
  },
  {
   "cell_type": "code",
   "execution_count": null,
   "metadata": {},
   "outputs": [],
   "source": []
  },
  {
   "cell_type": "markdown",
   "metadata": {},
   "source": [
    "# Phys 260 Python Lab 5: Python Classes -- Preflight into a bit of history"
   ]
  },
  {
   "cell_type": "markdown",
   "metadata": {},
   "source": [
    "# Introduction\n",
    "\n",
    "Each Python lab will start with a pre-flight exercise that walks through building some of the set up and tools ($\\sim$ 30 min), followed by an in-class tutorial with time for Q+A (50 min) so you can walk through steps that will be necessary for the homework assignment you will submit ($\\sim$ 3 hrs).  Each lab will contain starter code, similar to what you see below.  Please fill in the code to complete the pre-flight assignment in preparation for the in-class tutorial.  \n",
    "\n",
    "Preflight ($\\sim$30-60 min, 10 points) **Typically due: Fridays noon EST**\n",
    "\n",
    "*Preflight typically graded by Friday 5p EST*\n",
    "\n",
    "In-class tutorial **Friday noon**\n",
    "\n",
    "Homework assignment ($\\sim$ 3-5 hrs, 30 points) **Typically due: Tuesdays at noon EST**\n",
    "\n",
    "*Homework typically graded by Wednesday 5p*\n",
    "\n",
    "When we grade your homework, we will not run your code. Once submitted, your notebook should have the outputs for all of your results.  Please do not include long outputs from debugging, beyond a few print statements and the requested visualizations (i.e. plots).\n",
    "\n",
    "**Grading:** When we grade your notebook, we will convert the .ipynb file to an HTML file.  We will be using [nbgrader](https://nbgrader.readthedocs.io/en/stable/) to grade your notebooks. "
   ]
  },
  {
   "cell_type": "markdown",
   "metadata": {},
   "source": [
    "## Preflight summary\n",
    "- Reminder of the familiar `ndarray` class\n",
    "- Example case with a `Person`"
   ]
  },
  {
   "cell_type": "code",
   "execution_count": null,
   "metadata": {},
   "outputs": [],
   "source": [
    "# Import relevant modules\n",
    "import numpy as np\n",
    "from matplotlib import pyplot as plt"
   ]
  },
  {
   "cell_type": "markdown",
   "metadata": {},
   "source": [
    "## Quick reminder of your use of the ndarray object - a python class\n",
    "\n",
    "A python class bundles data and functionality (things and actions). One example of a built-in python class you've been using is the ndarray class.  See this in action below, where we print the `type` of the object `test_array`.  Note:  You can think of a class as the blueprint/template for an object."
   ]
  },
  {
   "cell_type": "code",
   "execution_count": null,
   "metadata": {},
   "outputs": [],
   "source": [
    "test_array = np.arange(10)\n",
    "print(type(test_array))"
   ]
  },
  {
   "cell_type": "markdown",
   "metadata": {},
   "source": [
    "### Familiar attributes and methods (1 point)\n",
    "\n",
    "In the cell above, we have defined an instance of the `ndarray` class, with name `test_array`.  Each class instance has its own attributes attached to it. Class instances can also have methods that perform actions on class attributes.\n",
    "\n",
    "Name 2 attributes and 2 methods of `ndarray` objects.  "
   ]
  },
  {
   "cell_type": "markdown",
   "metadata": {
    "deletable": false,
    "nbgrader": {
     "cell_type": "markdown",
     "checksum": "6bd1a5b25c01c4a2727ae3fcfa976897",
     "grade": true,
     "grade_id": "ndarray_question",
     "locked": false,
     "points": 1,
     "schema_version": 3,
     "solution": true,
     "task": false
    }
   },
   "source": [
    "YOUR ANSWER HERE"
   ]
  },
  {
   "cell_type": "markdown",
   "metadata": {},
   "source": [
    "### Define a method in a class (2 points)\n",
    "\n",
    "We start with a canonical example of a class, a `Person` with attributes name and age.  Many intro to python classes use examples like people, cars, cities.  We'll use people.\n",
    "\n",
    "Take a look at the `class` definition below.   Each `Person` is initialized with attributes `self.name` and `self.age`.  The initial state of the class is defined in the `__init__` method.  So, the initial state has these two attributes.  There are also three methods in this class, `self.introduce_person`, `self.inquire_contribution`, and `self.add_relationship`.  \n",
    "\n",
    "\n",
    "The attributes, indicate keep track of the `state` of a given instance of this class.  The methods perform actions on the class attributes, and can change the `state`. \n",
    "\n",
    "Define another method of the `Person` class to `add_relative`, where this method defines the attribute `self.relative` and takes in `relative_to_add` as an argument."
   ]
  },
  {
   "cell_type": "code",
   "execution_count": null,
   "metadata": {
    "deletable": false,
    "nbgrader": {
     "cell_type": "code",
     "checksum": "9befa9ed7ef04fa0141e070eb21e1741",
     "grade": false,
     "grade_id": "cell-e694ba7b42b338d3",
     "locked": false,
     "schema_version": 3,
     "solution": true,
     "task": false
    }
   },
   "outputs": [],
   "source": [
    "class Person :\n",
    "    def __init__(self, name, age) :\n",
    "        self.name = name\n",
    "        self.age = age\n",
    "        not_an_attribute = 'purple monkey dishwasher'\n",
    "    \n",
    "    def introduce_person(self) :\n",
    "        \"\"\"Introduces self\"\"\"\n",
    "        print(\"Hi, my name is %s\"%self.name +\" I am %d\"%self.age)\n",
    "    \n",
    "    def inquire_contribution(self) :\n",
    "        \"\"\"Indicate the historical physics/math/chemistry contribution\"\"\"\n",
    "        try :\n",
    "            print(\"I %s\"%self.contribution)\n",
    "        except AttributeError :\n",
    "            print(\"No contribution yet added\")\n",
    "    \n",
    "    def add_contribution(self, contribution_to_add) :\n",
    "        \"\"\"Add contribution this person made\"\"\"\n",
    "        self.contribution = contribution_to_add\n",
    "    \n",
    "    # YOUR CODE HERE\n",
    "    raise NotImplementedError()"
   ]
  },
  {
   "cell_type": "code",
   "execution_count": null,
   "metadata": {
    "deletable": false,
    "editable": false,
    "nbgrader": {
     "cell_type": "code",
     "checksum": "98f22ef610d5e2544b7cebdc3188c2aa",
     "grade": true,
     "grade_id": "class_Person_add_relative",
     "locked": true,
     "points": 2,
     "schema_version": 3,
     "solution": false,
     "task": false
    }
   },
   "outputs": [],
   "source": [
    "\"\"\"Execute to check you're on the right track\"\"\"\n",
    "assert(\"add_relative\" in dir(Person))"
   ]
  },
  {
   "cell_type": "markdown",
   "metadata": {},
   "source": [
    "### List class attributes and methods (2 points)\n",
    "\n",
    "- List the attributes of `Person` that exist when you instantiate the class.\n",
    "- List the methods of `Person`.\n",
    "- List the attributes of `Person` that will exist after executing other methods."
   ]
  },
  {
   "cell_type": "markdown",
   "metadata": {
    "deletable": false,
    "nbgrader": {
     "cell_type": "markdown",
     "checksum": "a39f057d64507e01a52e3dd40f53c6d2",
     "grade": true,
     "grade_id": "list_class_person_attributes_and_methods",
     "locked": false,
     "points": 2,
     "schema_version": 3,
     "solution": true,
     "task": false
    }
   },
   "source": [
    "YOUR ANSWER HERE"
   ]
  },
  {
   "cell_type": "markdown",
   "metadata": {},
   "source": [
    "## Class instances\n",
    "\n",
    "Below, we define four instances of the `Person` class.  Each one of these people are historical physicists, and we use their final age in the `self.age` attribute.  I picked out two pairs of physicists who are related to one another and share a last name - Richard and Joan Feynman are siblings, and Marie and Pierre Curie are spouses.  The former of each are the more historically famous of each pair, with Richard Feynman and Marie Curie being media popularized Nobel Laureates.  \n",
    "\n",
    "Extra fun fact, in case you find yourself doing trivia night on zoom: Marie Curie received **two** [Nobel prizes](https://en.wikipedia.org/wiki/Marie_Curie#Nobel_Prizes) - one in physics (1903) and one in chemistry (1911).   Pierre Curie also received the 1903 Nobel prize, but Marie Curie's double award likely boosted her historical fame."
   ]
  },
  {
   "cell_type": "code",
   "execution_count": null,
   "metadata": {},
   "outputs": [],
   "source": [
    "richard = Person('Richard Feynman', 69)\n",
    "joan = Person('Joan Feynman', 93)\n",
    "marie = Person('Marie Curie', 66)\n",
    "pierre = Person('Pierre Curie', 46)\n",
    "print(type(joan))"
   ]
  },
  {
   "cell_type": "markdown",
   "metadata": {},
   "source": [
    "You'll notice that in the cell above, the `type` of any of the instances is class `'__main__.Person'`.  Compare this with the `np.ndarray` class when we did the same thing for `test_array`.  The `__main__` module is the module we are currently \"in\", i.e. this jupyter notebook.  We defined the `Person` class here.  The `ndarray` class is defined in the `numpy` module."
   ]
  },
  {
   "cell_type": "markdown",
   "metadata": {},
   "source": [
    "## Use a method in your object\n",
    "\n",
    "In the cell below, we execute one of the methods for the instance `richard`.  We then start a `for` loop to do the same for all instances of the `Person` class we have defined.  Execute the same method in the `for` loop so everyone gets introduced."
   ]
  },
  {
   "cell_type": "code",
   "execution_count": null,
   "metadata": {
    "deletable": false,
    "nbgrader": {
     "cell_type": "code",
     "checksum": "acfdfaeb9ead948f5f547d7a83f0a6e1",
     "grade": true,
     "grade_id": "introduction_loop",
     "locked": false,
     "points": 1,
     "schema_version": 3,
     "solution": true,
     "task": false
    }
   },
   "outputs": [],
   "source": [
    "richard.introduce_person() \n",
    "\n",
    "for physicist in [richard, joan, marie, pierre] :\n",
    "    # YOUR CODE HERE\n",
    "    raise NotImplementedError()"
   ]
  },
  {
   "cell_type": "markdown",
   "metadata": {},
   "source": [
    "In the cell below, we execute another method, `Person.inquire_contribution`.  You'll notice that there is no attribute `Person.contribution` yet. "
   ]
  },
  {
   "cell_type": "code",
   "execution_count": null,
   "metadata": {},
   "outputs": [],
   "source": [
    "richard.inquire_contribution()"
   ]
  },
  {
   "cell_type": "markdown",
   "metadata": {},
   "source": [
    "### Modify an object's state:  ndarray case (1 point)\n",
    "\n",
    "You have modified an object's state before when changing the value in an array element.  In the cell below, modify the last element of `test_array` to be 20 instead of 9 and print `test_array`.   "
   ]
  },
  {
   "cell_type": "code",
   "execution_count": null,
   "metadata": {
    "deletable": false,
    "nbgrader": {
     "cell_type": "code",
     "checksum": "900a3367cb4705c7af36fe6fdd12b06c",
     "grade": false,
     "grade_id": "cell-9197a1cd1ae6ecc5",
     "locked": false,
     "schema_version": 3,
     "solution": true,
     "task": false
    }
   },
   "outputs": [],
   "source": [
    "# Modify the last element of test_array to be 20\n",
    "# YOUR CODE HERE\n",
    "raise NotImplementedError()"
   ]
  },
  {
   "cell_type": "code",
   "execution_count": null,
   "metadata": {
    "deletable": false,
    "editable": false,
    "nbgrader": {
     "cell_type": "code",
     "checksum": "dd6b0449213589bdc6f9d52ef91f673c",
     "grade": true,
     "grade_id": "test_array_modify_last_element",
     "locked": true,
     "points": 0.5,
     "schema_version": 3,
     "solution": false,
     "task": false
    }
   },
   "outputs": [],
   "source": [
    "\"\"\"Execute to check you're on the right track\"\"\"\n",
    "assert(test_array[-1] == 20)"
   ]
  },
  {
   "cell_type": "markdown",
   "metadata": {},
   "source": [
    "## Modify an object's state:  Using the explicit method\n",
    "\n",
    "Note, setting an element uses an under-the-hood method of ndarray:  `ndarray.__setitem__` ([see docs](https://numpy.org/doc/stable/reference/generated/numpy.ndarray.__setitem__.html)).  You'll notice that this particular method, as opposed to something like `ndarray.mean`, is enclosed by double underscores.  These are otherwise known as dunder (double under).  The dunder typically indicates that the method is an **under-the-hood method not to be explicitly used**.  Nonetheless, you'll explicitly use this in the cell below so you can see how this is equivalent to what you did above.  On a related note, the `__init__` is another such method, which happens under-the-hood when you instantiate a class (i.e. when you defined `richard`, `joan`, `marie`, and `pierre`.  \n",
    "\n",
    "In the cell below, use the `__setitem__` method to change the first element of `test_array` to be 10 instead of 0.  Print `test_array` to see the change.  The method takes in two arguments - the first is the index of the element to be set, and the second is the value to set the element to."
   ]
  },
  {
   "cell_type": "code",
   "execution_count": null,
   "metadata": {
    "deletable": false,
    "nbgrader": {
     "cell_type": "code",
     "checksum": "c4f5396311684f4007f06852caeee297",
     "grade": false,
     "grade_id": "cell-741d988beee241cb",
     "locked": false,
     "schema_version": 3,
     "solution": true,
     "task": false
    }
   },
   "outputs": [],
   "source": [
    "# Set the 0th element to 10\n",
    "# YOUR CODE HERE\n",
    "raise NotImplementedError()"
   ]
  },
  {
   "cell_type": "code",
   "execution_count": null,
   "metadata": {
    "deletable": false,
    "editable": false,
    "nbgrader": {
     "cell_type": "code",
     "checksum": "c114f07014b9bc3740d009b96feaeb1b",
     "grade": true,
     "grade_id": "test_array_modify_using_setitem",
     "locked": true,
     "points": 0.5,
     "schema_version": 3,
     "solution": false,
     "task": false
    }
   },
   "outputs": [],
   "source": [
    "\"\"\"Execute to check you're on the right track\"\"\"\n",
    "assert((test_array == np.array([10,1,2,3,4,5,6,7,8,20])).all())"
   ]
  },
  {
   "cell_type": "markdown",
   "metadata": {},
   "source": [
    "## Modify an object's state: Person case (1 point)\n",
    "\n",
    "If you try printing out or outputting the attribute `Person.contribution`, you'll get an `AttributeError`.  Try this in the cell below by just removing the `NotImplementedError` and executing the cell.\n",
    "\n",
    "Now, use the `add_contribution` module.  You can input as an argument, [\"Fundamental work in quantum electrodynamics.\"](https://www.nobelprize.org/prizes/physics/1965/feynman/facts/)  As was mentioned during lecture, quantum electrodynamics is the treatment of E&M as we approach smaller and smaller scales, forming the theory of the interaction of quantized electromagnetic fields.   \n",
    "\n",
    "Once you execute the cell below, you'll see the contribution properly printed.  "
   ]
  },
  {
   "cell_type": "code",
   "execution_count": null,
   "metadata": {
    "deletable": false,
    "nbgrader": {
     "cell_type": "code",
     "checksum": "a965a46b5dfaf223b1bcfc2730b1d0c6",
     "grade": false,
     "grade_id": "cell-ec7d39485f1b0aa9",
     "locked": false,
     "schema_version": 3,
     "solution": true,
     "task": false
    }
   },
   "outputs": [],
   "source": [
    "# An attribute\n",
    "# YOUR CODE HERE\n",
    "raise NotImplementedError()\n",
    "print(richard.contribution)"
   ]
  },
  {
   "cell_type": "code",
   "execution_count": null,
   "metadata": {
    "deletable": false,
    "editable": false,
    "nbgrader": {
     "cell_type": "code",
     "checksum": "853fb19359719f70430959d264cb5934",
     "grade": true,
     "grade_id": "cell-fdb9565276766582",
     "locked": true,
     "points": 1,
     "schema_version": 3,
     "solution": false,
     "task": false
    }
   },
   "outputs": [],
   "source": [
    "\"\"\"Execute to check you're on the right track\"\"\"\n",
    "assert('contribution' in dir(richard))"
   ]
  },
  {
   "cell_type": "markdown",
   "metadata": {},
   "source": [
    "### Aside of control flow\n",
    "Recall, when we last inquired the contribution of a physicist, we got \"No contribution yet added\" printed to screen instead of an `AttributeError`.  That is because we had a `try` and `except` statement.  This is analogous to an `if` and `else`.  \n",
    "```\n",
    "if test_array[0] == 10 :\n",
    "    print(\"I changed the first element\")\n",
    "else :\n",
    "    print(\"I did not change the first element\")\n",
    "```\n",
    "\n",
    "These are further examples of [control flow](https://www.oreilly.com/library/view/python-in-a/0596001886/ch04s09.html) in python.  You've already seen examples of `for` loops and `while` loops.  The `try` and `except` statement allows you to keep the program from throwing an error and exiting (if you predict the error, and in this case we are predicting an `AssertionError`) and to do something else when the predicted error is thrown (in this case, print 'No contribution yet added').   See below."
   ]
  },
  {
   "cell_type": "code",
   "execution_count": null,
   "metadata": {},
   "outputs": [],
   "source": [
    "richard.inquire_contribution()\n",
    "joan.inquire_contribution()"
   ]
  },
  {
   "cell_type": "markdown",
   "metadata": {},
   "source": [
    "### Use other methods (2 points)\n",
    "\n",
    "In the cell below, do the following:\n",
    "\n",
    "- Add relatives to all instances of `Person` (i.e. all objects corresponding to the four physicists), analogous to how you added Richard Feynman's contribution above. Joan would have \"Richard: Sibling\" (and vice versa), Pierre would have \"Marie: Spouse\" (and vice versa) \n",
    "- Add Marie Curie and Pierre Curie's contribution that led to the Nobel Prize awarded to both, [\"established an understanding of radioactivity\"](https://www.nobelprize.org/prizes/physics/1965/feynman/facts/).  "
   ]
  },
  {
   "cell_type": "code",
   "execution_count": null,
   "metadata": {
    "deletable": false,
    "nbgrader": {
     "cell_type": "code",
     "checksum": "d54e9600df868e4b75f9de221b7f78f0",
     "grade": false,
     "grade_id": "cell-44f857b4b53a445f",
     "locked": false,
     "schema_version": 3,
     "solution": true,
     "task": false
    }
   },
   "outputs": [],
   "source": [
    "# Add relationships and one of Marie Curie's contributions here\n",
    "# YOUR CODE HERE\n",
    "raise NotImplementedError()"
   ]
  },
  {
   "cell_type": "code",
   "execution_count": null,
   "metadata": {
    "deletable": false,
    "editable": false,
    "nbgrader": {
     "cell_type": "code",
     "checksum": "26a75550c128f6579c52a1ba1e7a74e9",
     "grade": true,
     "grade_id": "use_other_person_methods",
     "locked": true,
     "points": 1,
     "schema_version": 3,
     "solution": false,
     "task": false
    }
   },
   "outputs": [],
   "source": [
    "\"\"\"Execute to check you're on the right track\"\"\"\n",
    "for physicist in [richard, joan, marie, pierre] :\n",
    "    assert('relative' in dir(physicist))\n",
    "assert('contribution' in dir(marie))\n",
    "assert('contribution' in dir(pierre))\n",
    "marie.inquire_contribution()\n",
    "pierre.inquire_contribution()"
   ]
  },
  {
   "cell_type": "markdown",
   "metadata": {},
   "source": [
    "### Change the state again (1 point)\n",
    "In the cell below, we change the state of the instance, `marie`, yet again.  Add Marie Curie's contribution that led to the Nobel Prize in 1911, having \"produced radium as a pure metal, proving the new element's existence\".  This particular scientific advancement is the basis on which radioactive compounds are used to treat tumors in modern-day medicine."
   ]
  },
  {
   "cell_type": "code",
   "execution_count": null,
   "metadata": {
    "deletable": false,
    "nbgrader": {
     "cell_type": "code",
     "checksum": "b402465cd0064d9c772b5b7cda6edd48",
     "grade": false,
     "grade_id": "cell-c7ee799877ff736c",
     "locked": false,
     "schema_version": 3,
     "solution": true,
     "task": false
    }
   },
   "outputs": [],
   "source": [
    "# Add Marie Curie's contribution for the second Nobel prize here\n",
    "# YOUR CODE HERE\n",
    "raise NotImplementedError()"
   ]
  },
  {
   "cell_type": "code",
   "execution_count": null,
   "metadata": {
    "deletable": false,
    "editable": false,
    "nbgrader": {
     "cell_type": "code",
     "checksum": "84f30a4887dd782c3669d1b8003b3411",
     "grade": true,
     "grade_id": "change_state_again",
     "locked": true,
     "points": 1,
     "schema_version": 3,
     "solution": false,
     "task": false
    }
   },
   "outputs": [],
   "source": [
    "\"\"\"Execute to check you're on teh right track\"\"\"\n",
    "assert('contribution' in dir(marie))\n",
    "marie.inquire_contribution()"
   ]
  },
  {
   "cell_type": "markdown",
   "metadata": {},
   "source": [
    "You'll notice that Marie Curie's first Nobel awarded contribution was completely overwritten by the second, not added to the text.  Food for thought - how might you modify the original definition of the class `Person` such that you actually add contributions instead of overwriting?"
   ]
  },
  {
   "cell_type": "markdown",
   "metadata": {},
   "source": [
    "### Final thoughts\n",
    "\n",
    "Joan Feynman was awarded a NASA Exceptional Achievement medal for her contributions in solar wind particles and fields.  As an example contribution, Joan Feynman \"developed an understanding of the origin of auroras.\"  This is probably one of the coolest things to have studied IMO.  (See [really cool NASA infographic](https://spaceplace.nasa.gov/aurora/en/) for the general public - something definitely shareable with friends and family not explicitly studying physics).  Auroras are a visually appealing example of charged particles in a magnetic field, which you'll learn more about later."
   ]
  },
  {
   "cell_type": "code",
   "execution_count": null,
   "metadata": {},
   "outputs": [],
   "source": [
    "joan.add_contribution(\"developed an understanding of the origin of auroras\")\n",
    "joan.inquire_contribution()"
   ]
  }
 ],
 "metadata": {
  "kernelspec": {
   "display_name": "Python 3",
   "language": "python",
   "name": "python3"
  },
  "language_info": {
   "codemirror_mode": {
    "name": "ipython",
    "version": 3
   },
   "file_extension": ".py",
   "mimetype": "text/x-python",
   "name": "python",
   "nbconvert_exporter": "python",
   "pygments_lexer": "ipython3",
   "version": "3.8.5"
  }
 },
 "nbformat": 4,
 "nbformat_minor": 2
}
