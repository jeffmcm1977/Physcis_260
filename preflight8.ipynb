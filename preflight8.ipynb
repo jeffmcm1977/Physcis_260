{
 "cells": [
  {
   "cell_type": "markdown",
   "metadata": {},
   "source": [
    "# Phys 260: Python assignment header\n",
    "\n",
    "### (1) Fill out the cell below.  \n",
    "The cell below is a **code cell**.  Fill out your University of Michigan uniqname, then your name, and collaborators in the cell below **inside the quotes**.  \n",
    "\n",
    "**Do not delete the quotes.**  We will use this information to organize your assignments.  To edit and execute cells, double click inside the cell, type, and press \\<shift\\>+\\<enter\\> to execute."
   ]
  },
  {
   "cell_type": "code",
   "execution_count": null,
   "metadata": {},
   "outputs": [],
   "source": [
    "UNIQNAME = \"\"\n",
    "NAME = \"\"\n",
    "COLLABORATORS = \"\""
   ]
  },
  {
   "cell_type": "markdown",
   "metadata": {},
   "source": [
    "### (2) Check your python version.  \n",
    "**Execute the cell below** (double click in the cell and press \\<shift\\>+\\<enter\\>, or click in the cell and press the Run button) to check that you are using a version of python that is compatible with the tool we are using to grade your assignments.  If your ```IPython``` version is too old, we will *not* be able to grade your assignments."
   ]
  },
  {
   "cell_type": "code",
   "execution_count": null,
   "metadata": {},
   "outputs": [],
   "source": [
    "import IPython\n",
    "assert IPython.version_info[0] >= 3, \"Your version of IPython is too old, please update it.\""
   ]
  },
  {
   "cell_type": "markdown",
   "metadata": {},
   "source": [
    "### (3) Do your best to answer all questions in the assignment.  \n",
    "To answer questions, **replace** anything that says either\n",
    "- \"YOUR ANSWER HERE\" \n",
    "- \n",
    "```\n",
    "YOUR CODE HERE\n",
    "raise NotImplementedError\n",
    "``` \n",
    "\n",
    "with your answer/code.  Cells with either of the two bullet points above are cells of the notebook that will be graded.\n",
    "\n",
    "**To edit markdown** cells (e.g. this one),  *double click in the cell to type*.  Press \\<shift\\>+\\<enter\\> to execute the cell.  Try editing the text below to replace the with your information:  \n",
    "\n",
    "[first name] [last name], uniqname\n"
   ]
  },
  {
   "cell_type": "markdown",
   "metadata": {},
   "source": [
    "### (4) Make sure your notebook runs sequentially.\n",
    "After you complete this assignment, make sure everything runs as expected. First, **restart the kernel** (in the menubar, select Kernel$\\rightarrow$Restart) and then **run all cells** (in the menubar, select Cell$\\rightarrow$Run All)."
   ]
  },
  {
   "cell_type": "code",
   "execution_count": null,
   "metadata": {},
   "outputs": [],
   "source": []
  },
  {
   "cell_type": "markdown",
   "metadata": {},
   "source": [
    "# Phys 260 Python Preflight 8: Review of time integration in circuits  (10 points total)\n",
    "\n",
    "## Preflight Summary\n",
    "- Brief review of time integration in circuits with a more complex case (preparing for RLC circuits)"
   ]
  },
  {
   "cell_type": "code",
   "execution_count": 1,
   "metadata": {},
   "outputs": [],
   "source": [
    "import numpy as np\n",
    "from matplotlib import pyplot as plt"
   ]
  },
  {
   "cell_type": "markdown",
   "metadata": {},
   "source": [
    "## Brief Review of Numerically Solving Circuits\n",
    "\n",
    "Most simple circuits can be solved using a variety of techniques.  As circuits become more complicated, or as the signals the circuits are processing become more complicated, finding an exact solution can become more difficult.  \n",
    "\n",
    "We learned in class that\n",
    "\\begin{equation}\n",
    "I = \\frac {dQ} {dt}\n",
    "\\end{equation}\n",
    "\n",
    "This simple definition implies that many circuits can be expressed in the language of differential equations. The purpose of this assignment is to learn how to solve these equations numerically. \n",
    "\n",
    "Consider a first-order equations of the form:\n",
    "\\begin{equation}\n",
    "\\frac {dx} {dt} = f(x,t).\n",
    "\\end{equation}\n",
    "\n",
    "The solution to this equation is a function $x(t)$ whose first derivative is $f$.\n",
    "To find the solution to such an equation, we also need boundary conditions, or starting points.  Suppose that we have a first-order differential equation and know the value of $x$ for some specific time $t$, that is we know $x(t)$.  The we can write the value of x some short time later as\n",
    "\\begin{equation}\n",
    "x(t+h) = x(t) + h \\frac {dx} {dt} + \\frac 1 2 h^2 \\frac {d^2x} {dt^2} + ...\n",
    "\\end{equation}\n",
    "\n",
    "\\begin{equation}\n",
    "x(t+h) = x(t) + h f(x,t) + h^2 \\frac {df(x,t)} {dt} + ...\n",
    "\\end{equation}\n",
    "\n",
    "If $h$ is small then $h^2$ is really small, and we can ignore it, and all higher terms of $h^n$.  This technique is called **Euler's method**.\n",
    "\n",
    "Using this, if we know the value of $x$ at some time $t$ we can find the value at some short time later.  We can then repeat this process and understand how $x$ changes over time. The set of $x$ values at a discrete set of $t$ values is the numerical solution to our differential equation.\n",
    "\n",
    "We also saw a more accurate method for time integration, called the **Runge-Kutta method**.\n",
    "\n",
    "\n",
    "\n",
    "**Preflight**\n",
    "- Numerically solving a more complex RC circuit"
   ]
  },
  {
   "cell_type": "markdown",
   "metadata": {},
   "source": [
    "### A more complex RC circuit\n",
    "\n",
    "In the problems above, you considered a simple $RC$ circuit. Now consider something a little more complicated:\n",
    "<img src=\"http://www-personal.umich.edu/~gerdes/img/RC_1.jpg\" height=\"400\" width=\"400\">\n",
    "\n",
    "You have seen circuits like this as written homework problems, and determined the time constant for charging the capacitor. Your task now is to model this circuit numerically using the same techniques as you did for the simple $RC$ circuit from Tutorial/HW 6. We will assume the values of the components are all known, and that the capacitor is uncharged at $t=0$. You wil need to find the charge $Q$ on the capacitor, and the three currents $I_1$, $I_2$, and $I_3$, as a function of time.  "
   ]
  },
  {
   "cell_type": "markdown",
   "metadata": {},
   "source": [
    "## Introduction to Latex\n",
    "\n",
    "LaTeX (normally pronounced 'lah-tek' or 'lay-tek') is an incredibly useful typesetting language, and we can use its math mode in markdown cells to display equations. You can find an introduction <a href = \"https://www.overleaf.com/learn/latex/mathematical_expressions\">here</a>.\n",
    "\n",
    "The main commands you will need for the following exercises are:\n",
    "- Inline mathmode with \\\\$ ... \\\\$ (e.g. \\\\$y = mx + t\\\\$ $\\rightarrow y = mx + t$)\n",
    "- Fractions with \\frac{}{} within mathmode (e.g. \\\\$\\frac{1}{2}\\\\$ $\\rightarrow \\frac{1}{2}$)\n",
    "- Multi-line mathmode with \\\\begin{eqnarray} ... \\ end{eqnarray}, & as alignment character and \\\\\\\\ to end a line. Look at the code in the instruction cells to see its usage."
   ]
  },
  {
   "cell_type": "markdown",
   "metadata": {},
   "source": [
    "### Using LaTeX: Equations of motion (2 points)\n",
    "\n",
    "Using Kirchhoff's rules we can write down four linearly independent equations involving the three unknowns $Q$, $I_1$, $I_2$, and $I_3$,\n",
    "\\begin{eqnarray}\n",
    "I_3&=&\\left(I_2R_2 + \\frac{Q}{C}\\right)/R_3 \\;\\;\\;(1)\\\\\n",
    "I_2&=& \\left(V - \\frac{I_1}{R_1} - \\frac{Q}{C}\\right)/R_2 \\;\\;\\;(2) \\\\  \n",
    "I_1&=&  I_{2}+ I_{3} \\;\\;\\;(3)  \\\\\n",
    "\\end{eqnarray} \n",
    "and, with the new $I_2=\\frac{dQ}{dt}$, we know what to add to calculate the Q at the next timestep.  Thus, we have the relationships to update each $I$ and $Q$.  You will notice that we have written this in the order such that the current at the next timestep, i+1 step, depends on values from the previous timestep, ith step, (e.g. $I_{3,i+1}=I_{3,i+1}(I_{2,i},Q_{i})$).\n",
    "\n",
    "Show, in the next cell, how we arrive at these relationships."
   ]
  },
  {
   "cell_type": "markdown",
   "metadata": {
    "deletable": false,
    "nbgrader": {
     "cell_type": "markdown",
     "checksum": "d139adf5b3b8872f8f1f4ff7edc66122",
     "grade": true,
     "grade_id": "cell-1da99c8c80fc78d3",
     "locked": false,
     "points": 2,
     "schema_version": 3,
     "solution": true,
     "task": false
    }
   },
   "source": [
    "YOUR ANSWER HERE"
   ]
  },
  {
   "cell_type": "markdown",
   "metadata": {},
   "source": [
    "### Using LaTeX: Initial conditions (2 points)\n",
    "\n",
    "Write down the four initial conditions of what you want to solve for: the current in each of the three branches and the charge.  *Hint:* First write down the $R_{eq}$ at $t=0$ when the uncharged capacitor acts as a wire, and you can write down initial currents in terms of $R_{eq}$.  "
   ]
  },
  {
   "cell_type": "markdown",
   "metadata": {
    "deletable": false,
    "nbgrader": {
     "cell_type": "markdown",
     "checksum": "da34fd86ea77fdf5d337d3b074e5af5c",
     "grade": true,
     "grade_id": "cell-665ce9f24f0ba39d",
     "locked": false,
     "points": 2,
     "schema_version": 3,
     "solution": true,
     "task": false
    }
   },
   "source": [
    "YOUR ANSWER HERE"
   ]
  },
  {
   "cell_type": "markdown",
   "metadata": {},
   "source": [
    "#### Define a class that models the complex RC circuit (3 points)\n",
    "\n",
    "Fill out the class below, `RCCircuitComplex`.  You will want to also define the characteristic timescale, `self.tau`, defined as $\\tau=(R_2 + R_1R_3/(R_1 + R_3))C$ ($R_2$ is in series with the capacitor, and $R_1$ and $R_3$ branch off in parallel from the current in the capacitor)."
   ]
  },
  {
   "cell_type": "code",
   "execution_count": null,
   "metadata": {
    "deletable": false,
    "nbgrader": {
     "cell_type": "code",
     "checksum": "234c089e41b257f83b75ad8671d055f1",
     "grade": true,
     "grade_id": "cell-5bca1fee6efe40f8",
     "locked": false,
     "points": 3,
     "schema_version": 3,
     "solution": true,
     "task": false
    }
   },
   "outputs": [],
   "source": [
    "class RCCircuitComplex :\n",
    "    \"\"\" Models the more complex RCCircuit with three branches\n",
    "    \"\"\"\n",
    "    def __init__(self, r1, r2, r3, capacitance, q_capacitor, voltage_battery) :\n",
    "        \"\"\"\n",
    "        Parameters\n",
    "        ----------\n",
    "        r1 : float\n",
    "            value of resistance in ohms\n",
    "        r2 : float\n",
    "            value of resistance in ohms\n",
    "        r3 : float\n",
    "            value of resistance in ohms\n",
    "        capacitance : float \n",
    "            value of capacitance in Farads\n",
    "        q_capacitor : float\n",
    "            initial charge on capacitor\n",
    "        voltage_battery : float\n",
    "            voltage across battery\n",
    "        \"\"\"\n",
    "        \n",
    "        # Set, as attributes, constants of the problem (including self.tau, the equivalent to the rc_constant)\n",
    "        self.r1 = r1\n",
    "        self.r2 = r2\n",
    "        self.r3 = r3\n",
    "        self.capacitance = capacitance\n",
    "        self.voltage_battery = voltage_battery\n",
    "        self.tau = (r2+r1*r3/(r1+r3))*capacitance\n",
    "        \n",
    "        # Use initial conditions to set the \"now\" values of the problem as attributes \n",
    "        # (i1_now, i2_now, i3_now, q_now, t_now)\n",
    "        # YOUR CODE HERE\n",
    "        raise NotImplementedError()\n",
    "        \n",
    "        # Initialize the current, charge, and timesteps\n",
    "        self.i1_vals = []\n",
    "        self.i2_vals = []\n",
    "        self.i3_vals = []\n",
    "        self.q_vals = []\n",
    "        self.timesteps = np.array([]) \n",
    "\n",
    "    def _set_now_vals(self) :\n",
    "        \"\"\"Calculate \"now\" current and capacitor charge in terms of other attributes, setting attributes\"\"\"\n",
    "        # YOUR CODE HERE\n",
    "        raise NotImplementedError()\n",
    "                \n",
    "    def _set_timesteps(self, num_timescales, num_timesteps_per_timescale) :        \n",
    "        \"\"\"Internal method. Sets the attributes num_timesteps and dt.\n",
    "        Parameters\n",
    "        ----------\n",
    "        num_timescales : floattimestep \n",
    "            number of timescales to evolve over\n",
    "        num_timesteps_per_timescale : int\n",
    "            number of timesteps per characteristic timescale, defines the time resolution \n",
    "        \"\"\"\n",
    "        \n",
    "        self.dt = self.tau / num_timesteps_per_timescale\n",
    "        print(self.dt)\n",
    "\n",
    "        next_timesteps = np.arange(0, self.tau * num_timescales, self.dt)\n",
    "        print('next_timesteps shape: ',next_timesteps.shape)\n",
    "        try :\n",
    "            last_timestep = self.timesteps[-1]\n",
    "            next_timesteps += last_timestep\n",
    "            self.timesteps = np.concatenate([self.timesteps, next_timesteps])\n",
    "            \n",
    "        except IndexError : \n",
    "            self.timesteps = next_timesteps        \n",
    "\n",
    "    def evolve_circuit(self, num_timescales, num_timesteps_per_timescale) :\n",
    "        \"\"\"Evolve the spring, populate the acceleration, velocity and position (a_vals, v_vals, x_vals)\n",
    "        Parameters\n",
    "        ----------\n",
    "        num_periods : float\n",
    "            number of periods to evolve over\n",
    "        num_timesteps_per_period : int\n",
    "            number of timesteps per period, defines the time resolution         \n",
    "        \"\"\"\n",
    "        \n",
    "        self._set_timesteps(num_timescales, num_timesteps_per_timescale)\n",
    "\n",
    "        # Time evolve the circuit using self._set_now_vals() and store values at each timestep\n",
    "        # YOUR CODE HERE\n",
    "        raise NotImplementedError()"
   ]
  },
  {
   "cell_type": "markdown",
   "metadata": {},
   "source": [
    "### Plot the model (1 points)\n",
    "\n",
    "Plot the model for this circuit with the following circuit components:\n",
    "* $V = 10$ V\n",
    "* $R_1 = 10~\\Omega$\n",
    "* $R_2 = 20~\\Omega$\n",
    "* $R_3 = 15~\\Omega$\n",
    "* $C = 1.0~\\mu$F\n",
    "\n",
    "I recommend you time evolve over 5 characteristic timescales, and plot with time in units of $\\tau$.  Full credit for making the following plots:\n",
    "* $I_1$, $I_2$, and $I_3$ vs. time\n",
    "* Voltage on $C$ vs. time"
   ]
  },
  {
   "cell_type": "code",
   "execution_count": null,
   "metadata": {
    "deletable": false,
    "nbgrader": {
     "cell_type": "code",
     "checksum": "713be0d0df549fe0a4f42c4d00ca740b",
     "grade": true,
     "grade_id": "cell-6179940afcd42a97",
     "locked": false,
     "points": 1,
     "schema_version": 3,
     "solution": true,
     "task": false
    }
   },
   "outputs": [],
   "source": [
    "#  Define an instance of RCCircuitComplex, time evolve, and plot\n",
    "\n",
    "# YOUR CODE HERE\n",
    "raise NotImplementedError()"
   ]
  },
  {
   "cell_type": "markdown",
   "metadata": {},
   "source": [
    "### Discuss the plot (1 point)\n",
    "\n",
    "In the markdown cell below, discuss your plots.  For example, relate how the currents evolve over time.  For the voltage across the capacitor, does the asymptotal behavior make sense?  The time constant is defined as the amount of time to reach one e-folding time ($\\approx$2.718).  When does the capacitor reach (1-e) of its final charge (or voltage)?  Does this make sense?"
   ]
  },
  {
   "cell_type": "markdown",
   "metadata": {
    "deletable": false,
    "nbgrader": {
     "cell_type": "markdown",
     "checksum": "0d84dbad88d9c1da29945a50756f30ed",
     "grade": true,
     "grade_id": "cell-1db937b7195e6403",
     "locked": false,
     "points": 1,
     "schema_version": 3,
     "solution": true,
     "task": false
    }
   },
   "source": [
    "YOUR ANSWER HERE"
   ]
  },
  {
   "cell_type": "markdown",
   "metadata": {},
   "source": [
    "### Plot a loop rule (1 point)\n",
    "\n",
    "Choose one of the loops in the \"more complex circuit\".  Plot the sum of the voltage drops in this loop. You will notice that it does not quite stay at zero due to time integration errors."
   ]
  },
  {
   "cell_type": "code",
   "execution_count": null,
   "metadata": {
    "deletable": false,
    "nbgrader": {
     "cell_type": "code",
     "checksum": "ef691300574bd4b54b3c72e94f58da8b",
     "grade": true,
     "grade_id": "cell-626ae739f36d246b",
     "locked": false,
     "points": 1,
     "schema_version": 3,
     "solution": true,
     "task": false
    }
   },
   "outputs": [],
   "source": [
    "# Plot loop rule here\n",
    "# YOUR CODE HERE\n",
    "raise NotImplementedError()"
   ]
  }
 ],
 "metadata": {
  "kernelspec": {
   "display_name": "Python 3",
   "language": "python",
   "name": "python3"
  },
  "language_info": {
   "codemirror_mode": {
    "name": "ipython",
    "version": 3
   },
   "file_extension": ".py",
   "mimetype": "text/x-python",
   "name": "python",
   "nbconvert_exporter": "python",
   "pygments_lexer": "ipython3",
   "version": "3.8.10"
  }
 },
 "nbformat": 4,
 "nbformat_minor": 2
}
