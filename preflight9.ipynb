{
 "cells": [
  {
   "cell_type": "markdown",
   "metadata": {},
   "source": [
    "# Phys 260: Python assignment header\n",
    "\n",
    "### (1) Fill out the cell below.  \n",
    "The cell below is a **code cell**.  Fill out your University of Michigan uniqname, then your name, and collaborators in the cell below **inside the quotes**.  \n",
    "\n",
    "**Do not delete the quotes.**  We will use this information to organize your assignments.  To edit and execute cells, double click inside the cell, type, and press \\<shift\\>+\\<enter\\> to execute."
   ]
  },
  {
   "cell_type": "code",
   "execution_count": null,
   "metadata": {},
   "outputs": [],
   "source": [
    "UNIQNAME = \"\"\n",
    "NAME = \"\"\n",
    "COLLABORATORS = \"\""
   ]
  },
  {
   "cell_type": "markdown",
   "metadata": {},
   "source": [
    "### (2) Check your python version.  \n",
    "**Execute the cell below** (double click in the cell and press \\<shift\\>+\\<enter\\>, or click in the cell and press the Run button) to check that you are using a version of python that is compatible with the tool we are using to grade your assignments.  If your ```IPython``` version is too old, we will *not* be able to grade your assignments."
   ]
  },
  {
   "cell_type": "code",
   "execution_count": null,
   "metadata": {},
   "outputs": [],
   "source": [
    "import IPython\n",
    "assert IPython.version_info[0] >= 3, \"Your version of IPython is too old, please update it.\""
   ]
  },
  {
   "cell_type": "markdown",
   "metadata": {},
   "source": [
    "### (3) Do your best to answer all questions in the assignment.  \n",
    "To answer questions, **replace** anything that says either\n",
    "- \"YOUR ANSWER HERE\" \n",
    "- \n",
    "```\n",
    "YOUR CODE HERE\n",
    "raise NotImplementedError\n",
    "``` \n",
    "\n",
    "with your answer/code.  Cells with either of the two bullet points above are cells of the notebook that will be graded.\n",
    "\n",
    "**To edit markdown** cells (e.g. this one),  *double click in the cell to type*.  Press \\<shift\\>+\\<enter\\> to execute the cell.  Try editing the text below to replace the with your information:  \n",
    "\n",
    "[first name] [last name], uniqname\n"
   ]
  },
  {
   "cell_type": "markdown",
   "metadata": {},
   "source": [
    "### (4) Make sure your notebook runs sequentially.\n",
    "After you complete this assignment, make sure everything runs as expected. First, **restart the kernel** (in the menubar, select Kernel$\\rightarrow$Restart) and then **run all cells** (in the menubar, select Cell$\\rightarrow$Run All)."
   ]
  },
  {
   "cell_type": "code",
   "execution_count": null,
   "metadata": {},
   "outputs": [],
   "source": []
  },
  {
   "cell_type": "markdown",
   "metadata": {},
   "source": [
    "# Phys 260 Python Preflight 9: Simple circuits with inductors  (10 points total)\n",
    "\n",
    "## Preflight Summary\n",
    "- Model of a circuit with R, L and C components\n",
    "\n",
    "In this assignment we will examine the effect of inductors in circuits.  For the tutorial/hw, we will introduce the concept of alternating-current circuits. \n",
    "\n",
    "The canonical example of an inductor is a solenoid. When you run a current through a solenoid, it develops a magnetic field. If this current is changing, the magnetic field in the solenoid is changing too. And if that happens, the solenoid experiences a changing magnetic flux through itself. Faraday's law tells us that this will result in an emf in the solenoid that's in a direction to oppose the change in flux. \n",
    "\n",
    "The induced emf in the solenoid is proportional to the rate of change of the current, so we can write it as:\n",
    "$$\n",
    "    V_L = -L\\frac{dI}{dt}.\n",
    "$$\n",
    "$L$ is a proportionality constant called the <b>inductance</b>. It's measured in Henries. \n",
    "\n",
    "Like capacitance, inductance is a geometrical quantity. We'll calculate it explicitly for a solenoid in class. Physically, inductors prevent currents from changing too quickly. If $dI/dt$ is large, the inductor will generate a large opposing emf that limits the current. Surge protectors are basically big inductors.\n",
    "\n",
    "Inductors contribute to Kirchhoff's loop rule, just like resistors, capacitors, and batteries do. So we can solve circuits with inductors using techniques similar to what you did in the previous preflight."
   ]
  },
  {
   "cell_type": "code",
   "execution_count": null,
   "metadata": {},
   "outputs": [],
   "source": [
    "import numpy as np\n",
    "from matplotlib import pyplot as plt"
   ]
  },
  {
   "cell_type": "markdown",
   "metadata": {},
   "source": [
    "## Part 1 (10 points): A simple RL circuit\n",
    "\n",
    "Consider this circuit:\n",
    "\n",
    "<img src=\"http://www-personal.umich.edu/~gerdes/img/LR_DC.jpg\">\n"
   ]
  },
  {
   "cell_type": "markdown",
   "metadata": {},
   "source": [
    "### LaTeX the solution (4 points)\n",
    "At $t=0$ the switch is closed.  Use LaTeX in the cell below to: \n",
    "- Write the loop rule (sum of voltage drops) for this circuit,\n",
    "- Write the solution for the differential equation, $I(t)$, in terms of $V_{\\rm batt}$, R, and L,\n",
    "- Write the expression for the time constant, $\\tau$,\n",
    "- Write the voltage drop across the inductor as a function of time, $V_{L}$, in terms of $V_{\\rm batt}$ and $\\tau$.  Note, $V_{L}=-L\\frac{dI}{dt}$.  This will be useful in modeling the current evolution."
   ]
  },
  {
   "cell_type": "markdown",
   "metadata": {
    "deletable": false,
    "nbgrader": {
     "cell_type": "markdown",
     "checksum": "5de539421536a63fa7f4a7a5718e8578",
     "grade": true,
     "grade_id": "cell-01406401414c8319",
     "locked": false,
     "points": 4,
     "schema_version": 3,
     "solution": true,
     "task": false
    }
   },
   "source": [
    "YOUR ANSWER HERE"
   ]
  },
  {
   "cell_type": "markdown",
   "metadata": {},
   "source": [
    "### Create a class to model the RL circuit (2 points)\n",
    "\n",
    "As a check, your LaTeX equations should show that the current starts at zero and exponentially approaches its asymptotic value of $V/R$ (as the inductor approaches the behavior of a wire).  The inductor voltage starts out at $V$ and exponentially decays to zero as the current becomes steady (no change in current means no voltage drop across the inductor).\n",
    "\n",
    "In the cell below, create a class to model the RL circuit.  You may want to refer to the structure from the previous preflight.  Some differences include the fact that there is only one current, the initial current is zero (e.g. the `self.i_now`), and the characteristic timescale `self.tau` is different.\n",
    "\n",
    "One recommendation in updating the now value step is to calculate the voltage drop across the inductor, given the current, then update the current "
   ]
  },
  {
   "cell_type": "code",
   "execution_count": null,
   "metadata": {
    "deletable": false,
    "nbgrader": {
     "cell_type": "code",
     "checksum": "206aa4a553f6c0b36f4db33ed589653f",
     "grade": false,
     "grade_id": "cell-c09b769a8d55e1d4",
     "locked": false,
     "schema_version": 3,
     "solution": true,
     "task": false
    }
   },
   "outputs": [],
   "source": [
    "class RLCircuit :\n",
    "    def __init__(self,voltage_battery, resistance, inductance) :\n",
    "        \"\"\"\n",
    "        Parameters\n",
    "        ----------\n",
    "        voltage_battery : float\n",
    "            voltage across battery\n",
    "        resistance : float\n",
    "            value of resistance in ohms\n",
    "        inductance : float \n",
    "            value of inductance in Henries\n",
    "        \"\"\"\n",
    "        \n",
    "        self.voltage_battery = voltage_battery\n",
    "        self.resistance = resistance\n",
    "        self.inductance = inductance\n",
    "        \n",
    "        # Initialize other necessary attributes \n",
    "        # YOUR CODE HERE\n",
    "        raise NotImplementedError()\n",
    "\n",
    "        \n",
    "    def _set_now_vals(self) :\n",
    "        \"\"\"Calculate \"now\" current in terms of other attributes, setting attributes\"\"\"\n",
    "        # YOUR CODE HERE\n",
    "        raise NotImplementedError()\n",
    "        \n",
    "    def _set_timesteps(self, num_timescales, num_timesteps_per_timescale) :        \n",
    "        \"\"\"Internal method. Sets the attributes num_timesteps and dt.\n",
    "        Parameters\n",
    "        ----------\n",
    "        num_timescales : floattimestep \n",
    "            number of timescales to evolve over\n",
    "        num_timesteps_per_timescale : int\n",
    "            number of timesteps per characteristic timescale, defines the time resolution \n",
    "        \"\"\"\n",
    "        \n",
    "        self.dt = self.tau / num_timesteps_per_timescale\n",
    "        print(self.dt)\n",
    "\n",
    "        next_timesteps = np.arange(0, self.tau * num_timescales, self.dt)\n",
    "        print('next_timesteps shape: ',next_timesteps.shape)\n",
    "        try :\n",
    "            last_timestep = self.timesteps[-1]\n",
    "            next_timesteps += last_timestep\n",
    "            self.timesteps = np.concatenate([self.timesteps, next_timesteps])\n",
    "            \n",
    "        except IndexError : \n",
    "            self.timesteps = next_timesteps        \n",
    "\n",
    "    def evolve_circuit(self, num_timescales, num_timesteps_per_timescale) :\n",
    "        \"\"\"Evolve the spring, populate the acceleration, velocity and position (a_vals, v_vals, x_vals)\n",
    "        Parameters\n",
    "        ----------\n",
    "        num_periods : float\n",
    "            number of periods to evolve over\n",
    "        num_timesteps_per_period : int\n",
    "            number of timesteps per period, defines the time resolution         \n",
    "        \"\"\"\n",
    "        \n",
    "        self._set_timesteps(num_timescales, num_timesteps_per_timescale)\n",
    "\n",
    "        # Time evolve the circuit using self._set_now_vals() and store values at each timestep\n",
    "        # YOUR CODE HERE\n",
    "        raise NotImplementedError()"
   ]
  },
  {
   "cell_type": "code",
   "execution_count": null,
   "metadata": {
    "deletable": false,
    "editable": false,
    "nbgrader": {
     "cell_type": "code",
     "checksum": "a9146c34fd12ee3ee86b9d858cf12e0a",
     "grade": true,
     "grade_id": "cell-a41d7f626ccbd6c1",
     "locked": true,
     "points": 2,
     "schema_version": 3,
     "solution": false,
     "task": false
    }
   },
   "outputs": [],
   "source": [
    "\"\"\"Execute to check you're on the right track\"\"\"\n",
    "test_rl = RLCircuit(10,1,1)\n",
    "test_rl.evolve_circuit(5,100)\n",
    "assert(test_rl.i_vals[0] < test_rl.i_vals[-1])"
   ]
  },
  {
   "cell_type": "markdown",
   "metadata": {},
   "source": [
    "### Create an instance and plot (2 points)\n",
    "Create an instance of `RLCircuit` with the following components:\n",
    "* V = 10 Volts\n",
    "* R = 1 $\\Omega$\n",
    "* L = 1 H\n",
    "\n",
    "Time evolve and plot:\n",
    "* On the same axis: Voltage across the resistor vs. time (in units of $\\tau$) and Voltage across the inductor vs. time.  Note, you may find it useful to store the voltage across the inductor at each timestep, but there are multiple ways to do this.\n",
    "* On the same axis: Power delivered to the resistor vs. time and power delivered to the inductor vs. time (in units of $\\tau$). Recall that $P = IV$. "
   ]
  },
  {
   "cell_type": "code",
   "execution_count": null,
   "metadata": {
    "deletable": false,
    "nbgrader": {
     "cell_type": "code",
     "checksum": "5f6ffe9578fa3820d49e717753c59f36",
     "grade": true,
     "grade_id": "cell-8b2ef77437a9350f",
     "locked": false,
     "points": 2,
     "schema_version": 3,
     "solution": true,
     "task": false
    }
   },
   "outputs": [],
   "source": [
    "# YOUR CODE HERE\n",
    "raise NotImplementedError()"
   ]
  },
  {
   "cell_type": "markdown",
   "metadata": {},
   "source": [
    "### Open questions (2 points) :\n",
    "\n",
    "<b>Answer</b> the following questions:\n",
    "* At what time (in units of $\\tau$) is the maximum power being delivered to the inductor? \n",
    "* What is the total energy $U$ delivered to the inductor? Recall, when discretizing, power at a given timestep is energy per unit time.  Multiplying by the timestep size gives the energy over a single timestep.  \n",
    "* If you change $L$ while holding $R$ constant, how does $U$ change? \n",
    "* If you change $R$ while holding $L$ constant, how does $U$ change?\n",
    "* If you simultaneously double $R$ and $L$, you get a circuit with the same time constant as before. Is this new circuit equivalent to your original one?"
   ]
  },
  {
   "cell_type": "markdown",
   "metadata": {
    "deletable": false,
    "nbgrader": {
     "cell_type": "markdown",
     "checksum": "b12c97d6faaee2553524139c41eca877",
     "grade": true,
     "grade_id": "cell-b55e989d979c7901",
     "locked": false,
     "points": 2,
     "schema_version": 3,
     "solution": true,
     "task": false
    }
   },
   "source": [
    "YOUR ANSWER HERE"
   ]
  }
 ],
 "metadata": {
  "kernelspec": {
   "display_name": "Python 3",
   "language": "python",
   "name": "python3"
  },
  "language_info": {
   "codemirror_mode": {
    "name": "ipython",
    "version": 3
   },
   "file_extension": ".py",
   "mimetype": "text/x-python",
   "name": "python",
   "nbconvert_exporter": "python",
   "pygments_lexer": "ipython3",
   "version": "3.8.5"
  }
 },
 "nbformat": 4,
 "nbformat_minor": 2
}
