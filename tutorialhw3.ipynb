{
 "cells": [
  {
   "cell_type": "markdown",
   "metadata": {},
   "source": [
    "# Phys 260: Python assignment header\n",
    "\n",
    "### (1) Fill out the cell below.  \n",
    "The cell below is a **code cell**.  Fill out your University of Michigan uniqname, then your name, and collaborators in the cell below **inside the quotes**.  \n",
    "\n",
    "**Do not delete the quotes.**  We will use this information to organize your assignments.  To edit and execute cells, double click inside the cell, type, and press \\<shift\\>+\\<enter\\> to execute."
   ]
  },
  {
   "cell_type": "code",
   "execution_count": null,
   "metadata": {},
   "outputs": [],
   "source": [
    "UNIQNAME = \"\"\n",
    "NAME = \"\"\n",
    "COLLABORATORS = \"\""
   ]
  },
  {
   "cell_type": "markdown",
   "metadata": {},
   "source": [
    "# Introduction -- Reminder\n",
    "\n",
    "Each Python lab will start with a pre-flight exercise that walks through building some of the set up and tools ($\\sim$ 30 min), followed by an in-class tutorial with time for Q+A (50 min) so you can walk through steps that will be necessary for the homework assignment you will submit ($\\sim$ 3 hrs).  Each lab will contain starter code, similar to what you see below.  Please fill in the code to complete the pre-flight assignment in preparation for the in-class tutorial.  \n",
    "\n",
    "Preflight ($\\sim$30-60 min, 10 points) **Typically due: Thursdays 3pm EST**\n",
    "\n",
    "*Preflight typically graded by Wednesday 5p EST*\n",
    "\n",
    "In-class tutorial and Q+A ($\\sim$ 50 min, 10 points) **Typically occurs: Fridays 12pm EST**\n",
    "\n",
    "Homework assignment ($\\sim$ 3-5 hrs, 30 points) **Typically due: Tuesdays 12pm EST**  \n",
    "\n",
    "\n",
    "When we grade your homework, we will not run your code. Once submitted, your notebook should have the outputs for all of your results.  Please do not include long outputs from debugging, beyond a few print statements and the requested visualimzations (i.e. plots).\n",
    "\n",
    "**Grading:** When we grade your notebook, we will convert the .ipynb file to an HTML file.  We will be using [nbgrader](https://nbgrader.readthedocs.io/en/stable/) to grade your notebooks.  **Note:** Execute the cell below (click in the cell and press shift+enter, or click in the cell and press the Run button) to check that you are using a version of python that is compatible with the tool we are using to grade your assignments.  If your ```IPython``` version is too old, we will *not* be able to grade your assignments.\n",
    "\n"
   ]
  },
  {
   "cell_type": "markdown",
   "metadata": {},
   "source": [
    "# Phys 260 Python Lab 3: Boundary conditions (15 points total)\n",
    "\n",
    "## Tutorial summary\n",
    "- Review best plotting practices, units, log-log plots\n",
    "- Review of use of 'masks', np.where and np.nonzero\n",
    "- Chat over the background\n",
    "- Method of relaxation for setting the potential with boundary conditions (1-d version)\n",
    "- Plotting a scalar field (e.g. the potential V)"
   ]
  },
  {
   "cell_type": "code",
   "execution_count": null,
   "metadata": {},
   "outputs": [],
   "source": [
    "import numpy as np\n",
    "from matplotlib import pyplot as plt"
   ]
  },
  {
   "cell_type": "markdown",
   "metadata": {},
   "source": [
    "## Review of use of masks (no, not that kind of mask)\n",
    "\n",
    "In the previous homework, there was some confusion in the section where we used `np.where` to get a list of the positions of infinitesimal charges in the sphere.\n",
    "\n",
    "In the homework we will use masks yet again, so it's important to be comfortable with the concept.\n",
    "\n",
    "**When do we use a mask?** If we want to either grab the values of a certain part of an array, or modify only a certain part of an array, usually one which can be defined using conditional statements on the x, y, and z coordinates. The mask here is an array of indices which we want to grab from an array, and it is used in place of an explicit list of indicies, i.e. `the_part_of_the_array_we_want = array[mask]` or `array[mask] = 42` if we want to grab part of and array or set only part of the array to a new value.\n",
    "\n",
    "**How to make and implement a mask?** Taking a look at the mask we defined in the last homework as an example.. we started by deciding what conditional statement defined the region we want to mask.\n",
    "\n",
    "`mask_criterion = radial_distance_meshgrid_points <= sphere_radius`\n",
    "\n",
    "We then used `np.where` to create the mask itself, which is an array of the indices of the parts of the mask we want to keep or modify. When we only have a single input into `np.where`, it is equivalent to `np.nonzero`, it either grabs the indices of all of the non zero or non 'False' components depending on the type of the array.\n",
    "\n",
    "`sphere_mask = np.nonzero(mask_criterion)`\n",
    "\n",
    "Finally, we used the mask to grab an array of all of the x,y, and z coordinates of the points inside the sphere, where we wanted to place an infinitesimal charges to calculate their E-field\n",
    "\n",
    "`x_sphere_samples = x_volume_samples[sphere_mask]`"
   ]
  },
  {
   "cell_type": "markdown",
   "metadata": {},
   "source": [
    "## Background of application (quick review of the vector calculus between $\\vec{E}$ and V)\n",
    "\n",
    "In lectures you saw, \n",
    "\\begin{equation}\n",
    "\\vec E = - \\vec \\nabla V, ~~~~~~~~ ~~~~~~~~ ~~~~~~~~ ~~~~~~~~ \\mbox{  (1) }\n",
    "\\end{equation}\n",
    "where $\\vec \\nabla = \\left(\\frac{\\partial}{\\partial x},\\frac{\\partial}{\\partial y},\\frac{\\partial}{\\partial z}\\right)$ in cartesian coordinates,\n",
    " and \n",
    " \\begin{equation}\n",
    "\\vec E = \\int \\frac {\\rho d\\tau} {4 \\pi \\epsilon_0}\\frac {\\hat r} {r^2}.~~~~~~~~ ~~~~~~~~ ~~~~~~~~ \\mbox{  (2) }\n",
    "\\end{equation}\n",
    "Here $d\\tau$ is the differential volume element (e.g. $d\\tau=dxdydz$) to avoid confusion with $V$ which is the potential.\n",
    "\n",
    "Equation (2) is an integral equation.  The inverse of integration is taking a derivative.  Taking the divergence of both sides of Equation (2), we arrive at the differential form of Gauss' law:\n",
    "\n",
    "\\begin{equation}\n",
    "\\vec \\nabla \\cdot \\vec E = \\frac \\rho {\\epsilon_0}. ~~~~~~~~ ~~~~~~~~ ~~~~~~~~ \\mbox{  (3) }\n",
    "\\end{equation}\n",
    "\n",
    "If we now substitute Equation (1) into this equation we get: \n",
    "\\begin{equation}\n",
    "\\nabla^2 V= \\frac {- \\rho} {\\epsilon_0}.~~~~~~~~ ~~~~~~~~ ~~~~~~~~ \\mbox{  (4) }\n",
    "\\end{equation}\n",
    "\n",
    "It might help to write out how this works out in Cartesian coordinates in case the nabla-notation is new to you:\n",
    "\n",
    "\\begin{equation}\n",
    "\\vec{\\nabla}_{\\mathrm{cart}}=\\left[\\frac{\\delta}{\\delta x},\\frac{\\delta}{\\delta y}, \\frac{\\delta}{\\delta z}\\right]\n",
    "=\\left[\\delta_x,\\delta_y,\\delta_z\\right] = \\delta_x\\hat{i} + \\delta_y\\hat{j} + \\delta_z\\hat{k}\n",
    "\\end{equation}\n",
    "\n",
    "Expressing the electric field in terms of the potential, we have,\n",
    "\\begin{equation}\n",
    "\\vec{E} = -\\vec{\\nabla}_{\\mathrm{cart}}V=-\\left[\\frac{\\delta V}{\\delta x},\\frac{\\delta V}{\\delta y}, \\frac{\\delta V}{\\delta z}\\right]\n",
    "=-\\left[\\delta_xV,\\delta_yV,\\delta_zV\\right] = -\\delta_xV\\hat{i} - \\delta_yV\\hat{j} - \\delta_zV\\hat{k} = E_x\\hat{i}+E_y\\hat{j}+E_z\\hat{k}\n",
    "\\end{equation}\n",
    "\n",
    "And, explicitly writing out equation (3):\n",
    "\\begin{equation}\n",
    "\\vec \\nabla \\cdot \\vec E = \\delta_xE_x+\\delta_yE_y+\\delta_zE_z = \\frac \\rho {\\epsilon_0}. \n",
    "\\end{equation}\n",
    "\n",
    "And, explicitly writing out equation (4) in cartesian coordinates:\n",
    "\\begin{equation}\n",
    "\\left(\\vec \\nabla \\cdot (-\\vec{\\nabla}V\\right) = \\left[\\delta_x,\\delta_y,\\delta_z\\right] \\cdot \\left[-\\delta_xV,-\\delta_yV,-\\delta_zV\\right] = -\\left(\\delta_x^2V + \\delta_y^2V + \\delta_z^2V\\right) = -\\nabla^2 V,\n",
    "\\end{equation}\n",
    "so, \n",
    "\\begin{equation}\n",
    "\\nabla^2V = -\\frac{\\rho}{\\epsilon_0}\n",
    "\\end{equation}\n",
    "where, $\\nabla^2 = \\frac{\\partial^2}{\\partial x^2} + \\frac{\\partial^2}{\\partial y^2} + \\frac{\\partial^2}{\\partial z^2}$.\n",
    "\n",
    "This simplifies when we restrict ourselves to the case where we are considering the potential in regions where there are absolutely no charges (e.g., $\\rho = 0$).  Then we have:\n",
    "\\begin{equation}\n",
    "\\nabla^2 V= 0.  ~~~~~~~~ ~~~~~~~~ ~~~~~~~~ \\mbox{  (5) }\n",
    "\\end{equation}\n",
    "Equation 5 is just saying that the second derivative of the potential $V$ is zero in regions where there are no charges.  If this were one dimensional then this would mean that the potential can have slopes and nothing more complicated that that.    \n",
    "\n",
    "A TLDR: The ingredients for Equation 5:\n",
    "- Coulomb's law, Equation (2) and (3) with the integral and differential forms\n",
    "- The definition of the potential, Equation (1) \n",
    "- The choice that we will only consider regions that are charge free.  \n",
    "\n",
    "Assuming our problem satisfies condition (c) then Equation 5 completely specifies the electric field and is equivalent to solving Coulomb's law.  Of course you need Equation (1) to recover the field.   You might think that (c) is a big restriction, but it isn't.  You just carefully cut out the regions that have charges, figure out the potential on the boundary of the regions you had to remove and then plug ahead with (5).   \n",
    "\n",
    "\n",
    "The generalization of this statement to 2 and 3 dimensions will lend itself to a very easy numerical method for solving for the potential.  We'll come back to this in the next section."
   ]
  },
  {
   "cell_type": "markdown",
   "metadata": {},
   "source": [
    "## Relaxing the potential in 1-d\n",
    "\n",
    "Now, we exploit the fact that \"the potential has slopes, and nothing else\" for the $\\rho=0$ (i.e. $\\nabla^2V=0$), and we use the method of relaxation to calculate the potential at all points, given the boundary conditions.  \n",
    "\n",
    "For 1-d, (e.g. $\\frac{d^2 V(x)}{d x^2} = 0$), the solution is $V(x) = ax + b$, or a straight line with a slope.  For a straight line, the potential at any point is the average of the value at points an equal distance to the right and left of that point, e.g. $V(x_i) = \\left(V(x_{i+1}) + V(x_{i-1})\\right)/2$.  \n",
    "\n",
    "The extension to two dimensions is that the potential at any point is the average of the potential in a circle around that point (all points equidistant in 2d).  The extension to three dimensions is that potential at any point is the average of the potential in a sphere (again, all points equidistant in 3d).  We are exploiting [Taylor's theorem](https://en.wikipedia.org/wiki/Taylor%27s_theorem).  \n",
    "\n",
    "**Group exercise** (5 min -- 2 points): Let us first set up boundary conditions of the potential in 1-d.  \n",
    "- First, set up some one-dimensional position coordinates, `x_positions_1d = np.arange(0,20,0.2)`\n",
    "- Start with a 1-d array, `potential_1d` of zeros with the same shape as `x_positions_1d`.\n",
    "- Set the boundary conditions for the first (left edge) and last elements (right edge) of `potential_1d` to be -100 and 100 respectively"
   ]
  },
  {
   "cell_type": "code",
   "execution_count": null,
   "metadata": {
    "deletable": false,
    "nbgrader": {
     "cell_type": "code",
     "checksum": "62556f1c9e1b1520c6cb7cce342af943",
     "grade": false,
     "grade_id": "cell-58f5ca2df30bc119",
     "locked": false,
     "schema_version": 3,
     "solution": true,
     "task": false
    }
   },
   "outputs": [],
   "source": [
    "# Define x_positions_1d, and potential_1d here\n",
    "# YOUR CODE HERE\n",
    "raise NotImplementedError()"
   ]
  },
  {
   "cell_type": "code",
   "execution_count": null,
   "metadata": {
    "deletable": false,
    "editable": false,
    "nbgrader": {
     "cell_type": "code",
     "checksum": "4a9914b54f99bc06b929d10eda1b7336",
     "grade": true,
     "grade_id": "Tut_1d_potential_relaxation_setup",
     "locked": true,
     "points": 2,
     "schema_version": 3,
     "solution": false,
     "task": false
    }
   },
   "outputs": [],
   "source": [
    "\"\"\"Execute to check you're on the right track\"\"\"\n",
    "assert(potential_1d.shape == x_positions_1d.shape)"
   ]
  },
  {
   "cell_type": "markdown",
   "metadata": {},
   "source": [
    "Now, we numerically enforce that $\\frac{d^2 V(x)}{d x^2} = 0$, by iteratively setting $V(x_i) = \\left(V(x_{i+1}) + V(x_{i-1})\\right)/2$ and setting the boundary conditions.  Note, this is now the `potential_right` and `potential_left` that we can define using `np.roll` from the preflight.  In the next exercise, we do *one* such iteration.\n",
    "\n",
    "**Group exercise** (5 min -- 2 points): Define a function `relax_potential_1d` that takes in the potential array as an argument, uses `np.roll` to define `potential_right` ($V(x_{i+1})$) and `potential_left` ($V(x_{i-1})$), and returns the average with the boundary conditions set.  Below, you'll need to: \n",
    "- fill in the missing pieces of the function by defining `potential_right` and \n",
    "- enforce the boundary conditions determined by the key word arguments as you did in the previous exercise."
   ]
  },
  {
   "cell_type": "code",
   "execution_count": null,
   "metadata": {
    "deletable": false,
    "nbgrader": {
     "cell_type": "code",
     "checksum": "e322f66ebea46125c5966d52e6bcab7b",
     "grade": false,
     "grade_id": "cell-ed70cc62db70aafb",
     "locked": false,
     "schema_version": 3,
     "solution": true,
     "task": false
    }
   },
   "outputs": [],
   "source": [
    "def relax_potential_1d(potential_array, left_edge_condition = -100, right_edge_condition = 100) :\n",
    "    \"\"\"Returns relaxed 1-d potential array with set boundary conditions.  \n",
    "\n",
    "    Inputs:\n",
    "    potential_array (n-darray) : array containing the potential at each sampled point \n",
    "    left_edge_condition (float) : value of potential on left edge\n",
    "    right_edge_condition (float) : value of potential on right edge\n",
    "\n",
    "    Outputs:\n",
    "    relaxed_potential (n-darray) : array containing the relaxed potential at each sampled point with boundary conditions set     \n",
    "    \"\"\"\n",
    "    \n",
    "    # Define potential_left and potential_right using np.roll (i.e. V(x_{i-1}) and V(x_{i+1})\n",
    "    potential_left = np.roll(potential_array,-1) # This is V(x_{i-1})\n",
    "    # YOUR CODE HERE\n",
    "    raise NotImplementedError()\n",
    "    \n",
    "    relaxed_potential = np.mean(np.array([potential_left, potential_right]),axis=0)\n",
    "    \n",
    "    # Set boundary conditions\n",
    "    # YOUR CODE HERE\n",
    "    raise NotImplementedError()\n",
    "    \n",
    "    return relaxed_potential"
   ]
  },
  {
   "cell_type": "code",
   "execution_count": null,
   "metadata": {
    "deletable": false,
    "editable": false,
    "nbgrader": {
     "cell_type": "code",
     "checksum": "88446f017ad44d9114b16dab1faa3321",
     "grade": true,
     "grade_id": "cell-03ddaf533230c6a4",
     "locked": true,
     "points": 2,
     "schema_version": 3,
     "solution": false,
     "task": false
    }
   },
   "outputs": [],
   "source": [
    "\"\"\"Execute to check you're on the right track\"\"\"\n",
    "assert(relax_potential_1d(potential_1d).shape == potential_1d.shape)"
   ]
  },
  {
   "cell_type": "markdown",
   "metadata": {},
   "source": [
    "### Iterate over the relaxation step\n",
    "\n",
    "Let's now iterate over relaxing the potential for 500 steps, and see how it changes every 100 steps."
   ]
  },
  {
   "cell_type": "code",
   "execution_count": null,
   "metadata": {},
   "outputs": [],
   "source": [
    "# Initialize the potential\n",
    "potential_1d = np.zeros(x_positions_1d.shape)\n",
    "\n",
    "# Take snapshots of the relaxing potential\n",
    "potential_snapshots = []\n",
    "\n",
    "# Relax over 500 iterations\n",
    "for step in np.arange(500) :\n",
    "    potential_1d = relax_potential_1d(potential_1d)\n",
    "    if step % 100 == 0 :\n",
    "        potential_snapshots.append(potential_1d)"
   ]
  },
  {
   "cell_type": "markdown",
   "metadata": {},
   "source": [
    "### Plot snapshots of the relaxation"
   ]
  },
  {
   "cell_type": "code",
   "execution_count": null,
   "metadata": {},
   "outputs": [],
   "source": [
    "for i, potential_snapshot in enumerate(potential_snapshots) :\n",
    "    plt.plot(x_positions_1d, potential_snapshot, label='%ith step'%(i*100))\n",
    "    \n",
    "plt.xlabel('x', fontsize='xx-large')\n",
    "plt.ylabel('V', fontsize='xx-large')\n",
    "plt.legend()"
   ]
  },
  {
   "cell_type": "markdown",
   "metadata": {},
   "source": [
    "**Discussion question** (2 min -- 2 points) : What is happening to the potential as we do more and more iterations (steps)?  What do you expect to happen as we go towards infinite iterations (e.g. steps $\\rightarrow\\inf$)?"
   ]
  },
  {
   "cell_type": "markdown",
   "metadata": {
    "deletable": false,
    "nbgrader": {
     "cell_type": "markdown",
     "checksum": "b233b31df3eb434eb74303dc2fc7b178",
     "grade": true,
     "grade_id": "cell-c8b6b7fca3fb1dd0",
     "locked": false,
     "points": 2,
     "schema_version": 3,
     "solution": true,
     "task": false
    }
   },
   "source": [
    "YOUR ANSWER HERE"
   ]
  },
  {
   "cell_type": "markdown",
   "metadata": {},
   "source": [
    "**Group Exercise:** (10 min -- 5 points)  You will now refactor the code where we relaxed the potential over 500 steps.  *Code refactoring* refers to improving existing code.\n",
    "\n",
    "Old code:\n",
    "```\n",
    "# Initialize the potential\n",
    "potential_1d = np.zeros(x_positions_1d.shape)\n",
    "\n",
    "# Take snapshots of the relaxing potential\n",
    "potential_snapshots = []\n",
    "\n",
    "# Relax over 500 iterations\n",
    "for step in np.arange(500) :\n",
    "    potential_1d = relax_potential_1d(potential_1d)\n",
    "    if step % 100 == 0 :\n",
    "        potential_snapshots.append(potential_1d)\n",
    "```\n",
    "In the next cell, you will refactor this code to continue iterations until \"convergence\" to avoid hard coding the number of iterations.  In this case, your code will not assume a number of iterations (e.g. 500), but stops once the largest difference between the potential at a given point in the previous iteration and the potential at that given point in the current iteration is less than 0.01.  We will use 0.01 as a criterion for *convergence*, and you will use a `while` loop.  \n",
    "\n",
    "A simple example of the `while` loop is:\n",
    "```\n",
    "i = 20\n",
    "while i > 10 : \n",
    "    i -= 1\n",
    "    print(i)\n",
    "```\n",
    "The above code will print 20, 19, ... 11 and then exit the loop once the boolean fails.\n",
    "\n",
    "The skeleton to the code you will need to write is below where we have already defined `convergence_criterion`, initialized the `largest_iteration_difference` (serving the same purpose as the variable i in the example).  The step of initializing the potential, and creating an empty `list`, `largest_iteration_differences` to collect the largest iteration is also already below.  You will need to fill out the `while` loop. Some suggestions:\n",
    "- You will need to compare both the relaxed potential (i.e. the returned array from the function `relax_potential_1d`) and the potential just before the relaxation.  The first line inside the `while` loop will help you do this.\n",
    "- You will care about the largest difference between the two, e.g. `np.max(np.abs(relaxed_potential - potential_1d))`.  "
   ]
  },
  {
   "cell_type": "code",
   "execution_count": null,
   "metadata": {
    "deletable": false,
    "nbgrader": {
     "cell_type": "code",
     "checksum": "95e5352d639567e89f1a23f38eeb7c8b",
     "grade": false,
     "grade_id": "cell-e24f304041d2ce81",
     "locked": false,
     "schema_version": 3,
     "solution": true,
     "task": false
    }
   },
   "outputs": [],
   "source": [
    "# Refactored code here\n",
    "\n",
    "convergence_criterion = 0.01\n",
    "largest_iteration_difference = 1 # initialize\n",
    "\n",
    "# Initialize the potential\n",
    "potential_1d = np.zeros(x_positions_1d.shape)\n",
    "\n",
    "# Collect the largest_iteration_difference\n",
    "largest_iteration_differences = []\n",
    "\n",
    "while largest_iteration_difference > convergence_criterion :\n",
    "    relaxed_potential = relax_potential_1d(potential_1d)\n",
    "    # YOUR CODE HERE\n",
    "    raise NotImplementedError()"
   ]
  },
  {
   "cell_type": "code",
   "execution_count": null,
   "metadata": {
    "deletable": false,
    "editable": false,
    "nbgrader": {
     "cell_type": "code",
     "checksum": "22a860ea5f91c548b0b78775dba0179d",
     "grade": true,
     "grade_id": "Tutorial_refactored_code",
     "locked": true,
     "points": 5,
     "schema_version": 3,
     "solution": false,
     "task": false
    }
   },
   "outputs": [],
   "source": [
    "\"\"\"Execute to check you are on the right track\"\"\"\n",
    "assert(largest_iteration_difference <= convergence_criterion)"
   ]
  },
  {
   "cell_type": "markdown",
   "metadata": {},
   "source": [
    "Below, we plot \n",
    "- how quickly the relaxation method converged, and also \n",
    "- the final 1d potential.\n",
    "\n",
    "Note, we make use of the subplots method, where we can have multiple axes on a single figure."
   ]
  },
  {
   "cell_type": "code",
   "execution_count": null,
   "metadata": {},
   "outputs": [],
   "source": [
    "fig, (ax1, ax2) = plt.subplots(1,2, figsize=(12,7))\n",
    "ax1.plot(largest_iteration_differences)\n",
    "ax1.set_yscale('log')\n",
    "ax1.set_xlabel('Iteration', fontsize='xx-large')\n",
    "ax1.set_ylabel('$(\\Delta V)_{max}$', fontsize='xx-large')\n",
    "\n",
    "ax2.plot(x_positions_1d, potential_1d)\n",
    "ax2.set_xlabel('x', fontsize='xx-large')\n",
    "ax2.set_ylabel('V', fontsize='xx-large')"
   ]
  },
  {
   "cell_type": "markdown",
   "metadata": {},
   "source": [
    "## Calculate the electric field\n",
    "\n",
    "Now, we will take the 1-d potential, and calculate the electric field.  Recall, to calculate $E$ from $V$, you must calculate the vector of partial derivatives of $V$. In 1d, to compute $E_x = -\\partial V/\\partial x$, you would take a first derivative using only the $x$-components of $V$.  \n",
    "\n",
    "**Quick exercise** (2 min -- 2 points) : Define a function `calc_efield_1d(potential_array)` using `np.gradient`."
   ]
  },
  {
   "cell_type": "code",
   "execution_count": null,
   "metadata": {
    "deletable": false,
    "nbgrader": {
     "cell_type": "code",
     "checksum": "ae9f31b3845b4d0d45bf74d1f2911750",
     "grade": false,
     "grade_id": "cell-843296d66956acc5",
     "locked": false,
     "schema_version": 3,
     "solution": true,
     "task": false
    }
   },
   "outputs": [],
   "source": [
    "def calc_efield_1d(potential_array) :\n",
    "    \"\"\"Calculate the electric field in one dimension\n",
    "\n",
    "    Inputs:\n",
    "    potential_array (n-darray) : array containing the potential at each sampled point \n",
    "\n",
    "    Outputs:\n",
    "    efield_array (n-darray) : array containing the corresponding efield at each sampled point     \n",
    "    \"\"\"\n",
    "    \n",
    "    # YOUR CODE HERE\n",
    "    raise NotImplementedError()"
   ]
  },
  {
   "cell_type": "code",
   "execution_count": null,
   "metadata": {
    "deletable": false,
    "editable": false,
    "nbgrader": {
     "cell_type": "code",
     "checksum": "bf99666798a9ef5bcf8e9f851227413b",
     "grade": true,
     "grade_id": "Tut_calc_efield_1d",
     "locked": true,
     "points": 2,
     "schema_version": 3,
     "solution": false,
     "task": false
    }
   },
   "outputs": [],
   "source": [
    "\"\"\"Execute to check you're on the right track\"\"\"\n",
    "assert((calc_efield_1d(np.zeros(20))==np.zeros(20)).all())"
   ]
  },
  {
   "cell_type": "markdown",
   "metadata": {},
   "source": [
    "**Quick plot** (2 min -- 2 points): Use the `plt.subplots` method to generate two axes on a single figure on which you will plot the 1d potential and 1d electric field side by side.  You'll notice some noise in the electric field.  \n",
    "\n",
    "Try setting `convergence_criterion = 0.001` where it was set before, and run all cells after.  How does the electric field change? "
   ]
  },
  {
   "cell_type": "code",
   "execution_count": null,
   "metadata": {
    "deletable": false,
    "nbgrader": {
     "cell_type": "code",
     "checksum": "81ae32fdaea5d338d913ad851aa89d60",
     "grade": true,
     "grade_id": "Tut_plot_V_and_E",
     "locked": false,
     "points": 2,
     "schema_version": 3,
     "solution": true,
     "task": false
    }
   },
   "outputs": [],
   "source": [
    "# Plot the potential and efield here\n",
    "fig, (ax1, ax2) = plt.subplots(1,2, figsize=(12,7))\n",
    "# YOUR CODE HERE\n",
    "raise NotImplementedError()"
   ]
  },
  {
   "cell_type": "markdown",
   "metadata": {},
   "source": [
    "# Phys 260 Python Lab 3: Relaxing the potential in 2d with boundary conditions: The setup for modeling a capacitor (15 points total)\n",
    "\n",
    "\n",
    "Your homework assignment begins here.  Note, the homework below relies on code built during the tutorial (above)\n",
    "\n",
    "\n",
    "## Homework summary \n",
    "- Extending the method of relaxation in 2d\n",
    "- Plotting the 2d scalar field of the potential and vector field of $\\vec{E}$"
   ]
  },
  {
   "cell_type": "markdown",
   "metadata": {},
   "source": [
    "The extension to 2d sets us up for modeling a capacitor, which we will do next week.  \n",
    "\n",
    "Our 2-d potential that we will discretize and solve for will be Equation (5), explicitly written as:\n",
    "\\begin{equation}\n",
    "\\frac{\\partial^2V}{\\partial x^2} + \\frac{\\partial^2 V}{\\partial y^2}  = 0.~~~~~~~~ ~~~~~~~~ ~~~~~~~~ \\mbox{  (6) }\n",
    "\\end{equation}\n",
    "\n",
    "\n",
    "\n",
    "In 2d, the relaxation process involves setting the potential at any given point equal to the potential in a circle around it.  On a grid, this corresponds to the points above, below, to the left, and to the right. \n",
    "\n",
    "You will do an analogous iterative method to solve for the potential in 2d. Recall the steps:\n",
    "\n",
    "Step 1:  Use `np.meshgrid` to divide the space into a grid with a uniform grid spacing $\\delta$.\n",
    "\n",
    "Step 2:  Initialize the potential of the grid to match the boundary conditions specified in the problem.\n",
    "\n",
    "Step 3:  Replace the potential within each cell inside the grid with the average of the potential in the cells above, below, left and right of it, enforcing boundary conditions.\n",
    "\n",
    "\\begin{equation}\n",
    "V(x,y) = \\frac 1 4 \\left[ V(x+\\delta,y) + V(x-\\delta,y) + V(x,y+\\delta) + V(x,y-\\delta)\\right]~~~~~~~~ ~~~~~~~~ ~~~~~~~~ \\mbox{  (7) }\n",
    "\\end{equation}\n",
    "\n",
    "Step 4: Repeat steps 2 and 3 enough times for the results to converge.  Use the new grid as input for step 3 each time you repeat.\n",
    "\n",
    "To do this, we write other functions that:\n",
    "\n",
    "- Sets the boundary conditions in 2d with `set_boundary_conditions`\n",
    "- Relax the potential through an iterative gradient while resetting the boundary conditions on each iteration. "
   ]
  },
  {
   "cell_type": "code",
   "execution_count": null,
   "metadata": {},
   "outputs": [],
   "source": [
    "# Set up a 2-d grid with np.meshgrid: a 4x8 rectangle, with 80 points per value\n",
    "x_positions, y_positions = np.meshgrid(np.linspace(-4,4,80), np.linspace(-2,2,40), indexing='ij')\n",
    "position_array = np.array([x_positions,y_positions])\n",
    "print(position_array.shape)\n",
    "\n",
    "# Every point in our meshgrid will have a potential (this is our scalar field)\n",
    "potential_2d = np.zeros(x_positions.shape)"
   ]
  },
  {
   "cell_type": "markdown",
   "metadata": {},
   "source": [
    "Below, we plot the position points that we are sampling, where the the points sampled were generated from `np.meshgrid`. "
   ]
  },
  {
   "cell_type": "code",
   "execution_count": null,
   "metadata": {},
   "outputs": [],
   "source": [
    "print('x varies across bottom edge and has shape: ', potential_2d[:,0].shape)\n",
    "print('x varies across top edge and has shape: ', potential_2d[:,-1].shape)\n",
    "print('y varies across left edge and has shape: ', potential_2d[0,:].shape)\n",
    "print('y varies across right edge and has  shape: ', potential_2d[-1,:].shape)\n",
    "\n",
    "# Visualization of points sampled\n",
    "plt.scatter(x_positions, y_positions, s=0.2, alpha=0.5)\n",
    "plt.xlim(-5,5)\n",
    "\n",
    "# Horizontal lines\n",
    "plt.axhline(-2, xmin=-5,xmax=5, c='r', ls=':')\n",
    "plt.axhline(2, xmin=-5,xmax=5, c='r', ls=':')\n",
    "\n",
    "# Vertical lines\n",
    "plt.axvline(-4, ymin=-5,ymax=5)\n",
    "plt.axvline(4, ymin=-5,ymax=5)\n",
    "\n",
    "# Label what we will want to happen\n",
    "plt.annotate('V = 100V', (0, 2.1))\n",
    "plt.annotate('V = -100V', (0, -2.4))\n",
    "\n",
    "plt.annotate('V=0V', (-4.4,-2.3), rotation=90)\n",
    "plt.annotate('V=0V', (4.,-2.3), rotation=-90)\n",
    "\n",
    "plt.ylim(-5,5)\n",
    "plt.gca().set_aspect('equal')\n",
    "plt.xlabel('x [m]', fontsize='xx-large')\n",
    "plt.ylabel('y [m]', fontsize='xx-large')"
   ]
  },
  {
   "cell_type": "markdown",
   "metadata": {},
   "source": [
    "**Set boundaries exercise** (2 points): Analogous to what we did for a 1-d array, let us do the same thing for a 2-d array, `potential`.  We wish to set boundary conditions such that:\n",
    "```\n",
    "x_edges = 0\n",
    "y_edge_top = 100\n",
    "y_edge_bottom = -100\n",
    "```\n",
    "See the plot we made above for the visualization of the boundary conditions.  Note, you should be able to see that the edge that is shorter has the 0 potential.  We printed out the shape of the array's edges above (we sliced the array to access elements along the edges).  **Note:** There are overlapping corners.  Set the short edges first, and the long edges second so the corners are set to -100 or 100.\n",
    "\n",
    "There are two ways you can try to do this:\n",
    "\n",
    "- Identify the edges through the first and/or last element indexing (e.g. 0 or -1) or\n",
    "- Identify the indices corresponding the the min/max x positions or the min/max y positions (`np.nonzero` would be useful for this.\n",
    "\n",
    "The latter approach would be agnostic to indexing order.  Use the former (first bullet point) for this exercise.  You will see the second in use in the function `set_boundary_conditions`."
   ]
  },
  {
   "cell_type": "code",
   "execution_count": null,
   "metadata": {
    "deletable": false,
    "nbgrader": {
     "cell_type": "code",
     "checksum": "0ef4c15934c403df52dd0f94d7ca6071",
     "grade": false,
     "grade_id": "cell-3a7cb37a7db3a2c9",
     "locked": false,
     "schema_version": 3,
     "solution": true,
     "task": false
    }
   },
   "outputs": [],
   "source": [
    "# Define boundary conditions\n",
    "x_edges = 0\n",
    "y_edge_top = 100\n",
    "y_edge_bottom = -100\n",
    "\n",
    "# Impose boundary conditions below\n",
    "# YOUR CODE HERE\n",
    "raise NotImplementedError()"
   ]
  },
  {
   "cell_type": "code",
   "execution_count": null,
   "metadata": {
    "deletable": false,
    "editable": false,
    "nbgrader": {
     "cell_type": "code",
     "checksum": "0be085322cb9e6ca96a4944d37fe115c",
     "grade": true,
     "grade_id": "HW_potential_2d_boundaries",
     "locked": true,
     "points": 2,
     "schema_version": 3,
     "solution": false,
     "task": false
    }
   },
   "outputs": [],
   "source": [
    "\"\"\"Execute to check you're on the right track\"\"\"\n",
    "assert((potential_2d[:,0]==-100).all())"
   ]
  },
  {
   "cell_type": "markdown",
   "metadata": {},
   "source": [
    "Below, we write a function that finds the edges of an array based on the position array (using `np.nonzero` statement from the last tutorial/hw).  We then set the corresponding potential array to the specified boundary conditions. "
   ]
  },
  {
   "cell_type": "code",
   "execution_count": null,
   "metadata": {},
   "outputs": [],
   "source": [
    "def set_boundary_conditions(potential_array, pts_in_meshgrid, \n",
    "                            bounds_left=0, bounds_right=0, \n",
    "                            bounds_top=100, bounds_bottom=-100) :\n",
    "    \"\"\" Returns potential array with set boundary conditions.  Sets in order of x edges, y edges, then z edges (if 3-d)\n",
    "\n",
    "    Inputs:\n",
    "    potential_array (n by m-darray) : array containing the potential at each sampled point \n",
    "    pts_in_meshgrid (n by m-darray) : x, y, and z positions for field points\n",
    "    bounds_right (float) : value of potential on right edge\n",
    "    bounds_left (float) : value of potential on left edge\n",
    "    bounds_top (float) : value of potential on top edge\n",
    "    bounds_bottom (float) : value of potential on bottom edge\n",
    "\n",
    "    Outputs:\n",
    "    potential_array (n by m-darray) : array containing the potential at each sampled point with boundary conditions set \n",
    "    \"\"\"\n",
    "    \n",
    "    assert(potential_array.shape == pts_in_meshgrid[0].shape)\n",
    "    \n",
    "    # Separate out the position arrays along each axis for readability\n",
    "    x_positions = pts_in_meshgrid[0]\n",
    "    y_positions = pts_in_meshgrid[1]\n",
    "\n",
    "    # Identify the edges\n",
    "    right_edge_mask = np.nonzero(x_positions == x_positions.max())\n",
    "    left_edge_mask = np.nonzero(x_positions == x_positions.min())\n",
    "    top_edge_mask = np.nonzero(y_positions == y_positions.max())\n",
    "    bottom_edge_mask = np.nonzero(y_positions == y_positions.min())\n",
    "    \n",
    "    # Set the bounds\n",
    "    potential_array[right_edge_mask] = bounds_right    \n",
    "    potential_array[left_edge_mask] = bounds_left\n",
    "    potential_array[top_edge_mask] = bounds_top\n",
    "    potential_array[bottom_edge_mask] = bounds_bottom\n",
    "\n",
    "    return potential_array"
   ]
  },
  {
   "cell_type": "markdown",
   "metadata": {},
   "source": [
    "**Open question** (2 points): \n",
    "- What do the `right_edge_mask` (analogously `left_edge_mask`, etc.) represent?  What does `x_positions[right_edge_mask]` give you?"
   ]
  },
  {
   "cell_type": "markdown",
   "metadata": {
    "deletable": false,
    "nbgrader": {
     "cell_type": "markdown",
     "checksum": "3e71bc20d17ed86ac98ae4950270f795",
     "grade": true,
     "grade_id": "cell-92bf2da2116f99cb",
     "locked": false,
     "points": 2,
     "schema_version": 3,
     "solution": true,
     "task": false
    }
   },
   "source": [
    "YOUR ANSWER HERE"
   ]
  },
  {
   "cell_type": "markdown",
   "metadata": {},
   "source": [
    "**Testing a numpy function in 2d** (2 points) : Define a test array, \n",
    "```\n",
    "test_array = np.arange(15)\n",
    "test_array = np.reshape(test_array, (3,5))\n",
    "```\n",
    "\n",
    "Use `np.roll` to define `test_array_left` and `test_array_right`, where these new arrays respectively correspond to an $i+1$ and $i-1$ element.  *Hint*: In 2d, you'll want to define the key word axis in `np.roll`."
   ]
  },
  {
   "cell_type": "code",
   "execution_count": null,
   "metadata": {
    "deletable": false,
    "nbgrader": {
     "cell_type": "code",
     "checksum": "c1dd3a11faaa13f94096ff1857476856",
     "grade": false,
     "grade_id": "cell-43855ed200b83a00",
     "locked": false,
     "schema_version": 3,
     "solution": true,
     "task": false
    }
   },
   "outputs": [],
   "source": [
    "# Define test_array, test_array_left, and test_array_right\n",
    "# YOUR CODE HERE\n",
    "raise NotImplementedError()"
   ]
  },
  {
   "cell_type": "code",
   "execution_count": null,
   "metadata": {
    "deletable": false,
    "editable": false,
    "nbgrader": {
     "cell_type": "code",
     "checksum": "969e8452933a0fe5e8347e2b5ea935f1",
     "grade": true,
     "grade_id": "HW_test_np_roll_in_2D",
     "locked": true,
     "points": 2,
     "schema_version": 3,
     "solution": false,
     "task": false
    }
   },
   "outputs": [],
   "source": [
    "\"\"\"Execute to check you're on the right track\"\"\"\n",
    "assert(test_array.shape == (3,5))\n",
    "assert(test_array_left.shape == test_array.shape)\n",
    "assert(((test_array_right - test_array_left)[:,1:-1] < 0).all())"
   ]
  },
  {
   "cell_type": "markdown",
   "metadata": {},
   "source": [
    "**Do the other directions**: Use `np.roll` to define `test_array_top` and `test_array_bottom`, where these new arrays respectively correspond to an $j-1$ and $j+1$ element.  *Hint*: In 2d, you'll want to define the key word axis in `np.roll`."
   ]
  },
  {
   "cell_type": "code",
   "execution_count": null,
   "metadata": {
    "deletable": false,
    "nbgrader": {
     "cell_type": "code",
     "checksum": "2f110322c695010693447b668970a020",
     "grade": false,
     "grade_id": "cell-f2dcaf7443dd3d79",
     "locked": false,
     "schema_version": 3,
     "solution": true,
     "task": false
    }
   },
   "outputs": [],
   "source": [
    "# Define test_array_top and test_array_bottom here\n",
    "# YOUR CODE HERE\n",
    "raise NotImplementedError()"
   ]
  },
  {
   "cell_type": "code",
   "execution_count": null,
   "metadata": {
    "deletable": false,
    "editable": false,
    "nbgrader": {
     "cell_type": "code",
     "checksum": "7e97067a9dd75d1ea7a78faa582e202a",
     "grade": true,
     "grade_id": "HW_test_np_roll_in_2D_part2",
     "locked": true,
     "points": 2,
     "schema_version": 3,
     "solution": false,
     "task": false
    }
   },
   "outputs": [],
   "source": [
    "\"\"\"Execute to check you're on the right track\"\"\"\n",
    "assert(((test_array_top - test_array_bottom)[1:-1,:] < 0).all())"
   ]
  },
  {
   "cell_type": "markdown",
   "metadata": {},
   "source": [
    "**The relaxing function** (3 points) : Fill out the function below that relaxes the 2d potential, and uses the function `set_boundary_conditions`.\n",
    "- You'll want to find the potential in all four directions, e.g. `potential_top`, etc.  See previous exercises for this. \n",
    "- You'll want to set the boundary conditions.  Full credit for using the function above, `set_boundary_conditions`."
   ]
  },
  {
   "cell_type": "code",
   "execution_count": null,
   "metadata": {
    "deletable": false,
    "nbgrader": {
     "cell_type": "code",
     "checksum": "ae26cd84751ad7f26e8eb2014cbae737",
     "grade": false,
     "grade_id": "cell-5f913892a39ddad4",
     "locked": false,
     "schema_version": 3,
     "solution": true,
     "task": false
    }
   },
   "outputs": [],
   "source": [
    "def relax_potential_2d( potential_array, pts_in_meshgrid, \n",
    "                        bounds_left=0, bounds_right=0, \n",
    "                        bounds_top=100, bounds_bottom=-100 ) :\n",
    "    \"\"\"Returns relaxed 2-d potential array with set boundary conditions.  \n",
    "\n",
    "    Inputs:\n",
    "    potential_array (n-darray) : array containing the potential at each sampled point \n",
    "    left_edge_condition (float) : value of potential on left edge\n",
    "    right_edge_condition (float) : value of potential on right edge\n",
    "\n",
    "    Outputs:\n",
    "    relaxed_potential (n-darray) : array containing the relaxed potential at each sampled point with boundary conditions set     \n",
    "    \"\"\"\n",
    "    \n",
    "    # Define potential_left, right, top, and bottom\n",
    "    # YOUR CODE HERE\n",
    "    raise NotImplementedError()\n",
    "\n",
    "    relaxed_potential = np.mean(np.array([potential_left, potential_right, \n",
    "                                          potential_top, potential_bottom]),axis=0)\n",
    "    assert(relaxed_potential.shape == potential_array.shape)\n",
    "    \n",
    "    # Set boundary conditions\n",
    "    # YOUR CODE HERE\n",
    "    raise NotImplementedError()\n",
    "    \n",
    "    return relaxed_potential"
   ]
  },
  {
   "cell_type": "code",
   "execution_count": null,
   "metadata": {
    "deletable": false,
    "editable": false,
    "nbgrader": {
     "cell_type": "code",
     "checksum": "52a7734f757cbd765b940226a6f54da1",
     "grade": true,
     "grade_id": "HW_relax_potential_2D",
     "locked": true,
     "points": 3,
     "schema_version": 3,
     "solution": false,
     "task": false
    }
   },
   "outputs": [],
   "source": [
    "\"\"\"Execute to check you're on the right track\"\"\"\n",
    "assert(relax_potential_2d(potential_2d, position_array).shape == potential_2d.shape)"
   ]
  },
  {
   "cell_type": "markdown",
   "metadata": {},
   "source": [
    "**Perform the iteration** (2 points):  Now, iteratively relax the potential.  You should be able to use *very similar code* to the 1d version used in the tutorial that made use of the `while` loop (refactored code).  Some key differences - you'll need a `potential_2d` to initialize and update, and `relax_potential_2d` takes in two positional arguments (`relax_potential_1d` took only one).    "
   ]
  },
  {
   "cell_type": "code",
   "execution_count": null,
   "metadata": {
    "deletable": false,
    "nbgrader": {
     "cell_type": "code",
     "checksum": "9013dd04ac7d98e4a8bb9936b9754fe2",
     "grade": false,
     "grade_id": "cell-fb77db251f0b9fe0",
     "locked": false,
     "schema_version": 3,
     "solution": true,
     "task": false
    }
   },
   "outputs": [],
   "source": [
    "# Refactored code here\n",
    "\n",
    "convergence_criterion = 0.01\n",
    "largest_iteration_difference = 1 # initialize\n",
    "\n",
    "# YOUR CODE HERE\n",
    "raise NotImplementedError()\n",
    "\n",
    "print(potential_2d)"
   ]
  },
  {
   "cell_type": "code",
   "execution_count": null,
   "metadata": {
    "deletable": false,
    "editable": false,
    "nbgrader": {
     "cell_type": "code",
     "checksum": "d9a5b64ade4f386e5c926169be164419",
     "grade": true,
     "grade_id": "HW_iterate_relaxed_potential_2D",
     "locked": true,
     "points": 2,
     "schema_version": 3,
     "solution": false,
     "task": false
    }
   },
   "outputs": [],
   "source": [
    "\"\"\"Execute to check you are on the right track\"\"\"\n",
    "assert(largest_iteration_difference <= convergence_criterion)"
   ]
  },
  {
   "cell_type": "markdown",
   "metadata": {},
   "source": [
    "**Plot the convergence**:  Plot the largest iteration differences as a function of iteration."
   ]
  },
  {
   "cell_type": "code",
   "execution_count": null,
   "metadata": {},
   "outputs": [],
   "source": [
    "plt.plot(largest_iteration_differences)\n",
    "plt.yscale('log')\n",
    "plt.ylabel('maximum iteration difference')\n",
    "plt.xlabel('iteration #')"
   ]
  },
  {
   "cell_type": "markdown",
   "metadata": {},
   "source": [
    "**Calculate the electric field** (2 points):  Write a function `calc_efield_2d` that uses either `np.roll` (you'd need to do this for both $E_x = -\\partial V/\\partial x$ and $E_y = -\\partial V/\\partial y$) or `np.gradient` (you'd also need to do this for two different axes using the key word axis)."
   ]
  },
  {
   "cell_type": "code",
   "execution_count": null,
   "metadata": {
    "deletable": false,
    "nbgrader": {
     "cell_type": "code",
     "checksum": "0bbbfb6fcd8aac4763e760b30682c9a8",
     "grade": false,
     "grade_id": "cell-53c44e1f36826c7a",
     "locked": false,
     "schema_version": 3,
     "solution": true,
     "task": false
    }
   },
   "outputs": [],
   "source": [
    "def calc_efield_2d(potential_array) : \n",
    "    \"\"\"Calculate the electric field in one dimension\n",
    "\n",
    "    Inputs:\n",
    "    potential_array (nxm array) : array containing the potential at each sampled point \n",
    "\n",
    "    Outputs:\n",
    "    efield_array (2xnxm darray) : array containing the corresponding efield at each sampled point     \n",
    "    \"\"\"\n",
    "    \n",
    "    # YOUR CODE HERE\n",
    "    raise NotImplementedError()"
   ]
  },
  {
   "cell_type": "code",
   "execution_count": null,
   "metadata": {
    "deletable": false,
    "editable": false,
    "nbgrader": {
     "cell_type": "code",
     "checksum": "a7522fa3a245670ee5f05b1944763a2e",
     "grade": true,
     "grade_id": "cell-f7c3efdee97bf2e5",
     "locked": true,
     "points": 2,
     "schema_version": 3,
     "solution": false,
     "task": false
    }
   },
   "outputs": [],
   "source": [
    "\"\"\"Execute to check you're on the right track\"\"\"\n",
    "assert(calc_efield_2d(potential_2d).shape == (2,potential_2d.shape[0], potential_2d.shape[1]))"
   ]
  },
  {
   "cell_type": "markdown",
   "metadata": {},
   "source": [
    "### Visualizing results\n",
    "\n",
    "If the previous steps worked out for you, you should be able to execute the cells below and see the potential and efield."
   ]
  },
  {
   "cell_type": "markdown",
   "metadata": {},
   "source": [
    "**Visualize the potential**:  Below, we use the imshow method of pyplot to visualize the potential.  You can compare this to the visualization of the problem set-up at the beginning of the homework.  Note, we have to take the transpose because of how imshow orders the values in the potential (effectively, this uses 'xy' indexing)."
   ]
  },
  {
   "cell_type": "code",
   "execution_count": null,
   "metadata": {},
   "outputs": [],
   "source": [
    "# Using imshow to visualize the potential here\n",
    "# cmap choses which colormap we use to visualize the potential\n",
    "# extent sets the maxima of the x and y axes,\n",
    "plt.imshow(potential_2d.T, origin='lower', cmap=plt.cm.inferno, \n",
    "           extent=[x_positions.min(),x_positions.max(),y_positions.min(),y_positions.max()])\n",
    "plt.xlabel('x [m]', fontsize='xx-large')\n",
    "plt.ylabel('y [m]', fontsize='xx-large')\n",
    "\n",
    "#showing the colorbar and labeling it with units\n",
    "cb = plt.colorbar()\n",
    "cb.set_label('V [V]', fontsize='xx-large',rotation=270)"
   ]
  },
  {
   "cell_type": "markdown",
   "metadata": {},
   "source": [
    "**Visualize the efield and equipotentials**:  Here, we use streamplot to visualize the electric field, and contour to visualize equipotentials.  Note, streamplot assumes 'xy' indexing, and can get clunky if we try to adjust for it.  So, the below figure is rotated."
   ]
  },
  {
   "cell_type": "code",
   "execution_count": null,
   "metadata": {},
   "outputs": [],
   "source": [
    "efield = calc_efield_2d(potential_2d)\n",
    "\n",
    "emagnitude = 10*np.log(np.linalg.norm(efield, axis=0)) # We will color code by this\n",
    "\n",
    "fig, ax = plt.subplots(1, figsize=(8,8))\n",
    "\n",
    "ax.streamplot(y_positions, x_positions,  \n",
    "              efield[1], efield[0], \n",
    "              color=emagnitude, linewidth=1, cmap=plt.cm.inferno,\n",
    "              density=2, arrowstyle='->', arrowsize=1.5)\n",
    "\n",
    "contour1 = ax.contour(y_positions,x_positions,potential_2d, levels=np.arange(-100,100,25),cmap=plt.cm.Reds)\n",
    "ax.clabel(contour1, fontsize=10, colors='black')  # label the contours\n",
    "\n",
    "ax.set_aspect('equal')\n",
    "ax.set_xlabel('y [m] ', fontsize=16)\n",
    "ax.set_ylabel('x [m] ', fontsize=16)\n",
    "ax.set_title('Potential [V] and Electric field lines',fontsize=16)"
   ]
  },
  {
   "cell_type": "code",
   "execution_count": null,
   "metadata": {},
   "outputs": [],
   "source": []
  }
 ],
 "metadata": {
  "kernelspec": {
   "display_name": "Python 3 (ipykernel)",
   "language": "python",
   "name": "python3"
  },
  "language_info": {
   "codemirror_mode": {
    "name": "ipython",
    "version": 3
   },
   "file_extension": ".py",
   "mimetype": "text/x-python",
   "name": "python",
   "nbconvert_exporter": "python",
   "pygments_lexer": "ipython3",
   "version": "3.9.7"
  }
 },
 "nbformat": 4,
 "nbformat_minor": 2
}
