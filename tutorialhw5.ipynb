{
 "cells": [
  {
   "cell_type": "markdown",
   "metadata": {},
   "source": [
    "# Phys 260: Python assignment header\n",
    "\n",
    "### (1) Fill out the cell below.  \n",
    "The cell below is a **code cell**.  Fill out your University of Michigan uniqname, then your name, and collaborators in the cell below **inside the quotes**.  \n",
    "\n",
    "**Do not delete the quotes.**  We will use this information to organize your assignments.  To edit and execute cells, double click inside the cell, type, and press \\<shift\\>+\\<enter\\> to execute."
   ]
  },
  {
   "cell_type": "code",
   "execution_count": null,
   "metadata": {},
   "outputs": [],
   "source": [
    "UNIQNAME = \"\"\n",
    "NAME = \"\"\n",
    "COLLABORATORS = \"\""
   ]
  },
  {
   "cell_type": "markdown",
   "metadata": {},
   "source": [
    "### (2) Check your python version.  \n",
    "**Execute the cell below** (double click in the cell and press \\<shift\\>+\\<enter\\>, or click in the cell and press the Run button) to check that you are using a version of python that is compatible with the tool we are using to grade your assignments.  If your ```IPython``` version is too old, we will *not* be able to grade your assignments."
   ]
  },
  {
   "cell_type": "code",
   "execution_count": null,
   "metadata": {},
   "outputs": [],
   "source": [
    "import IPython\n",
    "assert IPython.version_info[0] >= 3, \"Your version of IPython is too old, please update it.\""
   ]
  },
  {
   "cell_type": "markdown",
   "metadata": {},
   "source": [
    "### (3) Do your best to answer all questions in the assignment.  \n",
    "To answer questions, **replace** anything that says either\n",
    "- \"YOUR ANSWER HERE\" \n",
    "- \n",
    "```\n",
    "YOUR CODE HERE\n",
    "raise NotImplementedError\n",
    "``` \n",
    "\n",
    "with your answer/code.  Cells with either of the two bullet points above are cells of the notebook that will be graded.\n",
    "\n",
    "**To edit markdown** cells (e.g. this one),  *double click in the cell to type*.  Press \\<shift\\>+\\<enter\\> to execute the cell.  \n"
   ]
  },
  {
   "cell_type": "markdown",
   "metadata": {},
   "source": [
    "### (4) Make sure your notebook runs sequentially.\n",
    "After you complete this assignment, make sure everything runs as expected. First, **restart the kernel** (in the menubar, select Kernel$\\rightarrow$Restart) and then **run all cells** (in the menubar, select Cell$\\rightarrow$Run All)."
   ]
  },
  {
   "cell_type": "code",
   "execution_count": null,
   "metadata": {},
   "outputs": [],
   "source": []
  },
  {
   "cell_type": "markdown",
   "metadata": {},
   "source": [
    "# Introduction -- Reminder\n",
    "\n",
    "Each Python lab will start with a pre-flight exercise that walks through building some of the set up and tools ($\\sim$ 30 min), followed by an in-class tutorial with time for Q+A (50 min) so you can walk through steps that will be necessary for the homework assignment you will submit ($\\sim$ 3 hrs).  Each lab will contain starter code, similar to what you see below.  Please fill in the code to complete the pre-flight assignment in preparation for the in-class tutorial.  \n",
    "\n",
    "Preflight ($\\sim$30-60 min, 10 points) **Typically due: Thursdays 3pm EST**\n",
    "\n",
    "*Preflight typically graded by Wednesday 5p EST*\n",
    "\n",
    "In-class tutorial and Q+A ($\\sim$ 50 min, 10 points) **Typically occurs: Fridays 12pm EST**\n",
    "\n",
    "Homework assignment ($\\sim$ 3-5 hrs, 30 points) **Typically due: Tuesdays 12pm EST**  \n",
    "\n",
    "\n",
    "When we grade your homework, we will not run your code. Once submitted, your notebook should have the outputs for all of your results.  Please do not include long outputs from debugging, beyond a few print statements and the requested visualimzations (i.e. plots).\n",
    "\n",
    "**Grading:** When we grade your notebook, we will convert the .ipynb file to an HTML file.  We will be using [nbgrader](https://nbgrader.readthedocs.io/en/stable/) to grade your notebooks.  **Note:** Execute the cell below (click in the cell and press shift+enter, or click in the cell and press the Run button) to check that you are using a version of python that is compatible with the tool we are using to grade your assignments.  If your ```IPython``` version is too old, we will *not* be able to grade your assignments."
   ]
  },
  {
   "cell_type": "markdown",
   "metadata": {},
   "source": [
    "# Phys 260 Python Tutorial/HW 6: Simulating RC circuits (30 points total)\n",
    "\n",
    "## Tutorial/HW summary\n",
    "- **In-class tutorial**: Solving the SHO using the Euler Method\n",
    "- **Homework**: Solve the differential equation of an RC circuit"
   ]
  },
  {
   "cell_type": "code",
   "execution_count": null,
   "metadata": {},
   "outputs": [],
   "source": [
    "import numpy as np\n",
    "from matplotlib import pyplot as plt"
   ]
  },
  {
   "cell_type": "markdown",
   "metadata": {},
   "source": [
    "## Equations of Motion:  Numerically solving differential equations\n",
    "\n",
    "As we saw in the last Python homework before the exam, the real utility of using numerical methods in Python is solving complex problems which lack exact solutions or are very complicated to solve. This week we will learn how to solve differential equations, such as those that govern the time dependence of the electrical current in a circuit with resistors and capactiors. Although most simple circuits can be solved using a variety of techniques, more complex circuits, or more complex input signals, do not have easy paths to an exact solution.\n",
    "\n",
    "### Solving first-order differential equations using Euler's method\n",
    "\n",
    "Consider a first-order equation of the form:\n",
    "\\begin{equation}\n",
    "\\frac {dx} {dt} = f(x,t).\n",
    "\\end{equation}\n",
    "\n",
    "The solution to this equation is a function $x(t)$ whose first derivative is $f$.\n",
    "To find the solution to such an equation, we also need boundary conditions, or starting points.  Suppose that we have a first-order differential equation and know the value of $x$ for some specific time $t$, that is we know $x(t)$.  Then, we can write the value of x some short time later as\n",
    "\\begin{equation}\n",
    "x(t+h) = x(t) + h \\frac {dx} {dt} + \\frac 1 2 h^2 \\frac {d^2x} {dt^2} + ...\n",
    "\\end{equation}\n",
    "\n",
    "\\begin{equation}\n",
    "x(t+h) = x(t) + h f(x,t) + h^2 \\frac {df(x,t)} {dt} + ...\n",
    "\\end{equation}\n",
    "\n",
    "If $h$ is small then $h^2$ is really small, and we can ignore it, and all higher terms of $h^n$.  This technique is called Euler's method.\n",
    "\n",
    "Using this, if we know the value of $x$ at some time $t$ we can find the value at some short time later.  We can then repeat this process and understand how $x$ changes over time. The set of $x$ values at a discrete set of $t$ values is the numerical solution to our differential equation.\n",
    "\n",
    "We are going to use this method to find the current, voltages and charges in simple circuits.  We will start with circuits which are easy to solve analytically so we can verify the numerical solution. Later we'll consider circuits that are a little more difficult.\n",
    "\n",
    "### tl;dr\n",
    "\n",
    "If we have a differential equation $\\frac {dx} {dt} = f(x,t)$ and we know the starting value of $x(t)$, we can solve the equation numerically for a small time later $t+h$ using Euler's method, which is:\n",
    "\n",
    "\\begin{equation}\n",
    "x(t+h) = x(t) + h f(x,t)\n",
    "\\end{equation}\n",
    "\n",
    "By repeateadly performing this operation with small enough time steps, we can solve the differential equation for any time."
   ]
  },
  {
   "cell_type": "markdown",
   "metadata": {
    "nbgrader": {
     "grade": false,
     "grade_id": "cell-e893b46b2a8b1b34",
     "locked": false,
     "schema_version": 3,
     "solution": false,
     "task": false
    }
   },
   "source": [
    "## Example from Mechanics: the Simple Harmonic Oscillator\n",
    "\n",
    "### Reminder: Solution to undamped simple Harmonic oscillator\n",
    "\n",
    "To illustrate these ideas, let's work out the solution to a situation with which you are already familiar: the simple harmonic oscillator, e.g. a mass on a spring:\n",
    "<img src=\"http://www-personal.umich.edu/~gerdes/img/SHO.png\" height=\"300\" align=\"center\">\n",
    "This system is described by Newton's second law:\n",
    "$$\n",
    "    F = ma = m\\frac{d^2x}{dt^2}= -kx.\n",
    "$$\n",
    "\n",
    "This is a second-order differential equation (it relates the function $x(t)$ to its second derivative), so we need to specify two boundary conditions. In mechanics, boundary conditions are often the initial position and velocity. \n",
    "\n",
    "Let's suppose that the mass starts from rest at $x_0=x(t=0)=1$. We know that the solution to Newton's second law is\n",
    "\\begin{eqnarray}\n",
    "        x(t)& = & A\\cos\\omega t \\\\\n",
    "        v(t) & = &-A\\omega\\sin\\omega t \\\\\n",
    "        a(t)& = &-A\\omega^2\\cos\\omega t,\n",
    "\\end{eqnarray}\n",
    "where $\\omega = \\sqrt{k/m}$, and in this case $A=1$.\n",
    "\n",
    "### Setting up Euler's method for SHO with damping\n",
    "\n",
    "Let's use Euler's method to find the solution when there is some viscous damping or friction that the mass experiences leading to a damping term, $cv$, that manifests in Newton's 2nd law as,\n",
    "\\begin{eqnarray}\n",
    "    m\\frac{d^2x}{dt^2}+c\\frac{dx}{dt}+kx = 0\\\\\n",
    "    ma + cv + kx = 0\n",
    "\\end{eqnarray}\n",
    "\n",
    "Wait a minute, this is a second-order differential equation (it has both first *and* second derivatives of the position `x`)! We've only learned how to solve *first order* equations, so we need to find away to turn this into something of the form $\\frac {dx} {dt} = f(x,t)$. We can reformulate the equation above as two coupled first-order differential equations. We can use the definitions of acceleration and velocity ($a = dv/dt$ and $v = dx/dt$). \n",
    "\n",
    "Rearanging these equations slightly, and putting them in discrete form:\n",
    "$$\n",
    "    \\Delta v = a\\Delta t,\n",
    "$$\n",
    "$$\n",
    "    \\Delta x = v\\Delta t.\n",
    "$$\n",
    "\n",
    "Then, our equations for solving for v and x using Euler's method are:\n",
    "\n",
    "$$\n",
    "v(t+h) = v(t) + \\Delta v = v(t) + a(t) h \n",
    "$$\n",
    "$$\n",
    "    x(t+h) = x(t) + \\Delta x = x(t) + v(t) h\n",
    "$$\n",
    "\n",
    "In the first equation, $a(x,v,t)$ takes the place $f(x,t)$, and we know the equation for acceleration from above,\n",
    "\\begin{eqnarray}\n",
    "    a = -cv/m - \\omega x\n",
    "\\end{eqnarray}"
   ]
  },
  {
   "cell_type": "markdown",
   "metadata": {},
   "source": [
    "\n",
    "Now that we have our discrete equations to solve the problem, let's get to coding.\n",
    "\n",
    "### Plan of action\n",
    "\n",
    "\n",
    "Our class will have two methods: \n",
    "\n",
    "`__init__` which will set the initial position, velocity, and time, and then calculate the initial acceleration, and also set useful constants like the time period and frequency of oscillations of the spring to attributes. **Below I ask you to fill in `self.omega` and `self.period`.**\n",
    "\n",
    "In `__init__`, we will also initialize lists to keep track of the time, velocity, position, and acceleration as we evolve the system.\n",
    "\n",
    "Second, `evolve_spring` puts Euler's method into action. `evolve_spring` take the number of periods we would like to simulate, as well as the number of time increments per period. We convert these to real time units of the incremental time (`self.dt`) and the total number of timesteps (`self.num_timesteps`).\n",
    "\n",
    "We add the current time, velocity, position, and acceleration to their respective lists. Then, we update t_now, x_now, v_now, and a_now to their next values using the equations we derived above. **In `evolve_spring`, I've asked to fill in lines updating v_now and x_now, using the already updated acceleration.**\n"
   ]
  },
  {
   "cell_type": "code",
   "execution_count": null,
   "metadata": {
    "deletable": false,
    "nbgrader": {
     "cell_type": "code",
     "checksum": "7054e2e0cb68f586edc43e7f7e881558",
     "grade": false,
     "grade_id": "cell-e893b46b2a8b1b34",
     "locked": false,
     "schema_version": 3,
     "solution": true,
     "task": false
    }
   },
   "outputs": [],
   "source": [
    "class Spring : \n",
    "    \"\"\"Creates an instance of a spring model, which can be time evolved\"\"\"\n",
    "    def __init__(self, mass, spring_k, x0=1, v0=0, damping_c=0.1) :\n",
    "        \"\"\"A model of a spring\n",
    "        Parameters\n",
    "        ----------\n",
    "        mass : float\n",
    "            mass at end of spring\n",
    "        spring_k : float \n",
    "            spring constant\n",
    "        x0 : float\n",
    "            initial position of mass. default 1\n",
    "        v0 : float\n",
    "            initial velocity of mass. default 0\n",
    "        damping_c : float\n",
    "            damping coefficient (c/m in our equations above) . default .1\n",
    "     \n",
    "        \"\"\"\n",
    "        self.x_now = x0\n",
    "        self.v_now = v0\n",
    "        self.a_now = -damping_c*v0 - spring_k * x0\n",
    "        self.t_now = 0\n",
    "        \n",
    "        self.damping_c = damping_c\n",
    "        self.spring_k = spring_k\n",
    "\n",
    "        # Define the attributes omega (cycles per time) and the period (units of time) below\n",
    "        # YOUR CODE HERE\n",
    "        raise NotImplementedError()\n",
    "        \n",
    "        self.t_vals = []\n",
    "        self.x_vals = []\n",
    "        self.v_vals = []\n",
    "        self.a_vals = []\n",
    "        \n",
    "               \n",
    "    def evolve_spring(self, num_periods, num_timesteps_per_period) :\n",
    "        \"\"\"Evolve the spring, populate the acceleration, velocity and position (a_vals, v_vals, x_vals)\n",
    "        Parameters\n",
    "        ----------\n",
    "        num_periods : float\n",
    "            number of periods to evolve over\n",
    "        num_timesteps_per_period : int\n",
    "            number of timesteps per period, defines the time resolution         \n",
    "        \"\"\"\n",
    "        \n",
    "        \n",
    "        ## setting the time increment (dt), and how many timesteps to calculate (num_timesteps)\n",
    "        self.dt = self.period / num_timesteps_per_period\n",
    "        self.num_timesteps = num_periods * num_timesteps_per_period\n",
    "        \n",
    "        for timestep in np.arange(self.num_timesteps) :\n",
    "            # Populate\n",
    "            self.a_vals.append(self.a_now)\n",
    "            self.v_vals.append(self.v_now)\n",
    "            self.x_vals.append(self.x_now)\n",
    "            self.t_vals.append(self.t_now)\n",
    "            \n",
    "            # Keep tracking of the time\n",
    "            self.t_now += self.dt\n",
    "\n",
    "            # Update \"now\" values\n",
    "            self.a_now = -self.damping_c*self.v_now - self.spring_k * self.x_now\n",
    "            \n",
    "            # Define attributes v_now based on a_now and dt, then x_now based on v_now and dt\n",
    "            # YOUR CODE HERE\n",
    "            raise NotImplementedError()\n",
    "\n"
   ]
  },
  {
   "cell_type": "code",
   "execution_count": null,
   "metadata": {
    "deletable": false,
    "editable": false,
    "nbgrader": {
     "cell_type": "code",
     "checksum": "b053e3d24a7b6a4420a6952bb25c2b09",
     "grade": true,
     "grade_id": "Spring_class_definition",
     "locked": true,
     "points": 4,
     "schema_version": 3,
     "solution": false,
     "task": false
    }
   },
   "outputs": [],
   "source": [
    "\"\"\"Execute to check you're on the right track\"\"\"\n",
    "test_spring = Spring(1, 1)\n",
    "assert(test_spring.omega == 1)\n",
    "assert(test_spring.period == 2*np.pi)\n",
    "\n",
    "test_spring.evolve_spring(1, 100000)\n",
    "\n",
    "assert(abs(test_spring.v_now - .0057) < 0.001)\n",
    "assert(abs(test_spring.x_now - .73) < 0.01)"
   ]
  },
  {
   "cell_type": "markdown",
   "metadata": {},
   "source": [
    "### Instantiating and using the `Spring` class (2 points)\n",
    "Now, we create an instance of the `Spring` class to plot the behavior of a damped harmonic oscillator.  In the cell below, \n",
    "- Create an instance with name `spring`, `mass=1`, and `spring_k=1`. \n",
    "- Evolve the spring (using the appropriate method) for 10 periods, with 1000 timesteps per period."
   ]
  },
  {
   "cell_type": "code",
   "execution_count": null,
   "metadata": {
    "deletable": false,
    "nbgrader": {
     "cell_type": "code",
     "checksum": "d62d46351d0a9eda782253f913b48d6d",
     "grade": false,
     "grade_id": "cell-dc654169bdf82f4c",
     "locked": false,
     "schema_version": 3,
     "solution": true,
     "task": false
    }
   },
   "outputs": [],
   "source": [
    "#  Create an instance of the spring and chage its state with time evolution\n",
    "# YOUR CODE HERE\n",
    "raise NotImplementedError()"
   ]
  },
  {
   "cell_type": "code",
   "execution_count": null,
   "metadata": {
    "deletable": false,
    "editable": false,
    "nbgrader": {
     "cell_type": "code",
     "checksum": "d2063cb5810f2aa222d15bc05a5a7864",
     "grade": true,
     "grade_id": "Use_Spring_class",
     "locked": true,
     "points": 2,
     "schema_version": 3,
     "solution": false,
     "task": false
    }
   },
   "outputs": [],
   "source": [
    "\"\"\"Execute to check you're on the right track\"\"\"\n",
    "assert('dt' in dir(spring))\n",
    "assert(abs(spring.dt - .006) <0.001 )"
   ]
  },
  {
   "cell_type": "markdown",
   "metadata": {},
   "source": [
    "### Plot the behavior of the spring (2 points)\n",
    "\n",
    "Plot $x$,$v$, and $a$ vs. time **(in units of the period)**\n"
   ]
  },
  {
   "cell_type": "code",
   "execution_count": null,
   "metadata": {
    "deletable": false,
    "nbgrader": {
     "cell_type": "code",
     "checksum": "631fa3838ab900d3dfac064eb4e3c01c",
     "grade": true,
     "grade_id": "Plot_spring_behavior",
     "locked": false,
     "points": 2,
     "schema_version": 3,
     "solution": true,
     "task": false
    }
   },
   "outputs": [],
   "source": [
    "\n",
    "fig, (ax1, ax2, ax3) = plt.subplots(3,1, figsize=(8,9))\n",
    "fig.suptitle('Simple Harmonic Oscillator', fontsize=18)\n",
    "\n",
    "# YOUR CODE HERE\n",
    "raise NotImplementedError()\n",
    "ax1.grid()\n",
    "ax1.set_ylabel('position [m]', fontsize=14)\n",
    "\n",
    "# YOUR CODE HERE\n",
    "raise NotImplementedError()\n",
    "ax2.grid()\n",
    "ax2.set_ylabel('velocity [m/s]', fontsize=14)\n",
    "\n",
    "# YOUR CODE HERE\n",
    "raise NotImplementedError()\n",
    "ax3.grid()\n",
    "ax3.set_ylabel('acceleration [m/s$^2$]', fontsize=14)\n",
    "ax3.set_xlabel('Time in units of period', fontsize=16)\n"
   ]
  },
  {
   "cell_type": "markdown",
   "metadata": {},
   "source": [
    "### Limitations of Euler's method (class discussion)\n",
    "\n",
    "In what scenarios might we expect Euler's method to fail? What are some ways you could figure out if your solution is reasonable?"
   ]
  },
  {
   "cell_type": "markdown",
   "metadata": {
    "deletable": false,
    "nbgrader": {
     "cell_type": "markdown",
     "checksum": "d136dbc7a4d060fe5fd3d7ec1ee8c5cd",
     "grade": true,
     "grade_id": "cell-05d0d01750a1bb8c",
     "locked": false,
     "points": 2,
     "schema_version": 3,
     "solution": true,
     "task": false
    }
   },
   "source": [
    "YOUR ANSWER HERE"
   ]
  },
  {
   "cell_type": "markdown",
   "metadata": {},
   "source": [
    "## RC circuit to model\n",
    "\n",
    "Now we will use a very similar class and Euler's method to calculate the behavior of an electrical circuit.  Here, we will examine the behavior of:\n",
    "\n",
    "- Case : An uncharged capacitor in series with a resistor and a battery that will be charged from the battery.  \n",
    "<!-- - Case 2: A discharging capacitor as current flows through a resistor after the battery has been disconnected and the circuit closed.\n",
    " -->\n",
    "<!-- In this case, the inital voltage across the capacitor is then zero, and the initial current through the resistor will be $I = \\frac {V_b} {R}$ where $V_b$ is the voltage of the battery.  -->\n",
    "\n",
    "The schematic for this circuit is below: \n",
    "<img src=\"http://www-personal.umich.edu/~gerdes/img/MC-PythonCircuit02.png\" height=\"400\" width=\"400\">\n",
    "\n",
    "\n",
    "First, we need to find our 'equation of motion'. The most obvious equation we can write down is using the loop rule.\n",
    "\n",
    "\\begin{eqnarray}\n",
    "V_b - I(t)R - Q(t)/C = 0\n",
    "\\end{eqnarray}\n",
    "\n",
    "where I is the current through the resistor and Q is the charge on the capacitor (technically +Q on the top plate and -Q on the bottom plate).\n",
    "\n",
    "\n",
    "How can we make this look more like the SHO problem we solved previously? Because they are in series, the charge on the capacitor is directly related to the current through the resistor. \n",
    "\n",
    "$$\n",
    "I(t) = \\frac{dQ}{dt}\n",
    "$$\n",
    "\n",
    "To get our equation to look like something we can solve with Euler's method ( $\\frac {dx} {dt} = f(x,t)$ ), let's plug this into the loop equation and solve for $\\frac{dQ}{dt}$\n",
    "\n",
    "$$\n",
    "I(t) = \\frac{dQ(t)}{dt} = \\frac{1}{RC} [C V_b - Q(t)]\n",
    "$$\n",
    "\n",
    "<!-- We can write down the differential equation which includes this initial condition, and solve numerically.  Plot the current through the resistor and the charge on the capacitor as a function of time.  Following this, we can compute and plot the power delivered by the battery to the circuit as a function of time.  We can also compute the total energy delivered by the battery to the circuit, compare this to the energy stored in the capacitor energy dissipated as heat in the resistor? \n",
    " -->\n"
   ]
  },
  {
   "cell_type": "markdown",
   "metadata": {},
   "source": [
    "\n",
    "\n",
    "### Writing out the discrete versions of equations \n",
    "\n",
    "Here's a slightly different way of stating Euler's method for a generic differential equation of the form\n",
    "\n",
    "$$\n",
    "\\frac {dx} {dt} = f(x,t)\n",
    "$$\n",
    "\n",
    "Let's say we know $x$ and $v=dx/dt$ at time $t_0$, which is in the $i$th step of our algorithm\n",
    "\n",
    "$x_i = x(t_0)$ and $v_i = v(t_0)$\n",
    "\n",
    "to get the values at $i+1$th step (or equivalently at time $t+ \\Delta t$) we use Euler's method\n",
    "\n",
    "$$\n",
    "v_{i+1} = f(x_i,t_0+\\Delta t)\n",
    "$$\n",
    "\n",
    "$$\n",
    "x_{i+1} = x_i + v_i \\Delta t \n",
    "$$\n",
    "\n",
    "\n",
    "In preperation for filling out the RC circuit method, you may want to explicitly work these out for Q and I in the RC circuit case we discussed above."
   ]
  },
  {
   "cell_type": "markdown",
   "metadata": {},
   "source": [
    "## Build a class to model the RC circuit (4 points)\n",
    "\n",
    "Below, I've given you the bones for the RCCircuit, which is very similar to Spring. \n",
    "\n",
    "Notice we've only specified the intial charge in the `__init__` method, because for a fixed battery voltage and charge on the capacitor, the initial current is already determined by our equation of motion. **First, you will set `self.i_now` in `__init__` , the initial current, given the initial charge and battery voltage.**\n",
    "\n",
    "Also notice that instead of the period of oscillation which we used in the Spring class, we are using the RC constant as a characteristic time scale because the system does not oscillate.\n",
    "\n",
    "The `evolve_circuit` method is also very similar to before, except now we are updating only two dependent variables: $Q and I$. In `evolve_circuit`, add the correct lines of code to update `self.q_now` and `self.i_now`.\n"
   ]
  },
  {
   "cell_type": "code",
   "execution_count": null,
   "metadata": {
    "deletable": false,
    "nbgrader": {
     "cell_type": "code",
     "checksum": "90726a12cc93b8b8d8f31af20070f383",
     "grade": false,
     "grade_id": "cell-142a0a81f661f167",
     "locked": false,
     "schema_version": 3,
     "solution": true,
     "task": false
    }
   },
   "outputs": [],
   "source": [
    "class RCCircuit :\n",
    "    \"\"\"Creates an instance of an rc circuit model, which can be time evolved\"\"\"\n",
    "    def __init__(self, resistance, capacitance, q_capacitor, voltage_battery) :\n",
    "        \"\"\"A model of an rc circuit\n",
    "        Parameters\n",
    "        ----------\n",
    "        resistance : float\n",
    "            value of resistance in ohms\n",
    "        capacitance : float \n",
    "            value of capacitance in Farads\n",
    "        q_capacitor : float\n",
    "            initial charge on capacitor\n",
    "        voltage_battery : float\n",
    "            voltage across battery\n",
    "        \"\"\"\n",
    "\n",
    "        self.resistance = resistance\n",
    "        self.capacitance = capacitance\n",
    "        \n",
    "        # The time constant is a characteristic timescale of the system, analogous to the period in a spring\n",
    "        self.rc_constant = resistance * capacitance\n",
    "        \n",
    "        self.voltage_battery = voltage_battery\n",
    "        self.q_now = q_capacitor\n",
    "        self.t_now = 0\n",
    "        \n",
    "        #  Use the above equations to figure out the initial current through the resistor (self.i_now), \n",
    "        # using the initial charge and battery voltage.\n",
    "        # YOUR CODE HERE\n",
    "        raise NotImplementedError()\n",
    "        \n",
    "        self.i_vals = []\n",
    "        self.q_vals = []\n",
    "        self.t_vals = []\n",
    "        \n",
    "    def evolve_circuit(self, num_timescales, num_timesteps_per_timescale) :\n",
    "        \"\"\"Evolve the spring, populate the acceleration, velocity and position (a_vals, v_vals, x_vals)\n",
    "        Parameters\n",
    "        ----------\n",
    "        num_periods : float\n",
    "            number of periods to evolve over\n",
    "        num_timesteps_per_period : int\n",
    "            number of timesteps per period, defines the time resolution         \n",
    "        \"\"\"\n",
    "        \n",
    "        self.dt = self.rc_constant / num_timesteps_per_timescale\n",
    "        self.num_timesteps = num_timescales * num_timesteps_per_timescale\n",
    "        \n",
    "        for timestep in np.arange(self.num_timesteps) :\n",
    "            # Populate i_vals and q_vals with current current and charge on capacitor\n",
    "            self.i_vals.append(self.i_now)\n",
    "            self.q_vals.append(self.q_now)\n",
    "            self.t_vals.append(self.t_now)\n",
    "            \n",
    "            # incrementing t_now\n",
    "            self.t_now += self.dt\n",
    "            \n",
    "            # Using Euler's method and our equation of motion, update `self.q_now` and `self.i_now`. \n",
    "            # Take a look back at the Spring class if you are lost!\n",
    "            # YOUR CODE HERE\n",
    "            raise NotImplementedError()"
   ]
  },
  {
   "cell_type": "code",
   "execution_count": null,
   "metadata": {
    "deletable": false,
    "editable": false,
    "nbgrader": {
     "cell_type": "code",
     "checksum": "83ab50282b448dd2185ceb4595c240c3",
     "grade": true,
     "grade_id": "RC_circuit_class",
     "locked": true,
     "points": 5,
     "schema_version": 3,
     "solution": false,
     "task": false
    }
   },
   "outputs": [],
   "source": [
    "\"\"\"Execute to check you're on the right track\"\"\"\n",
    "test_rcc = RCCircuit(1,1e-6,0,10)\n",
    "assert(test_rcc.i_now == 10)\n",
    "test_rcc.evolve_circuit(10,100)\n",
    "assert(test_rcc.i_now < 1e-3)"
   ]
  },
  {
   "cell_type": "markdown",
   "metadata": {},
   "source": [
    "### Model the charging capacitor in an RC circuit (2 points)\n",
    "\n",
    "In the cell below, \n",
    "- Define an instance of `RCCircuit` that corresponds to an RC circuit with the following initial conditions $R = 2\\Omega$, $C = 20e-06$ Farad, $V_b=5$V, $Q_0=0$.  An appropriate name for this instance would be `rcc`.  \n",
    "- Evolve the system over 5$\\tau$ (i.e. $5 RC$), where $\\tau$ is the relevant timescale with 1000 steps per $\\tau$."
   ]
  },
  {
   "cell_type": "code",
   "execution_count": null,
   "metadata": {
    "deletable": false,
    "nbgrader": {
     "cell_type": "code",
     "checksum": "327b87ee9180957e60755281033ec860",
     "grade": false,
     "grade_id": "cell-38a6f85045c409f4",
     "locked": false,
     "schema_version": 3,
     "solution": true,
     "task": false
    }
   },
   "outputs": [],
   "source": [
    "# Define charging_rc_circuit here and evolve\n",
    "# YOUR CODE HERE\n",
    "raise NotImplementedError()"
   ]
  },
  {
   "cell_type": "code",
   "execution_count": null,
   "metadata": {
    "deletable": false,
    "editable": false,
    "nbgrader": {
     "cell_type": "code",
     "checksum": "8f3279d31f9e596c00a88c6cbb4efb53",
     "grade": true,
     "grade_id": "Initialize_and_evolve_RC",
     "locked": true,
     "points": 2,
     "schema_version": 3,
     "solution": false,
     "task": false
    }
   },
   "outputs": [],
   "source": [
    "\"\"\"Execute to check you're on the right track\"\"\"\n",
    "assert('i_vals' in dir(rcc))\n",
    "assert(rcc.dt == 4e-8)"
   ]
  },
  {
   "cell_type": "markdown",
   "metadata": {},
   "source": [
    "### Calculate the power (2 points)\n",
    "- Calculate the power output by the battery at each timestep, p_vals_battery\n",
    "- Calculate the power dissipated by the resistor at each timestep, p_vals_resistor\n",
    "\n",
    "Each of these depend on the attribute `i_vals`, which is a list of the current at each timestep.  You can either create an array from this list (recommended), or use a list comprehension if you want to practice this (and the power at each timestep would be a list)."
   ]
  },
  {
   "cell_type": "code",
   "execution_count": null,
   "metadata": {
    "deletable": false,
    "nbgrader": {
     "cell_type": "code",
     "checksum": "e15e31e1d1060eae75e7d558e3cb600e",
     "grade": false,
     "grade_id": "cell-4f5198300f36b8d5",
     "locked": false,
     "schema_version": 3,
     "solution": true,
     "task": false
    }
   },
   "outputs": [],
   "source": [
    "# Calculate the power here\n",
    "# YOUR CODE HERE\n",
    "raise NotImplementedError()\n",
    "p_vals_battery.sum()\n",
    "p_vals_resistor.sum()"
   ]
  },
  {
   "cell_type": "code",
   "execution_count": null,
   "metadata": {
    "deletable": false,
    "editable": false,
    "nbgrader": {
     "cell_type": "code",
     "checksum": "aa66460f318e7c153ae37baa41544611",
     "grade": true,
     "grade_id": "cell-365e9814aac8959e",
     "locked": true,
     "points": 2,
     "schema_version": 3,
     "solution": false,
     "task": false
    }
   },
   "outputs": [],
   "source": [
    "\"\"\"Execute to check you're on the right track\"\"\"\n",
    "if type(p_vals_battery) == list :\n",
    "    assert(np.array(p_vals_battery).sum() - 12415 < 1)\n",
    "else :\n",
    "    assert(p_vals_battery.sum() - 12415 < 1)\n",
    "\n",
    "if type(p_vals_resistor) == list :\n",
    "    assert(np.array(p_vals_resistor).sum() - 6252 < 1)\n",
    "else :\n",
    "    assert(p_vals_resistor.sum() - 6252 < 1)"
   ]
  },
  {
   "cell_type": "markdown",
   "metadata": {},
   "source": [
    "### Plot the charge, current, and power delivered by the battery (2 points)\n",
    "\n",
    "Below is most of the code to make a 3 panel plot of charge, current, and battery power as a function of time. Fill in a definition of the time normalized by the RC constant (`t_norm`) the relevant plot functions, and ylabels with units.\n"
   ]
  },
  {
   "cell_type": "code",
   "execution_count": null,
   "metadata": {
    "deletable": false,
    "nbgrader": {
     "cell_type": "code",
     "checksum": "67ced4a2ab0114a422f2eaae8be5ce3e",
     "grade": true,
     "grade_id": "cell-5e7c7b3eac60115c",
     "locked": false,
     "points": 4,
     "schema_version": 3,
     "solution": true,
     "task": false
    }
   },
   "outputs": [],
   "source": [
    "\n",
    "fig, (ax1, ax2, ax3) = plt.subplots(3,1, figsize=(8,9))\n",
    "fig.suptitle('Simple Harmonic Oscillator', fontsize=18)\n",
    "\n",
    "# define t_norm as the time in units of the RC time constant\n",
    "\n",
    "# YOUR CODE HERE\n",
    "raise NotImplementedError()\n",
    "\n",
    "# YOUR CODE HERE\n",
    "raise NotImplementedError()\n",
    "ax1.grid()\n",
    "\n",
    "\n",
    "# YOUR CODE HERE\n",
    "raise NotImplementedError()\n",
    "ax2.grid()\n",
    "\n",
    "\n",
    "# YOUR CODE HERE\n",
    "raise NotImplementedError()\n",
    "ax3.grid()\n",
    "\n",
    "ax3.set_xlabel('Time in units of RC', fontsize=16)"
   ]
  },
  {
   "cell_type": "markdown",
   "metadata": {},
   "source": [
    "**Discussion of figure** :  Let us talk through what is going on in the figure above.  Use the cell below to write a \"figure caption\" talking through the figure. (1 points)"
   ]
  },
  {
   "cell_type": "markdown",
   "metadata": {
    "deletable": false,
    "nbgrader": {
     "cell_type": "markdown",
     "checksum": "a284fcac9dbce6492651712802027615",
     "grade": true,
     "grade_id": "RC_plot_caption",
     "locked": false,
     "points": 1,
     "schema_version": 3,
     "solution": true,
     "task": false
    }
   },
   "source": [
    "YOUR ANSWER HERE"
   ]
  },
  {
   "cell_type": "markdown",
   "metadata": {},
   "source": [
    "### Calculate the energy budget (4 points)\n",
    "\n",
    " We've already calculated the power delivered by the battery to the circuit as a function of time (converted from the chemical potential energy in the battery). Power is energy per unit time, so by integrating over the full time we can calculate the total energy deliver by/to different components.\n",
    " \n",
    "Since we've already calculated the the battery power over time (`p_vals_battery`), we can calculate the total energy delivered to the circuit by the battery by numerically integrating, which I've done below by summing `p_vals_battery` and multiplying by the time increment.\n",
    "\n",
    "Let's calculate the the energy stored in the capacitor, the energy lost to heat in the resistor, and the overall energy efficiency of our circuit.\n",
    "\n",
    "Calculate:\n",
    "- The energy stored on the capacitor, `energy_capacitor`, due to the collected charge by the end of the circuit's time evolution, \n",
    "- The energy dissipated by the resistor, `energy_resistor`, \n",
    "- The efficiency of the system (fraction of energy *not* lost to heat), `energy_efficiency`."
   ]
  },
  {
   "cell_type": "code",
   "execution_count": null,
   "metadata": {
    "deletable": false,
    "nbgrader": {
     "cell_type": "code",
     "checksum": "8a4c94e8cbf43c755fd9f3da66ec2bed",
     "grade": false,
     "grade_id": "cell-93ba908bf33bb13f",
     "locked": false,
     "schema_version": 3,
     "solution": true,
     "task": false
    }
   },
   "outputs": [],
   "source": [
    "# Calculate energy budget here\n",
    "\n",
    "energy_battery = p_vals_battery.sum() * rcc.dt\n",
    "# YOUR CODE HERE\n",
    "raise NotImplementedError()\n",
    "print(\"energy delivered by the battery: \", energy_battery)\n",
    "print(\"energy stored in capacitor: \", energy_capacitor)\n",
    "print(\"energy dissipated by resistor: \", energy_resistor)\n",
    "print(\"fraction of energy not lost to heat: \", energy_efficiency)"
   ]
  },
  {
   "cell_type": "code",
   "execution_count": null,
   "metadata": {
    "deletable": false,
    "editable": false,
    "nbgrader": {
     "cell_type": "code",
     "checksum": "48085af0a9a02e59f4bba2dce3a8d215",
     "grade": true,
     "grade_id": "Energy_and_efficiency",
     "locked": true,
     "points": 4,
     "schema_version": 3,
     "solution": false,
     "task": false
    }
   },
   "outputs": [],
   "source": [
    "\"\"\"Execute to check you're on the right track\"\"\"\n",
    "assert(energy_efficiency < 1)\n",
    "assert(abs(1 - energy_capacitor/energy_resistor) < 0.05 )"
   ]
  },
  {
   "cell_type": "markdown",
   "metadata": {},
   "source": [
    "**Comment on the energy budget** (2 points) : In the cell below, comment on the energy budget you calculated.  In particular, note how energy divides between the capacitor and the resistor.  Comment on why the energy efficiency is not 1.  Does the energy budget change for different values of R and C if we allow the system to evolve for a long time?  (Note, you can quickly test this to numerically check what happens.)"
   ]
  },
  {
   "cell_type": "markdown",
   "metadata": {
    "deletable": false,
    "nbgrader": {
     "cell_type": "markdown",
     "checksum": "73d89d356f198c99b0867f51f1d5ff0c",
     "grade": true,
     "grade_id": "Comment_on_energy_budget",
     "locked": false,
     "points": 2,
     "schema_version": 3,
     "solution": true,
     "task": false
    }
   },
   "source": [
    "YOUR ANSWER HERE"
   ]
  }
 ],
 "metadata": {
  "kernelspec": {
   "display_name": "Python 3",
   "language": "python",
   "name": "python3"
  },
  "language_info": {
   "codemirror_mode": {
    "name": "ipython",
    "version": 3
   },
   "file_extension": ".py",
   "mimetype": "text/x-python",
   "name": "python",
   "nbconvert_exporter": "python",
   "pygments_lexer": "ipython3",
   "version": "3.8.5"
  }
 },
 "nbformat": 4,
 "nbformat_minor": 2
}
