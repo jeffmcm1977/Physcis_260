{
 "cells": [
  {
   "cell_type": "markdown",
   "metadata": {},
   "source": [
    "# Phys 260: Python assignment header\n",
    "\n",
    "### (1) Fill out the cell below.  \n",
    "The cell below is a **code cell**.  Fill out your University of Michigan uniqname, then your name, and collaborators in the cell below **inside the quotes**.  \n",
    "\n",
    "**Do not delete the quotes.**  We will use this information to organize your assignments.  To edit and execute cells, double click inside the cell, type, and press \\<shift\\>+\\<enter\\> to execute."
   ]
  },
  {
   "cell_type": "code",
   "execution_count": null,
   "metadata": {},
   "outputs": [],
   "source": [
    "UNIQNAME = \"\"\n",
    "NAME = \"\"\n",
    "COLLABORATORS = \"\""
   ]
  },
  {
   "cell_type": "markdown",
   "metadata": {},
   "source": [
    "### (2) Check your python version.  \n",
    "**Execute the cell below** (double click in the cell and press \\<shift\\>+\\<enter\\>, or click in the cell and press the Run button) to check that you are using a version of python that is compatible with the tool we are using to grade your assignments.  If your ```IPython``` version is too old, we will *not* be able to grade your assignments."
   ]
  },
  {
   "cell_type": "code",
   "execution_count": null,
   "metadata": {},
   "outputs": [],
   "source": [
    "import IPython\n",
    "assert IPython.version_info[0] >= 3, \"Your version of IPython is too old, please update it.\""
   ]
  },
  {
   "cell_type": "markdown",
   "metadata": {},
   "source": [
    "### (3) Do your best to answer all questions in the assignment.  \n",
    "To answer questions, **replace** anything that says either\n",
    "- \"YOUR ANSWER HERE\" \n",
    "- \n",
    "```\n",
    "YOUR CODE HERE\n",
    "raise NotImplementedError\n",
    "``` \n",
    "\n",
    "with your answer/code.  Cells with either of the two bullet points above are cells of the notebook that will be graded.\n",
    "\n",
    "**To edit markdown** cells (e.g. this one),  *double click in the cell to type*.  Press \\<shift\\>+\\<enter\\> to execute the cell.   \n",
    "\n",
    "[first name] [last name], uniqname\n"
   ]
  },
  {
   "cell_type": "markdown",
   "metadata": {},
   "source": [
    "### (4) Make sure your notebook runs sequentially.\n",
    "After you complete this assignment, make sure everything runs as expected. First, **restart the kernel** (in the menubar, select Kernel$\\rightarrow$Restart) and then **run all cells** (in the menubar, select Cell$\\rightarrow$Run All)."
   ]
  },
  {
   "cell_type": "code",
   "execution_count": null,
   "metadata": {},
   "outputs": [],
   "source": []
  },
  {
   "cell_type": "markdown",
   "metadata": {},
   "source": [
    "\n",
    "# Physics 260 Python Tutorial/HW 6: Simulating charged particles in fields (30 points total)\n",
    "\n",
    "## Tutorial Summary\n",
    "- Replicate what you did in the preflight with less code in `__main__`\n",
    "- The Runge-Kutta Method and effect on kinetic energy\n",
    "\n",
    "## HW Summary\n",
    "- How changes in the field affect the particle trajectory\n",
    "- Simulating a velocity filter\n",
    "- Comparisons of the energy budget using the Runge-Kutta Method"
   ]
  },
  {
   "cell_type": "code",
   "execution_count": null,
   "metadata": {},
   "outputs": [],
   "source": [
    "import numpy as np\n",
    "from matplotlib import pyplot as plt\n",
    "import sys\n",
    "\n",
    "#Here we are importing our own custom modules from files in our path. Especially for more complex projects,\n",
    "#it is a good idea to put custom functions and classes you use into modules (.py files that are in your path)\n",
    "\n",
    "import charge_particle_in_fields as cp\n",
    "import electric_and_magnetic_fields as eb_methods"
   ]
  },
  {
   "cell_type": "markdown",
   "metadata": {},
   "source": [
    "### Examine module contents (2 points -- 5 minutes in groups)\n",
    "\n",
    "Below, we examine the module contents using the built-in `help` function.  List what classes and/or functions, etc. you find in the module `cp`, and what you find in the module `eb_methods`."
   ]
  },
  {
   "cell_type": "markdown",
   "metadata": {
    "deletable": false,
    "nbgrader": {
     "cell_type": "markdown",
     "checksum": "6b3364cccdc187f7954c175d9917a9bc",
     "grade": true,
     "grade_id": "cell_Module_contents",
     "locked": false,
     "points": 2,
     "schema_version": 3,
     "solution": true,
     "task": false
    }
   },
   "source": [
    "YOUR ANSWER HERE"
   ]
  },
  {
   "cell_type": "code",
   "execution_count": null,
   "metadata": {},
   "outputs": [],
   "source": [
    "# Use this cell for executing help on the newly imported modules.\n",
    "help(cp.ChargedParticle)"
   ]
  },
  {
   "cell_type": "markdown",
   "metadata": {},
   "source": [
    "### Use the objects from the modules to do what you did in the preflight (5 points -- 5 minutes in groups)\n",
    "\n",
    "Recall, in the preflight, you had to create an instance of `ChargedParticle`, time evolve the object with the method `evolve_particle`, then plot.  In the cell below, you will do the same but use the objects already defined in the modules you have imported.  \n",
    "\n",
    "- First, define an instance of the `ChargedParticle` class with name `charged_particle`.  Remember that when you use `numpy` tools, you needed the alias `np` as a prefix for all tools.  Similarly, you will need either `cp` or `eb_methods` as a prefix.  Also, you will need to specify all parameters to the `ChargedParticle` class (see documentation for the class using help), including `x0`, `v0`, `efield_method`, and `bfield_method`. Take the initial position and velocity to be the origin and (0,0,0).  Use the `constant_electric_field` and `constant_magnetic_field` as your input methods.\n",
    "- Next, evolve the object for 1000 timesteps with `dt` of 0.01.  Note, you'll also need to specify the `rate_of_change` method.  In the preflight, we used `get_rates_of_change_euler`."
   ]
  },
  {
   "cell_type": "code",
   "execution_count": null,
   "metadata": {
    "deletable": false,
    "nbgrader": {
     "cell_type": "code",
     "checksum": "12c8e5801a645ff996447b268ddbc553",
     "grade": false,
     "grade_id": "cell-b5e4eb1af68ced4b",
     "locked": false,
     "schema_version": 3,
     "solution": true,
     "task": false
    }
   },
   "outputs": [],
   "source": [
    "# Define the instance charged_particle here, with the same inputs as you used for the preflight and time evolve.\n",
    "# YOUR CODE HERE\n",
    "raise NotImplementedError()"
   ]
  },
  {
   "cell_type": "code",
   "execution_count": null,
   "metadata": {
    "deletable": false,
    "editable": false,
    "nbgrader": {
     "cell_type": "code",
     "checksum": "6593072b58aeb8ae8c0ff88b514d3d8a",
     "grade": true,
     "grade_id": "Charged_particle_class",
     "locked": true,
     "points": 5,
     "schema_version": 3,
     "solution": false,
     "task": false
    }
   },
   "outputs": [],
   "source": [
    "\"\"\"Execute to check you're on the right track\"\"\"\n",
    "assert(np.abs(np.linalg.norm(charged_particle.x_vals[-1]) - 10.7202) < 0.1)\n",
    "assert(charged_particle.efield_method == eb_methods.constant_electric_field)"
   ]
  },
  {
   "cell_type": "markdown",
   "metadata": {},
   "source": [
    "Now, we make the same 3-d plot where we see the cycloidal motion of a charged particle in crossed electric and magnetic fields."
   ]
  },
  {
   "cell_type": "code",
   "execution_count": null,
   "metadata": {},
   "outputs": [],
   "source": [
    "# Now we make the same 3-d plot\n",
    "\n",
    "#  Make your 3-d trajectory plot here\n",
    "fig = plt.figure(figsize=(10,10)) \n",
    "ax = plt.gca(projection='3d')\n",
    "\n",
    "# Access the particle positions here\n",
    "particle_positions = np.array(charged_particle.x_vals)\n",
    "print(particle_positions.shape)                     \n",
    "ax.plot(particle_positions[:,0], particle_positions[:,1], particle_positions[:,2],lw=2)\n",
    "\n",
    "ax.set_xlabel('x',fontsize='xx-large')\n",
    "ax.set_ylabel('y',fontsize='xx-large')\n",
    "ax.set_zlabel('z',fontsize='xx-large')\n",
    "ax.view_init(30,-75)"
   ]
  },
  {
   "cell_type": "markdown",
   "metadata": {},
   "source": [
    "## Runge-Kutta method:  Discuss in class\n",
    "Below is a function that does the next-best-thing to the Euler method.  This is the Runge-Kutta method, that essentially uses values in between sampled points to get a better updated value.  You may remember approximating integrals (area under a curve) with right and left sum, then using the mid-point, then finally using the trapezoid method.  That is essentially what we are doing here: https://www.khanacademy.org/math/ap-calculus-ab/ab-integration-new/ab-6-2/a/riemann-sums-review\n",
    "\n",
    "The Runge-Kutta method does the following:\n",
    "\n",
    "- Use the acceleration due to the fields at the current position to figure out a $\\vec{v}_{i+1/2}=\\vec{v}_{i}+\\Delta\\vec{v}_{i+1/2}$, or the change in velocity over half a time-step (e.g. between timestep $i$ and timestep $i+1$).\n",
    "\n",
    "- Use the updated velocity (over the half a time-step) to find the new particle position in half a time-step, $\\vec{x}_{i+1/2}= \\vec{x}_i+\\Delta\\vec{x}_{i+1/2}$.  \n",
    "\n",
    "- Use the electric and magnetic fields at $\\vec{x}_{i+1/2}$ for a particle with velocity $\\vec{v}_{i+1/2}$ to calculate the half time-step acceleration, $\\vec{a}_{i+1/2}$ that will be used to actually update the velocity for $\\vec{v}_{i+1}$.  We also use the half time-step velocity $\\vec{v}_{i+1/2}$ to update the position for $\\vec{x}_{i+1}$."
   ]
  },
  {
   "cell_type": "code",
   "execution_count": null,
   "metadata": {},
   "outputs": [],
   "source": [
    "def get_rates_of_change_runge_kutta(particle_position, particle_velocity, electric_field_function,\n",
    "                                        magnetic_field_function, q, m, dt) :\n",
    "    ''' This uses the Runge-Kutta method to calculate the updated values.  \n",
    "    \n",
    "    This method relies on mid-points. Note, this method uses the same arguments and has the same output types as \n",
    "    get_rates_of_change_euler.\n",
    "    \n",
    "    '''\n",
    "\n",
    "    current_velocity, current_acceleration = cp.get_rates_of_change_euler(particle_position, particle_velocity, electric_field_function,\n",
    "                                        magnetic_field_function, q, m, dt)\n",
    "    \n",
    "    mid_particle_velocity = current_velocity + current_acceleration * dt/2\n",
    "    mid_particle_position = particle_position + mid_particle_velocity * dt/2\n",
    "    \n",
    "    # Calculate the acceleration due to the electric and magnetic fields at the mid_particle_position\n",
    "    runge_kutta_velocity, runge_kutta_acceleration = cp.get_rates_of_change_euler(mid_particle_position, mid_particle_velocity,\n",
    "                                                                        electric_field_function,\n",
    "                                                                        magnetic_field_function, q, m, dt)\n",
    "    return runge_kutta_velocity, runge_kutta_acceleration"
   ]
  },
  {
   "cell_type": "markdown",
   "metadata": {},
   "source": [
    "Below we look at the call signature of `get_rates_of_change_euler`.  Take a look at how this compares with `get_rates_of_change_runge_kutta`, defined above.  Quick note, the function above makes use of `get_rates_of_change_euler`, defined in the `cp` module."
   ]
  },
  {
   "cell_type": "code",
   "execution_count": null,
   "metadata": {},
   "outputs": [],
   "source": [
    "help(cp.get_rates_of_change_euler)"
   ]
  },
  {
   "cell_type": "markdown",
   "metadata": {},
   "source": [
    "### Use the Runge-Kutta function (3 points)\n",
    "\n",
    "Create another instance of a charged particle with name `charged_particle_rk` whose initial state is teh same as `charge_particle`.  Now, evolve `charged_particle_rk` for the same number of timesteps and `dt`, but use `get_rates_of_change_runge_kutta` as the `rate_of_change_method`."
   ]
  },
  {
   "cell_type": "code",
   "execution_count": null,
   "metadata": {
    "deletable": false,
    "nbgrader": {
     "cell_type": "code",
     "checksum": "fad2da83c8e06e33a76c6275a3069d7d",
     "grade": false,
     "grade_id": "cell-5ba1beb173153991",
     "locked": false,
     "schema_version": 3,
     "solution": true,
     "task": false
    }
   },
   "outputs": [],
   "source": [
    "# Define the instance charged_particle here, with the same inputs as you used for the preflight and time evolve.\n",
    "# YOUR CODE HERE\n",
    "raise NotImplementedError()\n",
    "print(len(charged_particle_rk.v_vals))"
   ]
  },
  {
   "cell_type": "code",
   "execution_count": null,
   "metadata": {
    "deletable": false,
    "editable": false,
    "nbgrader": {
     "cell_type": "code",
     "checksum": "cc3caaf2551ae60ba23cf944fb2fa7d6",
     "grade": true,
     "grade_id": "Runge_Kutta_function",
     "locked": true,
     "points": 3,
     "schema_version": 3,
     "solution": false,
     "task": false
    }
   },
   "outputs": [],
   "source": [
    "\"\"\"Execute to check you're on the right track\"\"\"\n",
    "assert(np.abs(np.linalg.norm(charged_particle_rk.x_vals[-1]) - 10.686) < 0.01)"
   ]
  },
  {
   "cell_type": "markdown",
   "metadata": {},
   "source": [
    "### Make the 3-d trajectory plot again\n",
    "\n",
    "Plot the 3-d trajectory for `charged_particle_rk`.  You should only need to change one line from the previous plot, and you will notice that there is no perceptible difference in the visual trajectories."
   ]
  },
  {
   "cell_type": "code",
   "execution_count": null,
   "metadata": {},
   "outputs": [],
   "source": [
    "# Now we make the same 3-d plot\n",
    "\n",
    "#  Make your 3-d trajectory plot here\n",
    "fig = plt.figure(figsize=(10,10)) \n",
    "ax = plt.gca(projection='3d')\n",
    "\n",
    "# Access the particle positions here\n",
    "particle_positions = np.array(charged_particle_rk.x_vals)\n",
    "print(particle_positions.shape)                     \n",
    "ax.plot(particle_positions[:,0], particle_positions[:,1], particle_positions[:,2],lw=2)\n",
    "\n",
    "ax.set_xlabel('x',fontsize='xx-large')\n",
    "ax.set_ylabel('y',fontsize='xx-large')\n",
    "ax.set_zlabel('z',fontsize='xx-large')\n",
    "ax.view_init(30,-75)"
   ]
  },
  {
   "cell_type": "markdown",
   "metadata": {},
   "source": [
    "### Calculate the kinetic energy (3 points)\n",
    "\n",
    "Calculate the kinetic energy of `charged_particle` and `charged_particle_rk`, `ke_charged_particle_rk` and `ke_charged_particle` respectively.  Hint: You may find it useful to have the particle velocities as an array (lists can be \"turned into\" arrays) and the `np.linalg.norm` function may be useful to you."
   ]
  },
  {
   "cell_type": "code",
   "execution_count": null,
   "metadata": {
    "deletable": false,
    "nbgrader": {
     "cell_type": "code",
     "checksum": "78a580616a1e31a42c9fdcbcd60445ca",
     "grade": false,
     "grade_id": "cell-530451eadcd96f31",
     "locked": false,
     "schema_version": 3,
     "solution": true,
     "task": false
    }
   },
   "outputs": [],
   "source": [
    "# Define ke_charged_particle and ke_charged_particle_rk\n",
    "ke_charged_particle =0.5 * np.linalg.norm(np.array(charged_particle.v_vals),axis=1)**2 #1/2 m v^2\n",
    "ke_charged_particle_rk =0.5 * np.linalg.norm(np.array(charged_particle_rk.v_vals),axis=1)**2"
   ]
  },
  {
   "cell_type": "code",
   "execution_count": null,
   "metadata": {
    "deletable": false,
    "editable": false,
    "nbgrader": {
     "cell_type": "code",
     "checksum": "2c6ba0d461c836d41f6148a8d3508c3d",
     "grade": true,
     "grade_id": "calculate_kinetic_energy",
     "locked": true,
     "points": 3,
     "schema_version": 3,
     "solution": false,
     "task": false
    }
   },
   "outputs": [],
   "source": [
    "\"\"\"Execute to check you're on the right track\"\"\"\n",
    "assert((ke_charged_particle[0] == 0))\n",
    "assert((ke_charged_particle_rk[0] == 0))\n",
    "assert(ke_charged_particle.size == len(charged_particle.v_vals))\n",
    "assert(ke_charged_particle.size == charged_particle.timesteps.size)"
   ]
  },
  {
   "cell_type": "markdown",
   "metadata": {},
   "source": [
    "### Plot the kinetic energy over time (3 points)\n",
    "\n",
    "Plot on three axes: \n",
    "- The kinetic energy of `charged_particle`, whose trajectory calculation used the Euler method, as a function of time, \n",
    "- The kinetic energy of `charged_particle_rk`, whose trajectory calculation used the Runge-Kutta method, as a function of time, \n",
    "- The ratio between the second to the first. \n",
    "\n",
    "You'll notice a dip in the last one - this is because values are close to zero, and one is much closer to zero than the other at the same timestep.  I suggest trying to set the y axis of the third axis to logscale and to try plotting every 5 points.  If you have an array, `test_array = np.arange(10)`, then `test_array[::5]` gives you `np.array([0,5])`.  Array slicing has the form of `start:stop:step`.  Note, `test_array[1::5]` gives you `np.array([1,6])`.  \n",
    "\n",
    "\n",
    "Full credit for labeled and legible axes."
   ]
  },
  {
   "cell_type": "code",
   "execution_count": null,
   "metadata": {},
   "outputs": [],
   "source": [
    "# Example showing the step of array slicing\n",
    "test_array = np.arange(10)\n",
    "print(test_array[::5])\n",
    "print(test_array[1::5])"
   ]
  },
  {
   "cell_type": "code",
   "execution_count": null,
   "metadata": {
    "deletable": false,
    "nbgrader": {
     "cell_type": "code",
     "checksum": "391ef6481749a09c223b86f4e77ab43e",
     "grade": true,
     "grade_id": "Kinetic_energy_plot_tutorial",
     "locked": false,
     "points": 3,
     "schema_version": 3,
     "solution": true,
     "task": false
    }
   },
   "outputs": [],
   "source": [
    "# Make your three axis plot here\n",
    "# YOUR CODE HERE\n",
    "raise NotImplementedError()"
   ]
  },
  {
   "cell_type": "markdown",
   "metadata": {},
   "source": [
    "### Talk through the figure (2 points)\n",
    "\n",
    "Talk through the figure in the space below as though you were writing a caption.  You'll notice that even outside of the spike, the ratio of the kinetic energies is not quite 1:1.  Incorporate what you know about the different methods to calculate the positions and velocities at the next timestep (Euler vs. Runge-Kutta). (Hint: One is more accurate than the other.)"
   ]
  },
  {
   "cell_type": "markdown",
   "metadata": {
    "deletable": false,
    "nbgrader": {
     "cell_type": "markdown",
     "checksum": "3cb9e02510b3cc483ead9062521f711b",
     "grade": true,
     "grade_id": "Kinetic_energy_figure_caption",
     "locked": false,
     "points": 2,
     "schema_version": 3,
     "solution": true,
     "task": false
    }
   },
   "source": [
    "YOUR ANSWER HERE"
   ]
  },
  {
   "cell_type": "markdown",
   "metadata": {},
   "source": [
    "Also, this might be a good time to qualitatively walk through the particle's behavior (cycloid). There is no magnetic force at $t=0$ since the charge starts at rest.  The electric force accelerates the charge along the x-axis, leading to a non-zero velocity in the next timestep. The particle now has a velocity in the x-direction, perpendicular to the y-direction of the magnetic field, leading to a magnetic force that first accelerates the particle in the z-direction, then continues to rotate the particle in the xz plane about a center on the z axis.  \n",
    "\n",
    "The magnetic force though draws the charged particle away from x-axis along a curved path. The force due to the magnetic field is opposed by the force from the electric field in the x-direction. The velocity of charged particle ultimately reduces to zero at z-axis. This cycle forms a cycloid motion, similar to a point on a bicycle wheel that is rolling without slipping."
   ]
  },
  {
   "cell_type": "code",
   "execution_count": null,
   "metadata": {},
   "outputs": [],
   "source": [
    "# Example plot\n",
    "plt.plot(np.array(charged_particle.x_vals)[:,0], np.array(charged_particle.x_vals)[:,2])\n",
    "plt.xlabel('x position',fontsize='xx-large')\n",
    "plt.ylabel('z position',fontsize='xx-large')\n",
    "plt.title('Cycloid motion',fontsize='xx-large')"
   ]
  },
  {
   "cell_type": "markdown",
   "metadata": {},
   "source": [
    "##  Homework:  Particle trajectory in different fields (12 points total)\n",
    "\n",
    "- A brief introduction to lambda functions\n",
    "- Particle in a parallel E and B field (4 points total)\n",
    "- The velocity filter (2 points)\n",
    "- Motion in non-uniform magnetic field (2 points)\n",
    "- Energy comparison (2 points)"
   ]
  },
  {
   "cell_type": "markdown",
   "metadata": {},
   "source": [
    " ### Using lambda functions (a short cut... sort of)\n",
    "\n",
    "For new E and B field configurations, we need to have the appropriate functions to provide as parameters to the `ChargedParticle` class (i.e. the kwargs `efield_method` and `bfield_method`.  We actually have two options here.  We can either keep adding new functions in the `electric_and_magnetic_fields` module, or we can shorthand with a [lambda function](https://realpython.com/python-lambda/). See the link for more details and/or take a look at the following examples. \n",
    "\n",
    "An example of this would be replacing `eb_methods.constant_electric_field` with `lambda x : np.array([1,0,0])`.  You can swapping the two in the tutorial above.  Note - the tests will fail, but you can still make the figure.  Switch back to `eb_methods.constant_electric_field` after you try it out.\n",
    "\n",
    "Another example of this from the preflight would be to replace the original function definition of `linearly_increasing_bfield` with \n",
    "```\n",
    "linearly_increasing_bfield = lambda x : np.array([0,0,0.1*x[2]])\n",
    "```\n",
    "\n",
    "In the latter case, we have given a name to the lambda function.  In the former, the lambda function has the name `efield_method` when used in the class.  Below is an example use of the latter."
   ]
  },
  {
   "cell_type": "code",
   "execution_count": null,
   "metadata": {},
   "outputs": [],
   "source": [
    "#  Example use of a lambda function\n",
    "linearly_increasing_bfield = lambda x : np.array([0,0,0.1*x[2]])\n",
    "\n",
    "linearly_increasing_bfield(np.array([5,6,7]))"
   ]
  },
  {
   "cell_type": "markdown",
   "metadata": {},
   "source": [
    "## Parallel E and B fields (2 points)\n",
    "\n",
    "You already have a constant electric field function pointing in the x direction.  You will now need a constant magnetic field that is `np.array([1,0,0])`.\n",
    "\n",
    "Next, create an instance of the `ChargedParticle` class with name `cp_in_parallel_fields` with the appropriate parameter inputs.  Everything should be the same as `charged_particle` with the exception of the magnetic field method (use a lambda function) and an initial velocity to be perpendicular to both fields, i.e. `v0=np.array([0,1,0])`.  Time evolve as before with 10000 timesteps, a `dt` of 0.01, and use Euler's method."
   ]
  },
  {
   "cell_type": "code",
   "execution_count": null,
   "metadata": {
    "deletable": false,
    "nbgrader": {
     "cell_type": "code",
     "checksum": "8586c7ceb81421f49a5b6dbd0dc05bc4",
     "grade": false,
     "grade_id": "cell-12207d59e0530f02",
     "locked": false,
     "schema_version": 3,
     "solution": true,
     "task": false
    }
   },
   "outputs": [],
   "source": [
    "# Define cp_in_parallel_fields here\n",
    "# YOUR CODE HERE\n",
    "raise NotImplementedError()"
   ]
  },
  {
   "cell_type": "code",
   "execution_count": null,
   "metadata": {
    "deletable": false,
    "editable": false,
    "nbgrader": {
     "cell_type": "code",
     "checksum": "7182ae5dfda669242046c1963174aa91",
     "grade": true,
     "grade_id": "Parallel_E_and_B_using_lambda",
     "locked": true,
     "points": 2,
     "schema_version": 3,
     "solution": false,
     "task": false
    }
   },
   "outputs": [],
   "source": [
    "\"\"\"Execute to check you're on the right track\"\"\"\n",
    "assert(np.abs(np.linalg.norm(cp_in_parallel_fields.v_vals[-1]) - 100) < 0.0036)"
   ]
  },
  {
   "cell_type": "code",
   "execution_count": null,
   "metadata": {},
   "outputs": [],
   "source": [
    "# Now we make the same 3-d plot\n",
    "#  Make your 3-d trajectory plot here\n",
    "fig = plt.figure(figsize = (10,10)) \n",
    "ax = plt.gca(projection='3d')\n",
    "\n",
    "# Access the particle positions here\n",
    "particle_positions = np.array(cp_in_parallel_fields.x_vals)\n",
    "print(particle_positions.shape)                     \n",
    "ax.plot(particle_positions[:,0], particle_positions[:,1], particle_positions[:,2])\n",
    "\n",
    "ax.set_xlabel('x',fontsize='xx-large')\n",
    "ax.set_ylabel('y',fontsize='xx-large')\n",
    "ax.set_zlabel('z',fontsize='xx-large')\n",
    "ax.view_init(30,-50)"
   ]
  },
  {
   "cell_type": "markdown",
   "metadata": {},
   "source": [
    "### Double the fields (2 points)\n",
    "\n",
    "Use the appropriate lambda functions to create instances of `ChargedParticle`: \n",
    "- `cp_parallel_2e_b`, where the electric field is `np.array([2,0,0])` (twice the magnitude of the magentic field\n",
    "- `cp_parallel_e_2b`, where the magnetic field is `np.array([2,0,0])` (twice the magnitude of the electric field\n",
    "\n",
    "Evolve each with the same arguments as the original case."
   ]
  },
  {
   "cell_type": "code",
   "execution_count": null,
   "metadata": {
    "deletable": false,
    "nbgrader": {
     "cell_type": "code",
     "checksum": "d542db8709839bb5977c8be56a7845d5",
     "grade": false,
     "grade_id": "cell-bbbb97f92ae14d07",
     "locked": false,
     "schema_version": 3,
     "solution": true,
     "task": false
    }
   },
   "outputs": [],
   "source": [
    "# Define the instances here\n",
    "# YOUR CODE HERE\n",
    "raise NotImplementedError()"
   ]
  },
  {
   "cell_type": "code",
   "execution_count": null,
   "metadata": {
    "deletable": false,
    "editable": false,
    "nbgrader": {
     "cell_type": "code",
     "checksum": "803fa4f43278f70b49d048b9c34e8317",
     "grade": true,
     "grade_id": "cell-e935ba6d8620f556",
     "locked": true,
     "points": 2,
     "schema_version": 3,
     "solution": false,
     "task": false
    }
   },
   "outputs": [],
   "source": [
    "\"\"\"Execute to check you're on the right track\"\"\"\n",
    "assert(np.abs(np.linalg.norm(cp_parallel_2e_b.x_vals[-1])-9997) < 0.001 )\n",
    "assert(np.abs(np.linalg.norm(cp_parallel_e_2b.x_vals[-1])-4998.501) < 0.001 )"
   ]
  },
  {
   "cell_type": "code",
   "execution_count": null,
   "metadata": {},
   "outputs": [],
   "source": [
    "#  Make your 3-d trajectory plot here\n",
    "fig = plt.figure(figsize=(12,12)) \n",
    "ax = plt.gca(projection='3d')\n",
    "\n",
    "cparts = [cp_in_parallel_fields, cp_parallel_2e_b, cp_parallel_e_2b]\n",
    "labels = ['E=B', '2E', '2B']\n",
    "# Access the particle positions here\n",
    "for cpart, label in zip(cparts, labels) : \n",
    "    particle_positions = np.array(cpart.x_vals)\n",
    "    print(particle_positions.shape)                     \n",
    "    ax.plot(particle_positions[:,0], particle_positions[:,1], particle_positions[:,2], label=label,lw=1.5)\n",
    "\n",
    "ax.legend(fontsize='large')\n",
    "ax.set_xlabel('x',fontsize='xx-large')\n",
    "ax.set_ylabel('y',fontsize='xx-large')\n",
    "ax.set_zlabel('z',fontsize='xx-large')\n",
    "ax.view_init(30,-35)"
   ]
  },
  {
   "cell_type": "markdown",
   "metadata": {},
   "source": [
    "### Talk through the figure (1 point)\n",
    "\n",
    "Explain what happens to the particle's path as you increase E and increase B.  You may want to play around with the viewing angle."
   ]
  },
  {
   "cell_type": "markdown",
   "metadata": {
    "deletable": false,
    "nbgrader": {
     "cell_type": "markdown",
     "checksum": "3c466464ca5bdad2c10e0d0db6730a09",
     "grade": true,
     "grade_id": "Double_the_field_figure_caption",
     "locked": false,
     "points": 1,
     "schema_version": 3,
     "solution": true,
     "task": false
    }
   },
   "source": [
    "YOUR ANSWER HERE"
   ]
  },
  {
   "cell_type": "markdown",
   "metadata": {},
   "source": [
    "### The velocity filter\n",
    "\n",
    "Consider a particle with charge 1 C and mass 1 kg moving with velocity $v=1\\hat{x}$ m/s. If this particle enters a region with a magnetic field $B = 1\\hat{y}$T, it will experience a force. You can calculate this by hand. You could then create an electric field to perfectly oppose this magnetic force. If you set up this field configuration you would have a \"velocity filter.\"\n",
    "\n",
    "In the cell below, instantiate charged particle objects (2 point)\n",
    "- Create an instance of `ChargedParticle` with name `cp_vfilter_pass` that is instantiated with the appropriate conditions to pass through.\n",
    "- Create an instance with name `cp_vfilter_fast` whose velocity is twice that of the first.\n",
    "- Create an instance with name `cp_vfilter_slow` whose velocity is half that of the first.\n",
    "- Time evolve all with 10 steps, dt of 0.01."
   ]
  },
  {
   "cell_type": "code",
   "execution_count": null,
   "metadata": {
    "deletable": false,
    "nbgrader": {
     "cell_type": "code",
     "checksum": "fab7f82b35b6761a5b12b684821de6a7",
     "grade": false,
     "grade_id": "cell-dfe36e082af6d738",
     "locked": false,
     "schema_version": 3,
     "solution": true,
     "task": false
    }
   },
   "outputs": [],
   "source": [
    "# Create instances of charged particles in a velocity selector\n",
    "# YOUR CODE HERE\n",
    "raise NotImplementedError()\n"
   ]
  },
  {
   "cell_type": "code",
   "execution_count": null,
   "metadata": {
    "deletable": false,
    "editable": false,
    "nbgrader": {
     "cell_type": "code",
     "checksum": "c2aee42254fa46ddf84d6d72a3f19540",
     "grade": true,
     "grade_id": "Velocity_filter",
     "locked": true,
     "points": 2,
     "schema_version": 3,
     "solution": false,
     "task": false
    }
   },
   "outputs": [],
   "source": [
    "\"\"\"Execute to check you're on the right track\"\"\"\n",
    "assert((cp_vfilter_pass.v_vals[-1] == np.array([1,0,0])).all())"
   ]
  },
  {
   "cell_type": "markdown",
   "metadata": {},
   "source": [
    "### Fill out the plotting cell below (1 point)\n",
    "\n",
    "Plot the passing particle trajectory, the fast particle, and the slow particle.  Label each \"pass\", \"fast\", and \"slow\". \n",
    "\n",
    "Note: for a more compact way of plotting multiple paths, look back at the previous plotting example which uses a for loop and the <a href=\"https://realpython.com/python-zip-function/\">zip function</a> to iterate over all of the plots."
   ]
  },
  {
   "cell_type": "code",
   "execution_count": null,
   "metadata": {
    "deletable": false,
    "nbgrader": {
     "cell_type": "code",
     "checksum": "0defebdf2c711189870b1640415cde87",
     "grade": true,
     "grade_id": "Velocity_filter_plot",
     "locked": false,
     "points": 1,
     "schema_version": 3,
     "solution": true,
     "task": false
    }
   },
   "outputs": [],
   "source": [
    "#  Make your 3-d trajectory plot here\n",
    "fig = plt.figure(figsize=(10,10)) \n",
    "ax = plt.gca(projection='3d')\n",
    "\n",
    "# YOUR CODE HERE\n",
    "raise NotImplementedError()\n",
    "    \n",
    "ax.legend(fontsize='large')\n",
    "ax.set_xlabel('x',fontsize='xx-large')\n",
    "ax.set_ylabel('y',fontsize='xx-large')\n",
    "ax.set_zlabel('z',fontsize='xx-large')\n",
    "ax.view_init(40,-65)"
   ]
  },
  {
   "cell_type": "markdown",
   "metadata": {},
   "source": [
    "### Motion in non-uniform magnetic field\n",
    "\n",
    "For this problem the magnetic field will not be uniform, instead it is going to be changing as a function of position.  The magnetic field in cylindrical coordinates is:\n",
    "\\begin{equation}\n",
    " B(r,\\phi,z) = - \\frac {B_0} {2} r \\hat{r} + (B_0z+B_1)\\hat{z}\n",
    "\\end{equation}\n",
    "\n",
    "That is the the magnitude of the field is changing in $z$ and $r$, but is not changing in $\\phi$.  Let $B_1=1$T and $B_0=.1$T/m.\n",
    "\n",
    "Take the electric field to be zero.\n",
    "\n",
    "As opposed to the contrived example in the preflight, this is in fact a field that obeys Maxwell's equations. Such a field could not really fill all space... it blows up as $r\\rightarrow\\infty$. However, this field could exist inside a long, cylindrical coil of wire (a solenoid) where the number of turns per meter is increasing linearly. Such fields are sometimes used at particle accelerators to guide beams of charged particles.\n",
    "\n",
    "For the sake of coding this equation below, here is the field in cartesian coordinates:\n",
    "$$\n",
    "   \\mathbf{B} = -\\frac{B_0}{2}\\left(x\\hat{x} + y\\hat{y} - 2z\\hat{z}\\right) + B_1\\hat{z}\n",
    "$$\n"
   ]
  },
  {
   "cell_type": "markdown",
   "metadata": {},
   "source": [
    "## Model a charged particle in this field (2 point)\n",
    "- Create a `ChargedParticle` instance with name `cp_in_b_solenoid` using most of the initial conditions as before, with `x0=np.array([1,0,0])`, `v0=np.array([0,0,1])`, zero electric field and the solenoid magnetic field described above.  Time evolve with Euler over 1000 timesteps, dt=0.01.\n",
    "- Create an instance `cp_in_b_solenoid_rk` and time evolve with Runge-Kutta.  BUT, first copy the function `get_rates_of_change_runge_kutta` below `get_rates_of_change_euler`.  You will need to re-import (or reload) the modules every time you make a change to the `.py` file.  But, now you can use both functions from the imported module `cp`."
   ]
  },
  {
   "cell_type": "code",
   "execution_count": null,
   "metadata": {
    "deletable": false,
    "nbgrader": {
     "cell_type": "code",
     "checksum": "929bb659ecbaf14cbe0a58611a63050a",
     "grade": false,
     "grade_id": "cell-4b82d5b5723efea3",
     "locked": false,
     "schema_version": 3,
     "solution": true,
     "task": false
    }
   },
   "outputs": [],
   "source": [
    "# Define and evolve cp_in_b_solenoid and cp_in_b_solenoid_rk here\n",
    "# YOUR CODE HERE\n",
    "raise NotImplementedError()"
   ]
  },
  {
   "cell_type": "code",
   "execution_count": null,
   "metadata": {
    "deletable": false,
    "editable": false,
    "nbgrader": {
     "cell_type": "code",
     "checksum": "2b8f99134030f71a273f705f1cfb2555",
     "grade": true,
     "grade_id": "charged_particle_in_solenoid",
     "locked": true,
     "points": 2,
     "schema_version": 3,
     "solution": false,
     "task": false
    }
   },
   "outputs": [],
   "source": [
    "\"\"\"Execute to check you're on the right track\"\"\"\n",
    "assert(np.abs(np.linalg.norm(cp_in_b_solenoid.v_vals[-1]) - 1) < 5e-4)\n",
    "assert(np.abs(np.linalg.norm(cp_in_b_solenoid_rk.v_vals[-1]) - 1) < 1e-6)"
   ]
  },
  {
   "cell_type": "markdown",
   "metadata": {},
   "source": [
    "### Plot solenoid paths (1 points)\n",
    "\n",
    "Plot paths of the charged particles for both the Euler and Runge-Kutta methods"
   ]
  },
  {
   "cell_type": "code",
   "execution_count": null,
   "metadata": {
    "deletable": false,
    "nbgrader": {
     "cell_type": "code",
     "checksum": "27e37921c6561cab71c6132c6262913a",
     "grade": true,
     "grade_id": "plot_solenoid_paths",
     "locked": false,
     "points": 1,
     "schema_version": 3,
     "solution": true,
     "task": false
    }
   },
   "outputs": [],
   "source": [
    "#  Make your 3-d trajectory plot here\n",
    "fig = plt.figure(figsize=(10,10)) \n",
    "ax = plt.gca(projection='3d')\n",
    "\n",
    "# YOUR CODE HERE\n",
    "raise NotImplementedError()\n",
    "    \n",
    "ax.legend(fontsize='large')\n",
    "ax.set_xlabel('x',fontsize='xx-large')\n",
    "ax.set_ylabel('y',fontsize='xx-large')\n",
    "ax.set_zlabel('z',fontsize='xx-large')\n",
    "ax.view_init(40,-65)"
   ]
  },
  {
   "cell_type": "markdown",
   "metadata": {},
   "source": [
    "### Compare kinetic energies (1 point)\n",
    "\n",
    "What is the ratio of final kinetic energies of the Euler vs. R-K calculation, `e2rk_ratio`?"
   ]
  },
  {
   "cell_type": "code",
   "execution_count": null,
   "metadata": {
    "deletable": false,
    "nbgrader": {
     "cell_type": "code",
     "checksum": "35dcab4c87b254c78e6e71a5aebeb878",
     "grade": false,
     "grade_id": "cell-b399957b467ee0cc",
     "locked": false,
     "schema_version": 3,
     "solution": true,
     "task": false
    }
   },
   "outputs": [],
   "source": [
    "# Calculate e2rk_ratio here\n",
    "# YOUR CODE HERE\n",
    "raise NotImplementedError()"
   ]
  },
  {
   "cell_type": "code",
   "execution_count": null,
   "metadata": {},
   "outputs": [],
   "source": []
  },
  {
   "cell_type": "code",
   "execution_count": null,
   "metadata": {
    "deletable": false,
    "editable": false,
    "nbgrader": {
     "cell_type": "code",
     "checksum": "b513023e72277a4cbb2ab12a070d193c",
     "grade": true,
     "grade_id": "compare_kinetic_energy_solenoid",
     "locked": true,
     "points": 1,
     "schema_version": 3,
     "solution": false,
     "task": false
    }
   },
   "outputs": [],
   "source": [
    "\"\"\"Execute to check you're on the right track\"\"\"\n",
    "assert(e2rk_ratio - 1 < .000968)"
   ]
  }
 ],
 "metadata": {
  "kernelspec": {
   "display_name": "Python 3",
   "language": "python",
   "name": "python3"
  },
  "language_info": {
   "codemirror_mode": {
    "name": "ipython",
    "version": 3
   },
   "file_extension": ".py",
   "mimetype": "text/x-python",
   "name": "python",
   "nbconvert_exporter": "python",
   "pygments_lexer": "ipython3",
   "version": "3.8.10"
  }
 },
 "nbformat": 4,
 "nbformat_minor": 2
}
