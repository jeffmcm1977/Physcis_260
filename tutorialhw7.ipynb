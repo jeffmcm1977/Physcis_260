{
 "cells": [
  {
   "cell_type": "markdown",
   "metadata": {},
   "source": [
    "# Phys 260: Python assignment header\n",
    "\n",
    "### (1) Fill out the cell below.  \n",
    "The cell below is a **code cell**.  Fill out your University of Michigan uniqname, then your name, and collaborators in the cell below **inside the quotes**.  \n",
    "\n",
    "**Do not delete the quotes.**  We will use this information to organize your assignments.  To edit and execute cells, double click inside the cell, type, and press \\<shift\\>+\\<enter\\> to execute."
   ]
  },
  {
   "cell_type": "code",
   "execution_count": null,
   "metadata": {},
   "outputs": [],
   "source": [
    "UNIQNAME = \"\"\n",
    "NAME = \"\"\n",
    "COLLABORATORS = \"\""
   ]
  },
  {
   "cell_type": "markdown",
   "metadata": {},
   "source": [
    "### (2) Check your python version.  \n",
    "**Execute the cell below** (double click in the cell and press \\<shift\\>+\\<enter\\>, or click in the cell and press the Run button) to check that you are using a version of python that is compatible with the tool we are using to grade your assignments.  If your ```IPython``` version is too old, we will *not* be able to grade your assignments."
   ]
  },
  {
   "cell_type": "code",
   "execution_count": null,
   "metadata": {},
   "outputs": [],
   "source": [
    "import IPython\n",
    "assert IPython.version_info[0] >= 3, \"Your version of IPython is too old, please update it.\""
   ]
  },
  {
   "cell_type": "markdown",
   "metadata": {},
   "source": [
    "### (3) Do your best to answer all questions in the assignment.  \n",
    "To answer questions, **replace** anything that says either\n",
    "- \"YOUR ANSWER HERE\" \n",
    "- \n",
    "```\n",
    "YOUR CODE HERE\n",
    "raise NotImplementedError\n",
    "``` \n",
    "\n",
    "with your answer/code.  Cells with either of the two bullet points above are cells of the notebook that will be graded.\n",
    "\n",
    "**To edit markdown** cells (e.g. this one),  *double click in the cell to type*.  Press \\<shift\\>+\\<enter\\> to execute the cell.  Try editing the text below to replace the with your information:  \n",
    "\n",
    "[first name] [last name], uniqname\n"
   ]
  },
  {
   "cell_type": "markdown",
   "metadata": {},
   "source": [
    "### (4) Make sure your notebook runs sequentially.\n",
    "After you complete this assignment, make sure everything runs as expected. First, **restart the kernel** (in the menubar, select Kernel$\\rightarrow$Restart) and then **run all cells** (in the menubar, select Cell$\\rightarrow$Run All)."
   ]
  },
  {
   "cell_type": "code",
   "execution_count": null,
   "metadata": {},
   "outputs": [],
   "source": []
  },
  {
   "cell_type": "markdown",
   "metadata": {},
   "source": [
    "# Phys 260 Python Tutorial/HW 7: Integrating the Biot-Savart Law  (30 points total)\n",
    "\n",
    "## Tutorial Summary\n",
    "- Brief re-review of the Biot-Savart law and the corresponding functions\n",
    "- Mutliple line wires"
   ]
  },
  {
   "cell_type": "code",
   "execution_count": null,
   "metadata": {},
   "outputs": [],
   "source": [
    "import numpy as np\n",
    "from matplotlib import pyplot as plt"
   ]
  },
  {
   "cell_type": "markdown",
   "metadata": {},
   "source": [
    "## Brief Review of the Biot-Savart Law\n",
    "\n",
    "The <b>Biot-Savart Law</b> describes how currents produce magnetic fields: \n",
    "\\begin{equation}\n",
    "       \\mathbf{B}(\\vec{r}) = \\frac{\\mu_0}{4\\pi}\\int\\frac{I\\,d\\vec{\\ell}\\times ({\\vec{r}-\\vec{r}^{\\prime})}}{|r-r^\\prime|^3}\n",
    "\\end{equation}\n",
    "In this expression, $\\vec{r}$ is a field point (we use a `np.meshgrid` to sample field points), and the integral runs over all the currents, whose positions are labeled by the vector $\\vec{r}^\\prime$.  Recall, when discretized for numerical calculations, integrals act as sums.\n",
    "\n",
    "The field point $\\vec{r}$ is fixed for a particular integration (sum). In general, this integral is difficult to evaluate analytically. This is why most introductory courses, like Phys260, typically restrict to examples with symmetries, like infinite straight wires, or the axis of symmetry of a loop. Computers have no such limitations, as we can sample over any configuration, regardless of symmetry (recall how we calculated the electric field due to a rectangular prism of charge).\n",
    "\n",
    "Steps of simulating the magnetic field:\n",
    "- Identify field points you wish to sample for visualization \n",
    "- Discretize the current-containing wire configuration\n",
    "- Apply the numerical version of the Biot-Savart Law\n",
    "- Visualize"
   ]
  },
  {
   "cell_type": "markdown",
   "metadata": {},
   "source": [
    "### Functions that build the Biot-Savart Law (Group talk through - 10min)\n",
    "\n",
    "Below is a function `calculate_magnetic_field_at_point`, the numerical calculation of the integrand in the Biot-Savart Law.  This is the magnetic field contribution due to a given current element to a single point in the field r,\n",
    "\n",
    "\\begin{equation}\n",
    "d\\vec{B}(\\vec{r})=\\frac{\\mu_0}{4\\pi} \\frac{I\\,d\\vec{l}\\times ({\\vec{r}-\\vec{r}^{\\prime})}}{|r-r^\\prime|^3}\n",
    "\\end{equation}\n",
    "\n",
    "We can apply this function to *all* points we are sampling in our field with `np.apply_along_axis`, which is wrapped by the function `calculate_bfield_on_grid`.  \n",
    "\n",
    "We can then account for all current elements and sum, and do this in `calculate_bfield_from_current_elements`.  This is effectively doing the integral (but quantizing as a sum),\n",
    "\\begin{eqnarray}\n",
    "\\vec{B}(\\vec{r}) &=& \\int d\\vec{B}(\\vec{r})\\\\\n",
    "&=&\\frac{\\mu_0}{4\\pi} \\int\\frac{I\\,d\\vec{l}\\times ({\\vec{r}-\\vec{r}^{\\prime})}}{|r-r^\\prime|^3}\\\\\n",
    "&\\approx&\\frac{\\mu_0}{4\\pi} \\sum_i I\\frac{\\Delta \\vec{l_i}\\times ({\\vec{r}-\\vec{r_i}^{\\prime})}}{|r-r_i^\\prime|^3}\n",
    "\\end{eqnarray}\n",
    "where we have individual pieces of the wire, $\\Delta \\vec{l_i}$, at position $\\vec{r_i}^{\\prime}$, and we have to sum up all of the quantized contributions.  You will notice the explicit accounting of the $\\Delta l_i$ as an argument below.  Note, we are still setting constants out in front to 1 to keep plotted numbers simple.  If we assume constant current I throughout a single connected wire element, we can factor that out as well (and for simplicity set this to 1).  "
   ]
  },
  {
   "cell_type": "code",
   "execution_count": null,
   "metadata": {},
   "outputs": [],
   "source": [
    "def calculate_magnetic_field_at_point(field_position, current_position, current_method, dl) :\n",
    "    '''Calculates magnetic field at point due to current vector element at a given position\n",
    "    Parameters\n",
    "    ----------\n",
    "    field_position : n-darray\n",
    "        position of field element\n",
    "    current_position : n-darray\n",
    "        position of current element\n",
    "    current_method : func\n",
    "        callable that returns the current at a position\n",
    "    dl : float\n",
    "        length of wire segment, delta l\n",
    "    \n",
    "    '''\n",
    "    idl = current_method(current_position, dl)\n",
    "    r = field_position - current_position\n",
    "    r_magnitude = np.linalg.norm(r)\n",
    "    return np.cross(idl, r) / r_magnitude**3\n",
    "\n",
    "\n",
    "def calculate_bfield_on_grid(current_position, field_positions, current_method, dl) :\n",
    "    \"\"\" Find the bfield on a grid of field points due to a single current element.\n",
    "\n",
    "    Inputs:\n",
    "    current_position (n-darray) : x, y, and z position for charge, shape (3,) \n",
    "    field_positions (n-darray) : x, y, and z positions for field points, shape (3,l,m,n)\n",
    "    current_method (func) : callable to return the current element at current_position\n",
    "    dl (float) : length of wire segment, delta l\n",
    "    \n",
    "    Outputs:\n",
    "    vector_bfield (n-darray) : x, y, z components of the b-field at the point field_position, shape (3,l,m,n) \n",
    "\n",
    "    \"\"\"\n",
    "    assert(current_position.shape[0]==3)\n",
    "    assert(field_positions.shape[0]==3)\n",
    "    return np.apply_along_axis(calculate_magnetic_field_at_point, 0, \n",
    "                                field_positions, current_position, current_method, dl)\n",
    "\n",
    "def calculate_bfield_from_current_elements(current_positions, field_positions, current_method, dl) : \n",
    "    \"\"\" \n",
    "     Find the bfield on a grid of field points due to a single charge.\n",
    "\n",
    "    Inputs:\n",
    "    current_positions (n-darray) : x, y, and z position for charge, shape (3,n,m,l) \n",
    "    field_positions (n-darray) : x, y, and z positions for field points, shape (3,i,j,k)\n",
    "    current_method (func) : callable to return the current element at single current_position\n",
    "    dl (float) : length of wire segment, delta l\n",
    "\n",
    "    Outputs:\n",
    "    vector_bfield (n-darray) : x, y, z components of the b-field at the point field_position, shape (3,i,j,k)\n",
    "    \n",
    "    \"\"\"\n",
    "    assert(current_positions.shape[0] == 3)\n",
    "    \n",
    "    ## Checking for meshgrid input for current_positions and changing it to an array of shape (3,total_points) \n",
    "    if current_positions.ndim == 4:\n",
    "        current_positions  = np.vstack([current_positions[0,:,:,:].ravel(),\n",
    "                                current_positions[1,:,:,:].ravel(),\n",
    "                                current_positions[2,:,:,:].ravel()])\n",
    "    \n",
    "    bfield_vectors_along_axis = np.apply_along_axis(calculate_bfield_on_grid, 0, \n",
    "                                                    current_positions, \n",
    "                                                    field_positions, current_method, dl)\n",
    "    summed_bfield = bfield_vectors_along_axis.sum(axis=4)\n",
    "    return summed_bfield"
   ]
  },
  {
   "cell_type": "markdown",
   "metadata": {},
   "source": [
    "### The crux of the simulating the magnetic field for different (uniform) current configurations\n",
    "\n",
    "Now that we have functions to calculate the magnetic field at any point due to a current carrying wire configuration, the remaining steps are to:\n",
    "- Define `field_positions`, the output of a numpy meshgrid, in planes that are informative to us (you can do the calculation on a meshgrid sampling 3-dimensional space, but can add up to a lot of points and you'll only ever need to examine the field in a given slice),\n",
    "- Define the points sampling the current, `current_positions`, potentially an output of a numpy meshgrid, or simply collected coordinates,\n",
    "- Define a function that outputs the vector corresponding to the current sampled, `current_method`.\n",
    "\n",
    "**Note**: Depending on how many \"pieces\" we break a current-carrying wire into, we'll have to account for this with the dl.  e.g. A loop wire that we quantize into 20 pieces, or that is sampled by 20 equally spaced points, will have a $d\\vec{l}$ of length $2\\pi R$/20.  Then, we would add up all 20 contributions to each field point."
   ]
  },
  {
   "cell_type": "markdown",
   "metadata": {},
   "source": [
    "### Define field positions (4 points -- in groups 5 min)\n",
    "\n",
    "In the cell below, define `xy_plane_points` and `yz_plane_points` using `np.meshgrid`, indexing with 'ij'.  There is an analogous example above when we defined test_field_points.  The field positions you define should respectively sample a square plane of points where $z=0$ and $x=0$.  Sample 10 points across in a square of side length 4 (between -2 and 2), so you have a total of 100 points sampled on each plane.  Take a look at the assertion statements in the next cell over - do those shapes make sense to you?"
   ]
  },
  {
   "cell_type": "code",
   "execution_count": null,
   "metadata": {
    "deletable": false,
    "nbgrader": {
     "cell_type": "code",
     "checksum": "4dd0651bb5f5f91bb119f319162ca4fb",
     "grade": false,
     "grade_id": "cell-28f48cb1798091d2",
     "locked": false,
     "schema_version": 3,
     "solution": true,
     "task": false
    }
   },
   "outputs": [],
   "source": [
    "# YOUR CODE HERE\n",
    "raise NotImplementedError()"
   ]
  },
  {
   "cell_type": "code",
   "execution_count": null,
   "metadata": {
    "deletable": false,
    "editable": false,
    "nbgrader": {
     "cell_type": "code",
     "checksum": "e71b37d2ac1650caef6da1848a1bca31",
     "grade": true,
     "grade_id": "plane_definitions",
     "locked": true,
     "points": 4,
     "schema_version": 3,
     "solution": false,
     "task": false
    }
   },
   "outputs": [],
   "source": [
    "\"\"\"Execute to check you're on the right track\"\"\"\n",
    "assert(xy_plane_points.shape == (3,10,10,1))\n",
    "assert(yz_plane_points.shape == (3,1,10,10))"
   ]
  },
  {
   "cell_type": "markdown",
   "metadata": {},
   "source": [
    "### Define wire positions (3 points -- in groups 5 min)\n",
    "\n",
    "For the preflight, we defined wire positions for a line wire, `points_of_linewire`, where the linewire ran along the x-axis.  One possible solution to sample a current with this configuration with 100 sampled points is,\n",
    "\n",
    "```\n",
    "xarray, yarray, zarray = np.meshgrid(np.linspace(-5,5,100),\n",
    "                                    np.array([0]),\n",
    "                                    np.array([0]), indexing='ij')\n",
    "points_of_linewire = np.array([xarray, yarray, zarray])\n",
    "```\n",
    "\n",
    "In the cell below, define sampled positions for two line wires, `parallel_points_linewires`, where we have two linewires running parallel to the x-axis, one at $y=0.5m$, the other at $y=-0.5m$.  The shape of `parallel_points_linewires` should show that the first axis (zeroeth) has 3 elements across, corresponding to the x, y, and z coordinates of each point sampling the wires.\n",
    "\n",
    "There are a couple of ways to accomplish this, one is to use meshgrid with a different y array than the example above. You can also define two separate meshgrid arrays, and to use the `np.concatenate`. Concatenation will be more useful for more complicated current configurations."
   ]
  },
  {
   "cell_type": "code",
   "execution_count": null,
   "metadata": {
    "deletable": false,
    "nbgrader": {
     "cell_type": "code",
     "checksum": "7e4e34c4f6475d470ee79704ea78623f",
     "grade": false,
     "grade_id": "cell-ae16ae94f828256c",
     "locked": false,
     "schema_version": 3,
     "solution": true,
     "task": false
    }
   },
   "outputs": [],
   "source": [
    "# Define parallel_points_linewires here\n",
    "\n",
    "# YOUR CODE HERE\n",
    "raise NotImplementedError()"
   ]
  },
  {
   "cell_type": "code",
   "execution_count": null,
   "metadata": {
    "deletable": false,
    "editable": false,
    "nbgrader": {
     "cell_type": "code",
     "checksum": "2bf2d35d0ec85ec842f85d059fa05691",
     "grade": true,
     "grade_id": "parallel_points_linewires",
     "locked": true,
     "points": 3,
     "schema_version": 3,
     "solution": false,
     "task": false
    }
   },
   "outputs": [],
   "source": [
    "\"\"\"Execute to check you're on the right track\"\"\"\n",
    "assert(parallel_points_linewires.shape[0] == 3)\n",
    "assert(parallel_points_linewires[0].min() == -5)\n",
    "assert(parallel_points_linewires[1].min() == -0.5)\n",
    "assert(parallel_points_linewires[1].max() == 0.5)\n",
    "assert((parallel_points_linewires[2] == 0).all())"
   ]
  },
  {
   "cell_type": "markdown",
   "metadata": {},
   "source": [
    "### Define a method to determine current (3 points -- in groups 5 min)\n",
    "\n",
    "Let us now define a method for anti-parallel wires.  We want the current to point in the \"+x\" direction in the wire above the zx-plane (y=0.5), and in the \"-x\" direction in the wire below the zx-plane (y=-0.5).  **Quick question for the class before break out:** What should the type of the returned quantity be (fill out the docstring)?"
   ]
  },
  {
   "cell_type": "code",
   "execution_count": null,
   "metadata": {
    "deletable": false,
    "nbgrader": {
     "cell_type": "code",
     "checksum": "7ede40ce6e650c59853c7fd70b72b3bf",
     "grade": false,
     "grade_id": "cell-af924dd1a2a36582",
     "locked": false,
     "schema_version": 3,
     "solution": true,
     "task": false
    }
   },
   "outputs": [],
   "source": [
    "def anti_parallel_xwires(current_position, dl) :\n",
    "    \"\"\"Returns the Id\\vec{l} of a wire running parallel to the x-axis, \n",
    "    with positive current above the zx-plane, negative below.    \n",
    "\n",
    "    Inputs:\n",
    "    current_position (3, n-darray) : x, y, and z position for current element \n",
    "\n",
    "    Outputs:\n",
    "    idl (3, n-darray) : x, y, z values of the current * dl\n",
    "    \"\"\"\n",
    "    # YOUR CODE HERE\n",
    "    raise NotImplementedError()"
   ]
  },
  {
   "cell_type": "code",
   "execution_count": null,
   "metadata": {
    "deletable": false,
    "editable": false,
    "nbgrader": {
     "cell_type": "code",
     "checksum": "634ec2281a91583a954a01f60b8333ea",
     "grade": true,
     "grade_id": "anti_parallel_xwires",
     "locked": true,
     "points": 3,
     "schema_version": 3,
     "solution": false,
     "task": false
    }
   },
   "outputs": [],
   "source": [
    "\"\"\"Execute to check you're on the right track\"\"\"\n",
    "assert((anti_parallel_xwires(np.array([1,1,0]), .1) == np.array([.1,0,0])).all())\n",
    "assert((anti_parallel_xwires(np.array([-1,-1,0]), .1) == np.array([-.1,0,0])).all())"
   ]
  },
  {
   "cell_type": "markdown",
   "metadata": {},
   "source": [
    "### Let's visualize the system (in class discussion/work together -- 5 points total)\n",
    "\n",
    "**Quick question for class:**  What slice (plane) of field space should we visualize that might be interesting for two anti-parallel wires?\n",
    "\n",
    "We will talk through using `calculate_bfield_from_current_elements` to define `bfield_slice_antiparallel` below."
   ]
  },
  {
   "cell_type": "code",
   "execution_count": null,
   "metadata": {
    "deletable": false,
    "nbgrader": {
     "cell_type": "code",
     "checksum": "19b3f492e7fcb794305a3ba5de513e7b",
     "grade": false,
     "grade_id": "cell-2e6a4d14981be6e7",
     "locked": false,
     "schema_version": 3,
     "solution": true,
     "task": false
    }
   },
   "outputs": [],
   "source": [
    "# Calculate the b-field on that slice due to antiparallel wires\n",
    "\n",
    "# YOUR CODE HERE\n",
    "raise NotImplementedError()"
   ]
  },
  {
   "cell_type": "code",
   "execution_count": null,
   "metadata": {
    "deletable": false,
    "editable": false,
    "nbgrader": {
     "cell_type": "code",
     "checksum": "4e5317e62f842cfc99683196ad9e68b7",
     "grade": true,
     "grade_id": "bfield_slice_antiparallel",
     "locked": true,
     "points": 2,
     "schema_version": 3,
     "solution": false,
     "task": false
    }
   },
   "outputs": [],
   "source": [
    "\"\"\"Execute to check you're on the right track\"\"\"\n",
    "assert(bfield_slice_antiparallel.shape[0] == 3)"
   ]
  },
  {
   "cell_type": "markdown",
   "metadata": {},
   "source": [
    "**Preparing arrays  for plot (2 points):** Let's prepare the arrays to use in streamplot to plot the magnetic field in the yz-plane. While our calculation takes place in 3D, we need to separate the meshgrid arrays into their individual components to plot them in 2D. Grab the correct 'slices' of the yz_plane_points and bfield_slice_antiparallel, using indexes. Please define the following variables for plotting:\n",
    "\n",
    "- `z_pts_plot` and `y_pts_plot` : 2-D arrays containing the z and y field points for streamplot.\n",
    "- `bfield_z_antiparallel` and `bfield_y_antiparallel` : 2-D arrays containing the z and y components of the calculated magnetic field for streamplot.\n",
    "- `bfield_mag_antiparallel` : 2-D array containing the magnitude of the magnetic field, for coloring purposes. If you use linalg.norm, make sure to check the shape of the output!"
   ]
  },
  {
   "cell_type": "code",
   "execution_count": null,
   "metadata": {
    "deletable": false,
    "nbgrader": {
     "cell_type": "code",
     "checksum": "aa620f5ea79a6bb8b59ad9e5cf14458c",
     "grade": false,
     "grade_id": "cell-ac555850f93066be",
     "locked": false,
     "schema_version": 3,
     "solution": true,
     "task": false
    }
   },
   "outputs": [],
   "source": [
    "# YOUR CODE HERE\n",
    "raise NotImplementedError()"
   ]
  },
  {
   "cell_type": "code",
   "execution_count": null,
   "metadata": {
    "deletable": false,
    "editable": false,
    "nbgrader": {
     "cell_type": "code",
     "checksum": "f49ac72aec4e63531b9c3048b1477ee3",
     "grade": true,
     "grade_id": "antiparallel_wire_plot_setup",
     "locked": true,
     "points": 2,
     "schema_version": 3,
     "solution": false,
     "task": false
    }
   },
   "outputs": [],
   "source": [
    "assert(z_pts_plot.ndim==2)\n",
    "assert(bfield_z_antiparallel.shape==z_pts_plot.shape)\n",
    "assert(bfield_z_antiparallel.shape==z_pts_plot.shape)"
   ]
  },
  {
   "cell_type": "markdown",
   "metadata": {},
   "source": [
    "**Visualize (class discussion) (2 points):** Use streamplot to plot the magnetic field in the zy plane. Because of the indexing of streamplot, please plot z on the 'x-axis' and y on the 'y-axis'. How might you indicate the direction of the current in the figure below?  Add a useful visual (see example with 'x' and 'o' from the preflight). Assign the streamplot output to `strm` for the colorbar call."
   ]
  },
  {
   "cell_type": "code",
   "execution_count": null,
   "metadata": {
    "deletable": false,
    "nbgrader": {
     "cell_type": "code",
     "checksum": "8b99c3cf45e36e98c9d5c7f6434e2561",
     "grade": true,
     "grade_id": "antiparallel_wires",
     "locked": false,
     "points": 2,
     "schema_version": 3,
     "solution": true,
     "task": false
    }
   },
   "outputs": [],
   "source": [
    "fig, ax1 = plt.subplots(1, figsize=(8,8))\n",
    "\n",
    "color = np.log10(bfield_mag_antiparallel)   # colors the arrows based on field strength\n",
    "\n",
    "# YOUR CODE HERE\n",
    "raise NotImplementedError()\n",
    "\n",
    "fig.colorbar(strm.lines)\n",
    "\n",
    "ax1.set_aspect('equal')\n",
    "ax1.set_xlabel('z', fontsize=16)\n",
    "ax1.set_ylabel('y', fontsize=16)"
   ]
  },
  {
   "cell_type": "markdown",
   "metadata": {},
   "source": [
    "**Discuss the plot (Take home)**:  Does this figure make sense?  Make sure to add an \"x\" and an \"o\" symbol corresponding to current going into and out of the page at the appropriate location.  Why does this make sense?"
   ]
  },
  {
   "cell_type": "markdown",
   "metadata": {
    "deletable": false,
    "nbgrader": {
     "cell_type": "markdown",
     "checksum": "717a1c7ee18ba689d3f7c594249bd0fc",
     "grade": true,
     "grade_id": "antiparallel_wires_plot_caption",
     "locked": false,
     "points": 1,
     "schema_version": 3,
     "solution": true,
     "task": false
    }
   },
   "source": [
    "YOUR ANSWER HERE"
   ]
  },
  {
   "cell_type": "markdown",
   "metadata": {},
   "source": [
    "## Homework Summary (13 points)\n",
    "- Mutliple line wires (add three above and three below the zx-plane) -- need to define the `current_positions` array corresponding to `four_parallel_points_linewires`\n",
    "- Multiple line wires with parallel current -- need to define a new (but very similar to `anti_parallel_xwires`) function called `parallel_xwires`. \n",
    "- A loop wire -- need to use new `np` tools, `np.cos` and `np.sin` to define the $d\\vec{l}$ in the function for current, also need to sample points around a circle to define the loop wire positions.\n",
    "- Multiple loop wires -- analogs from all of the above"
   ]
  },
  {
   "cell_type": "markdown",
   "metadata": {},
   "source": [
    "### Four wires above and below the zx-plane (2 points)\n",
    "\n",
    "In the cell below, define `four_parallel_points_linewires` all running parallel to the x-axis.  The first four should sample four parallel wires at $y=0.5$, at equidistant z-values between $-1<z<1$ and four parallel wires at $y=-0.5$, at the same equidistant z-values.  This is an extension of `parallel_points_linewires`. I recommend defining a list of your wire's z-values, `zvalues`, and using this both in defining the points in the linewires and also in marking the \"x\"'s and \"o\"'s of your streamplot figure."
   ]
  },
  {
   "cell_type": "code",
   "execution_count": null,
   "metadata": {
    "deletable": false,
    "nbgrader": {
     "cell_type": "code",
     "checksum": "972c44c7c214a1ada55cf07a0624df09",
     "grade": false,
     "grade_id": "cell-5cdec83ddab9c3e8",
     "locked": false,
     "schema_version": 3,
     "solution": true,
     "task": false
    }
   },
   "outputs": [],
   "source": [
    "# Define four_parallel_points_linewires here\n",
    "\n",
    "# YOUR CODE HERE\n",
    "raise NotImplementedError()"
   ]
  },
  {
   "cell_type": "code",
   "execution_count": null,
   "metadata": {
    "deletable": false,
    "editable": false,
    "nbgrader": {
     "cell_type": "code",
     "checksum": "e36be578c523c077e52a3ebbec1e6a39",
     "grade": true,
     "grade_id": "four_parallel_points_linewires",
     "locked": true,
     "points": 1,
     "schema_version": 3,
     "solution": false,
     "task": false
    }
   },
   "outputs": [],
   "source": [
    "\"\"\"Execute to check you're on the right track\"\"\"\n",
    "assert(four_parallel_points_linewires.shape[0]==3)\n",
    "assert(four_parallel_points_linewires[1].max() == 0.5)\n",
    "assert(four_parallel_points_linewires[1].min() == -0.5)"
   ]
  },
  {
   "cell_type": "markdown",
   "metadata": {},
   "source": [
    "Plot the magnetic field in the yz-slice for the antiparallel current case.  Add the appropriate \"x\"'s and \"o\"'s using `zvalues`.  Do you see what the magnetic field behavior might look like if we had, instead, sheets of antiparallel current?  You can experiment with: \n",
    "- yz plane points further towards the ends of the wires (e.g. $x\\approx5$ where you see the edge effects of our discretization (these are not truly infinitely long wires),\n",
    "- moving the wires closer together to see what happens when they sit at $y=\\pm 0.25$ (move them back before submitting, otherwise the assertion cell will fail)\n",
    "- Note: Leave a figure with the original prompt's configuration that illustrates the B-field in the previously defined `yz_plane_points`. "
   ]
  },
  {
   "cell_type": "code",
   "execution_count": null,
   "metadata": {
    "deletable": false,
    "nbgrader": {
     "cell_type": "code",
     "checksum": "c3ae14d73fdeef80e10d33b8922b68f6",
     "grade": true,
     "grade_id": "plot_four_parallel_points",
     "locked": false,
     "points": 1,
     "schema_version": 3,
     "solution": true,
     "task": false
    }
   },
   "outputs": [],
   "source": [
    "# YOUR CODE HERE\n",
    "raise NotImplementedError()"
   ]
  },
  {
   "cell_type": "markdown",
   "metadata": {},
   "source": [
    "### A loop wire (2 points) \n",
    "\n",
    "Defining both the wire positions and $\\Delta \\vec{l}$ is a bit trickier here because you are dealing with a circle.  The following text should walk you through this construction.  \n",
    "\n",
    "Consider a circle on the xy-plane (constant z, say $z=0$), with current flowing clockwise (so with increasing $\\phi$).  With the line wire, we varied over x, so $d\\vec{l}=dx\\hat{x}$, coded with `dl*np.array([1,0,0])`.  This problem has cylindrical symmetry, so we will work in cylindrical coordinates, ($r,\\phi,z$), and our $d\\vec{l}$ will vary with our $d\\phi\\hat{\\phi}$. \n",
    "\n",
    "For a circle with radius R (circumference $S=2\\pi R$), quantized into n arclets of length $\\Delta s=2\\pi R/n$ at each $\\phi_i$ (where $1\\leq i\\leq n$ so $\\Delta\\phi/2\\pi=1/n$, we have a corresponding $d\\vec{l}$ of,\n",
    "\\begin{eqnarray}\n",
    "d\\vec{l}&=&dl\\hat{\\phi}\\\\\n",
    "&=&Sd\\phi\\hat{\\phi}\\\\\n",
    "&\\approx&S\\frac{\\Delta\\phi}{2\\pi}\\hat{\\phi}\\\\\n",
    "&=&\\Delta s\\hat{\\phi}\\\\\n",
    "&=&\\frac{2\\pi R}{n}\\hat{\\phi}\\\\\n",
    "\\end{eqnarray}\n",
    "namely the arclength times the unit vector tangent to the circle.  So, for the ith segment,\n",
    "\\begin{eqnarray}\n",
    "\\Delta\\vec{l}_i&=&\\frac{2\\pi R}{n}\\hat{\\phi_i}\n",
    "\\end{eqnarray}\n",
    "The conversion of $\\hat{\\phi}$ to cartesian coordinates will depend on the value of $\\phi_i$ corresponding to the sampled position in the loop.  If you have not yet seen the conversions between unit vectors, the [wiki page](https://en.wikipedia.org/wiki/Del_in_cylindrical_and_spherical_coordinates) is fairly comprehensive, but remember to swap $\\theta\\leftrightarrow\\phi$ to go between math $\\leftrightarrow$ physics norms.\n",
    "\\begin{eqnarray}\n",
    "\\hat{\\phi}_i&=&-\\sin\\phi_i\\hat{x}+\\cos\\phi_i\\hat{y}\\\\\n",
    "&=&\\frac{-y\\hat{x}+x\\hat{y}}{R}\\\\\n",
    "\\end{eqnarray}\n",
    "The positions of points sampled in the loop, ($x_i,y_i,z$), correspond to the individual $\\phi_i$'s (where $1\\leq i\\leq n)$, and these are,\n",
    "\\begin{eqnarray}\n",
    "x_i&=&R\\cos\\phi_i\\\\\n",
    "y_i&=&R\\sin\\phi_i\n",
    "\\end{eqnarray}\n",
    "\n",
    "In the cell below, define both the numpy array that samples `points_in_loop` and the function, `clockwise_loop_wire_xy`, that returns your $d\\vec{l}$ for a given point in a loop parallel to the xy-plane with current running clockwise.  Assume a radius of $R=1m$ to again, keep numbers simple and reduce a proliferation of constants out in front.  It may be useful to know that numpy has both [`np.cos`](https://numpy.org/doc/stable/reference/generated/numpy.cos.html) and [`np.sin`](https://numpy.org/doc/stable/reference/generated/numpy.sin.html) functions, which do expect angles in radians.  \n",
    "\n",
    "I suggest you first quantize sampled values of $\\phi$ in the same manner we quantized sampled values of $x$ in the line wire example (make sure to *not* double count 0 and $2\\pi$).  If you use `np.linspace`, there is a key word argument `endpoint` that is useful."
   ]
  },
  {
   "cell_type": "code",
   "execution_count": null,
   "metadata": {
    "deletable": false,
    "nbgrader": {
     "cell_type": "code",
     "checksum": "6c99016a2e04452c79ae989ea6e08c37",
     "grade": false,
     "grade_id": "cell-b076bdf46bacebcc",
     "locked": false,
     "schema_version": 3,
     "solution": true,
     "task": false
    }
   },
   "outputs": [],
   "source": [
    "# Define the numpy array points_in_loop and the function clockwise_loop_wire here.\n",
    "\n",
    "# YOUR CODE HERE\n",
    "raise NotImplementedError()"
   ]
  },
  {
   "cell_type": "code",
   "execution_count": null,
   "metadata": {
    "deletable": false,
    "editable": false,
    "nbgrader": {
     "cell_type": "code",
     "checksum": "811ecc8ff122f2723732b632cbea5c1d",
     "grade": true,
     "grade_id": "points_in_loop",
     "locked": true,
     "points": 2,
     "schema_version": 3,
     "solution": false,
     "task": false
    }
   },
   "outputs": [],
   "source": [
    "\"\"\"Execute to check you're on the right track\"\"\"\n",
    "assert(points_in_loop.shape[0] == 3)\n",
    "assert((points_in_loop >= -1).all() & (points_in_loop <= 1).all())\n",
    "assert((points_in_loop[2] == 0).all())"
   ]
  },
  {
   "cell_type": "markdown",
   "metadata": {},
   "source": [
    "**Plot (2 points)** the magnetic field of your loop of current in the yz-plane.  When you call `calculate_bfield_from_current_elements`, you will need to use the appropriate value for `dl`.  Try shrinking the radius of the loop to see what happens (you should be able to do this by simply multiplying by a constant when you define `points_in_loop`.  You can also try multiplying `dl` to keep current consistent, but simply varying `points_in_loop` suffices for visualization."
   ]
  },
  {
   "cell_type": "code",
   "execution_count": null,
   "metadata": {
    "deletable": false,
    "nbgrader": {
     "cell_type": "code",
     "checksum": "a5e4516ff57089fdb4510f571272d470",
     "grade": true,
     "grade_id": "Bfield_loop_plot",
     "locked": false,
     "points": 2,
     "schema_version": 3,
     "solution": true,
     "task": false
    }
   },
   "outputs": [],
   "source": [
    "# Plot the magnetic field due to a loop here\n",
    "\n",
    "# YOUR CODE HERE\n",
    "raise NotImplementedError()"
   ]
  },
  {
   "cell_type": "markdown",
   "metadata": {},
   "source": [
    "### Helmholz coils (3 points)\n",
    "\n",
    "You may have seen Helmholz coils in your lab class, a configuration of two parallel loops to produce a relatively uniform magnetic field in between the coils.  For one of your written homeworks, you wrote down an expression for $B(z)$ for two parallel circular loops with radius $R$, separated by a distance $a$. You can solve for $a$ such that $B(z)$ is uniform near the midpoint between the two coils. This means that you are looking for the value of $a$ that makes,\n",
    "\\begin{eqnarray}\n",
    "\\frac{d^2B}{dz^2}|_{z=0}&=&0\n",
    "\\end{eqnarray}\n",
    "This is the case when $a=R$, so the coils are as far apart as the coil radius. Helmholz coils are meant to create a relatively uniform magnetic field in the region between the loops.\n",
    "\n",
    "Set up Helmholz coils below, defining `points_in_helmholz` that sit at $z=\\pm 0.5$, so $d=1=R$."
   ]
  },
  {
   "cell_type": "code",
   "execution_count": null,
   "metadata": {
    "deletable": false,
    "nbgrader": {
     "cell_type": "code",
     "checksum": "41483561f1b548ad2c24b68e9e565cc1",
     "grade": false,
     "grade_id": "cell-90ce6d0a3aaf4287",
     "locked": false,
     "schema_version": 3,
     "solution": true,
     "task": false
    }
   },
   "outputs": [],
   "source": [
    "# YOUR CODE HERE\n",
    "raise NotImplementedError()"
   ]
  },
  {
   "cell_type": "code",
   "execution_count": null,
   "metadata": {
    "deletable": false,
    "editable": false,
    "nbgrader": {
     "cell_type": "code",
     "checksum": "3309cf45c32ac26d6c572c601214fe93",
     "grade": true,
     "grade_id": "point_in_helmholz_coil",
     "locked": true,
     "points": 2,
     "schema_version": 3,
     "solution": false,
     "task": false
    }
   },
   "outputs": [],
   "source": [
    "\"\"\"Execute to check you're on the right track\"\"\"\n",
    "assert(points_in_helmholz.shape[0] == 3)\n",
    "assert((points_in_helmholz >= -1).all() & (points_in_helmholz <= 1).all())\n",
    "assert((np.abs(points_in_helmholz[2]) == 0.5).all())"
   ]
  },
  {
   "cell_type": "markdown",
   "metadata": {},
   "source": [
    "**Plot** the magnetic field in the yz=plane.  Both loop currents go in the clockwise direction."
   ]
  },
  {
   "cell_type": "code",
   "execution_count": null,
   "metadata": {
    "deletable": false,
    "nbgrader": {
     "cell_type": "code",
     "checksum": "3ae19e0ce9805ffe553a801b8dcdf4b6",
     "grade": true,
     "grade_id": "plot_helmholz",
     "locked": false,
     "points": 1,
     "schema_version": 3,
     "solution": true,
     "task": false
    }
   },
   "outputs": [],
   "source": [
    "# Plot the magnetic field due to a helmholz coils here\n",
    "\n",
    "\n",
    "# YOUR CODE HERE\n",
    "raise NotImplementedError()"
   ]
  },
  {
   "cell_type": "markdown",
   "metadata": {},
   "source": [
    "**Plot a 1D linecut(2 points):** \n",
    "\n",
    "While 2D plots such as streamplots or false color images can convey a lot of information, often 'line cuts' or 'profiles' along 1D cuts can give easier to interpret or more quantitative information about whatever we are plotting. \n",
    "\n",
    "\n",
    "- The magnitude of the magnetic field along the z-axis ($x,y=0$) through the axis of the coils.\n",
    "- The magnitude of the magnetic field along the y-axis ($x,z=0$) in between the two coils. \n",
    "\n",
    "While we *could* use the field we've already calclulated, the 1D profile will only have 10 points and not fully capture the shape of the magnetic field. \n",
    "\n",
    "Set up two separate meshgrid arrays for the profiles along z and y, plotting 100 points between [-2,2] and then use \n",
    "calculate_bfield_from_current_elements to find the field. \n",
    "\n",
    "Overplot both lines on the same axis, but label the lines and add a legend. As with the 2D plots, the shape of the bfields along the lines will be wrong for a normal plot. You can use array indexes to fix the shape, but another useful function for this type of operation is <a href='https://numpy.org/doc/stable/reference/generated/numpy.squeeze.html'>np.squeeze</a>. Squeeze removes all dimensions of an array with length one. "
   ]
  },
  {
   "cell_type": "code",
   "execution_count": null,
   "metadata": {
    "deletable": false,
    "nbgrader": {
     "cell_type": "code",
     "checksum": "b0b0889cc2619edaab69bcc38678be35",
     "grade": true,
     "grade_id": "cell-0e86ffd327d30200",
     "locked": false,
     "points": 2,
     "schema_version": 3,
     "solution": true,
     "task": false
    }
   },
   "outputs": [],
   "source": [
    "# Calculate higher density lines along the z and y axes, Plot the magnitude of the magnetic field along them. \n",
    "# YOUR CODE HERE\n",
    "raise NotImplementedError()"
   ]
  },
  {
   "cell_type": "markdown",
   "metadata": {},
   "source": [
    "**Discuss the plot and data (2 points)**: Relate the shape of the magnetic field curves plotted in the linecuts to the 2D field you plotted earlier. What are the differences between the curves along the y and z axes?\n",
    "\n",
    "Let's say we wanted to show how uniform the field inside the Helmholz coil, tell me how you might modify the plot to better show this. "
   ]
  },
  {
   "cell_type": "markdown",
   "metadata": {
    "deletable": false,
    "nbgrader": {
     "cell_type": "markdown",
     "checksum": "3fa64ee44c088e3899843547808f55c4",
     "grade": true,
     "grade_id": "Linecut_plot_discussion",
     "locked": false,
     "points": 2,
     "schema_version": 3,
     "solution": true,
     "task": false
    }
   },
   "source": [
    "YOUR ANSWER HERE"
   ]
  }
 ],
 "metadata": {
  "kernelspec": {
   "display_name": "Python 3",
   "language": "python",
   "name": "python3"
  },
  "language_info": {
   "codemirror_mode": {
    "name": "ipython",
    "version": 3
   },
   "file_extension": ".py",
   "mimetype": "text/x-python",
   "name": "python",
   "nbconvert_exporter": "python",
   "pygments_lexer": "ipython3",
   "version": "3.8.10"
  }
 },
 "nbformat": 4,
 "nbformat_minor": 2
}
