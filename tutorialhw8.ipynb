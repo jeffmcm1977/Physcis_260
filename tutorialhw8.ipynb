{
 "cells": [
  {
   "cell_type": "markdown",
   "metadata": {},
   "source": [
    "# Phys 260: Python assignment header\n",
    "\n",
    "### (1) Fill out the cell below.  \n",
    "The cell below is a **code cell**.  Fill out your University of Michigan uniqname, then your name, and collaborators in the cell below **inside the quotes**.  \n",
    "\n",
    "**Do not delete the quotes.**  We will use this information to organize your assignments.  To edit and execute cells, double click inside the cell, type, and press \\<shift\\>+\\<enter\\> to execute."
   ]
  },
  {
   "cell_type": "code",
   "execution_count": null,
   "metadata": {},
   "outputs": [],
   "source": [
    "UNIQNAME = \"\"\n",
    "NAME = \"\"\n",
    "COLLABORATORS = \"\""
   ]
  },
  {
   "cell_type": "markdown",
   "metadata": {},
   "source": [
    "### (2) Check your python version.  \n",
    "**Execute the cell below** (double click in the cell and press \\<shift\\>+\\<enter\\>, or click in the cell and press the Run button) to check that you are using a version of python that is compatible with the tool we are using to grade your assignments.  If your ```IPython``` version is too old, we will *not* be able to grade your assignments."
   ]
  },
  {
   "cell_type": "code",
   "execution_count": null,
   "metadata": {},
   "outputs": [],
   "source": [
    "import IPython\n",
    "assert IPython.version_info[0] >= 3, \"Your version of IPython is too old, please update it.\""
   ]
  },
  {
   "cell_type": "markdown",
   "metadata": {},
   "source": [
    "### (3) Do your best to answer all questions in the assignment.  \n",
    "To answer questions, **replace** anything that says either\n",
    "- \"YOUR ANSWER HERE\" \n",
    "- \n",
    "```\n",
    "YOUR CODE HERE\n",
    "raise NotImplementedError\n",
    "``` \n",
    "\n",
    "with your answer/code.  Cells with either of the two bullet points above are cells of the notebook that will be graded.\n",
    "\n",
    "**To edit markdown** cells (e.g. this one),  *double click in the cell to type*.  Press \\<shift\\>+\\<enter\\> to execute the cell.  Try editing the text below to replace the with your information:  \n",
    "\n",
    "[first name] [last name], uniqname\n"
   ]
  },
  {
   "cell_type": "markdown",
   "metadata": {},
   "source": [
    "### (4) Make sure your notebook runs sequentially.\n",
    "After you complete this assignment, make sure everything runs as expected. First, **restart the kernel** (in the menubar, select Kernel$\\rightarrow$Restart) and then **run all cells** (in the menubar, select Cell$\\rightarrow$Run All)."
   ]
  },
  {
   "cell_type": "code",
   "execution_count": null,
   "metadata": {},
   "outputs": [],
   "source": []
  },
  {
   "cell_type": "markdown",
   "metadata": {},
   "source": [
    "# Introduction -- Reminder\n",
    "\n",
    "Each Python lab will start with a pre-flight exercise that walks through building some of the set up and tools ($\\sim$ 30 min), followed by an in-class tutorial with time for Q+A (50 min) so you can walk through steps that will be necessary for the homework assignment you will submit ($\\sim$ 3 hrs).  Each lab will contain starter code, similar to what you see below.  \n",
    "\n",
    "When we grade your homework, we will not run your code. Once submitted, your notebook should have the outputs for all of your results.  Please do not include long outputs from debugging, beyond a few print statements and the requested visualizations (i.e. plots).\n",
    "\n",
    "**Grading:**  We will be using [nbgrader](https://nbgrader.readthedocs.io/en/stable/) to grade your notebooks.  **Note:** If your ```IPython``` version is too old, we will *not* be able to grade your assignments.\n"
   ]
  },
  {
   "cell_type": "markdown",
   "metadata": {},
   "source": [
    "# Phys 260 Python Tutorial/HW 8: Alternating Current Circuit  (30 points total)\n",
    "\n",
    "## Summary\n",
    "- Review of solving circuits numerically\n",
    "- Learning LaTeX\n",
    "- Solving a complex RC circuit\n",
    "- Homework: Solving a basic RL circuit"
   ]
  },
  {
   "cell_type": "code",
   "execution_count": null,
   "metadata": {},
   "outputs": [],
   "source": [
    "import numpy as np\n",
    "from matplotlib import pyplot as plt"
   ]
  },
  {
   "cell_type": "markdown",
   "metadata": {},
   "source": [
    "## Brief Review of Numerically Solving Circuits\n",
    "\n",
    "Most simple circuits can be solved using a variety of techniques.  As circuits become more complicated, or as the signals the circuits are processing become more complicated, finding an exact solution can become more difficult.  \n",
    "\n",
    "We learned in class that\n",
    "\\begin{equation}\n",
    "I = \\frac {dQ} {dt}\n",
    "\\end{equation}\n",
    "\n",
    "This simple definition implies that many circuits can be expressed in the language of differential equations. The purpose of this assignment is to learn how to solve these equations numerically. \n",
    "\n",
    "Consider a first-order equations of the form:\n",
    "\\begin{equation}\n",
    "\\frac {dx} {dt} = f(x,t).\n",
    "\\end{equation}\n",
    "\n",
    "The solution to this equation is a function $x(t)$ whose first derivative is $f$.\n",
    "To find the solution to such an equation, we also need boundary conditions, or starting points.  Suppose that we have a first-order differential equation and know the value of $x$ for some specific time $t$, that is we know $x(t)$.  The we can write the value of x some short time later as\n",
    "\\begin{equation}\n",
    "x(t+h) = x(t) + h \\frac {dx} {dt} + \\frac 1 2 h^2 \\frac {d^2x} {dt^2} + ...\n",
    "\\end{equation}\n",
    "\n",
    "\\begin{equation}\n",
    "x(t+h) = x(t) + h f(x,t) + h^2 \\frac {df(x,t)} {dt} + ...\n",
    "\\end{equation}\n",
    "\n",
    "If $h$ is small then $h^2$ is really small, and we can ignore it, and all higher terms of $h^n$.  This technique is called **Euler's method**.\n",
    "\n",
    "Using this, if we know the value of $x$ at some time $t$ we can find the value at some short time later.  We can then repeat this process and understand how $x$ changes over time. The set of $x$ values at a discrete set of $t$ values is the numerical solution to our differential equation.\n",
    "\n",
    "We also saw a more accurate method for time integration, called the **Runge-Kutta method**.\n",
    "\n"
   ]
  },
  {
   "cell_type": "markdown",
   "metadata": {},
   "source": [
    "### A quick and dirty intro to LaTeX\n",
    "\n",
    "LaTeX (normally pronounced 'lah-tek' or 'lay-tek') is an incredibly useful typesetting language, and it pops up quite a bit in other settings as a way to write both inline and displayed equations, including in jupyter markdown cells. When you get to writing a thesis or academic paper it can become either your best friend or your worst enemy. Here we will focus on 'math mode', which allows us to write and format equations. There are multiple ways to enter math mode, the easiest is with in-line equations, using \\\\$  to contain your equation  (e.g. $y = mx + b$)\n",
    "\n",
    "Often we want our equations to be on their own line or 'displayed', in which case we can use \\\\$\\\\$ :\n",
    "$$ e^{ix} = cos(x) + i \\ sin(x)$$\n",
    "\n",
    "Here, the backslash between i and sign is cosmetic, in mathmode spaces are not in general rendered, if you want to add space between two variables the easiest way to do so is with a backslash followed by a space.\n",
    "\n",
    "This method is apparently not officially supported, a better way to do this is to make an equation environment, which looks like this (double click on the cell to see the raw code as opposed to the rendered equations)\n",
    "\n",
    "\\begin{equation}\n",
    "e^{ix} = cos(x) + i \\ sin(x)\n",
    "\\end{equation}\n",
    "\n",
    "If you'd like to display multiple equations, you can use 'eqnarray' and a double backslash to start a new line\n",
    "\n",
    "\\begin{eqnarray}\n",
    "e^{ix} = cos(x) + i \\ sin(x)\n",
    "e^{i\\pi} = -1\n",
    "\\end{eqnarray}\n",
    "\n",
    "Examples of different basic formatting:\n",
    "\n",
    "Superscript : $ e^{ix}$\n",
    "\n",
    "Subscript: $ I_{1,2} $\n",
    "\n",
    "Vertical fractions: $\\frac{Q}{C1+C2}$\n",
    "\n",
    "Finally, LaTeX has support for basically any symbol you can imagine needing to write, most greek symbols are a backslash following the spelled out greek letter ($\\chi, \\beta, \\alpha, \\pi$). An incredibly useful tool for finding the associated command for a symbol is called <a href = \"https://detexify.kirelabs.org/classify.html\">detexify</a>.\n",
    "\n",
    "Another introduction resource is <a href = \"https://www.overleaf.com/learn/latex/mathematical_expressions\">here</a>.\n"
   ]
  },
  {
   "cell_type": "markdown",
   "metadata": {},
   "source": [
    "### A more complex RC circuit\n",
    "\n",
    "In the problems above, you considered a simple $RC$ circuit. Now consider something a little more complicated:\n",
    "<img src=\"http://www-personal.umich.edu/~gerdes/img/RC_1.jpg\" height=\"400\" width=\"400\">\n",
    "\n",
    "You have seen circuits like this as written homework problems, and determined the time constant for charging the capacitor. Your task now is to model this circuit numerically using the same techniques as you did for the simple $RC$ circuit from Tutorial/HW 6. We will assume the values of the components are all known, and that the capacitor is uncharged at $t=0$. You wil need to find the charge $Q$ on the capacitor, and the three currents $I_1$, $I_2$, and $I_3$, as a function of time.  "
   ]
  },
  {
   "cell_type": "markdown",
   "metadata": {},
   "source": [
    "### Using LaTeX: Equations of motion (3 points)\n",
    "\n",
    "Using Kirchhoff's rules we can write down four linearly independent equations involving the three unknowns $Q$, $I_1$, $I_2$, and $I_3$,\n",
    "\\begin{eqnarray}\n",
    "I_3&=&\\left(I_2R_2 + \\frac{Q}{C}\\right)/R_3 \\;\\;\\;(1)\\\\\n",
    "I_2&=& \\left(V - I_1 R_1 - \\frac{Q}{C}\\right)/R_2 \\;\\;\\;(2) \\\\  \n",
    "I_1&=&  I_{2}+ I_{3} \\;\\;\\;(3)  \\\\\n",
    "\\end{eqnarray} \n",
    "and, with the new $I_2=\\frac{dQ}{dt}$, we know what to add to calculate the Q at the next timestep.  Thus, we have the relationships to update each $I$ and $Q$.  You will notice that we have written this in the order such that the current at the next timestep, i+1 step, depends on values from the previous timestep, ith step, (e.g. $I_{3,i+1}=I_{3,i+1}(I_{2,i},Q_{i})$).\n",
    "\n",
    "Show, in the next cell, how we arrive at these relationships. "
   ]
  },
  {
   "cell_type": "markdown",
   "metadata": {
    "deletable": false,
    "nbgrader": {
     "cell_type": "markdown",
     "checksum": "9e4e621c3728ca74bd6dcea5197757dc",
     "grade": true,
     "grade_id": "latex_equations_of_motion",
     "locked": false,
     "points": 3,
     "schema_version": 3,
     "solution": true,
     "task": false
    }
   },
   "source": [
    "Using Kirchoff's laws, (the left loop, the outer loop, and the junction rule) we can get the following equations:\n",
    "\n",
    "\\begin{eqnarray}\n",
    "V = R_1 I_1 + R_2 I_2 + \\frac{Q}{C} \\ \\ \\ (1)\\\\\n",
    "V = R_1 I_1 + R_3 I_3 \\ \\ \\ (2) \\\\\n",
    "I_1 = I_2 + I_3 \\ \\ \\ (3)\n",
    "\\end{eqnarray}\n",
    "\n",
    "To get the expression for $I_3$, we subtact (1) from (2). etc.."
   ]
  },
  {
   "cell_type": "markdown",
   "metadata": {},
   "source": [
    "### Using LaTeX: Writing down equations to implement Euler's methods (3 points)\n",
    "\n",
    "Let's write down the discrete equations we'll use to get $I_{1,i+1},I_{2,i+1},I_{3,i+1}$ and $Q_{i+1}$ step given their values at time step $i$. Use the order I've written the equations above. Only one of these equations should explicitly depend on the time step, $h$."
   ]
  },
  {
   "cell_type": "markdown",
   "metadata": {
    "deletable": false,
    "nbgrader": {
     "cell_type": "markdown",
     "checksum": "80a402aa970b009695da988b6bc0ab65",
     "grade": true,
     "grade_id": "latex_eulers_method",
     "locked": false,
     "points": 3,
     "schema_version": 3,
     "solution": true,
     "task": false
    }
   },
   "source": [
    "YOUR ANSWER HERE"
   ]
  },
  {
   "cell_type": "markdown",
   "metadata": {},
   "source": [
    "### Using LaTeX: Initial conditions (3 points)\n",
    "\n",
    "Write down the four initial conditions of what you want to solve for: the current in each of the three branches and the charge.  *Hint:* First write down the $R_{eq}$ at $t=0$ when the uncharged capacitor acts as a wire, and you can write down initial currents in terms of $R_{eq}$.  "
   ]
  },
  {
   "cell_type": "markdown",
   "metadata": {
    "deletable": false,
    "nbgrader": {
     "cell_type": "markdown",
     "checksum": "ad757e6363cb5e367ffd2b814807e292",
     "grade": true,
     "grade_id": "latex_initial_conditions",
     "locked": false,
     "points": 3,
     "schema_version": 3,
     "solution": true,
     "task": false
    }
   },
   "source": [
    "YOUR ANSWER HERE"
   ]
  },
  {
   "cell_type": "markdown",
   "metadata": {},
   "source": [
    "#### Define a class that models the complex RC circuit (3 points)\n",
    "\n",
    "Fill out the class below, `RCCircuitComplex`.  You will want to also define the characteristic timescale, `self.tau`, defined as $\\tau=(R_2 + R_1R_3/(R_1 + R_3))C$ ($R_2$ is in series with the capacitor, and $R_1$ and $R_3$ branch off in parallel from the current in the capacitor)."
   ]
  },
  {
   "cell_type": "code",
   "execution_count": null,
   "metadata": {
    "deletable": false,
    "nbgrader": {
     "cell_type": "code",
     "checksum": "13d1f83f4a7ed3267eaecc32685bd8d1",
     "grade": true,
     "grade_id": "RC_circuit_class",
     "locked": false,
     "points": 3,
     "schema_version": 3,
     "solution": true,
     "task": false
    }
   },
   "outputs": [],
   "source": [
    "class RCCircuitComplex :\n",
    "    \"\"\" Models the more complex RCCircuit with three branches\n",
    "    \"\"\"\n",
    "    def __init__(self, r1, r2, r3, capacitance, q_capacitor, voltage_battery) :\n",
    "        \"\"\"\n",
    "        Parameters\n",
    "        ----------\n",
    "        r1 : float\n",
    "            value of resistance in ohms\n",
    "        r2 : float\n",
    "            value of resistance in ohms\n",
    "        r3 : float\n",
    "            value of resistance in ohms\n",
    "        capacitance : float \n",
    "            value of capacitance in Farads\n",
    "        q_capacitor : float\n",
    "            initial charge on capacitor\n",
    "        voltage_battery : float\n",
    "            voltage across battery\n",
    "        \"\"\"\n",
    "        \n",
    "        # Set, as attributes, constants of the problem (including self.tau, the equivalent to the rc_constant)\n",
    "        # YOUR CODE HERE\n",
    "        raise NotImplementedError()\n",
    "        \n",
    "        # Use initial conditions to set the \"now\" values of the problem as attributes\n",
    "        # YOUR CODE HERE\n",
    "        raise NotImplementedError()\n",
    "        \n",
    "        # Initialize the current, charge, and timesteps\n",
    "        self.i1_vals = []\n",
    "        self.i2_vals = []\n",
    "        self.i3_vals = []\n",
    "        self.q_vals = []\n",
    "        self.timesteps = np.array([]) \n",
    "\n",
    "    def _set_now_vals(self) :\n",
    "        \"\"\"Calculate \"now\" current and capacitor charge in terms of other attributes, setting attributes\"\"\"\n",
    "        # YOUR CODE HERE\n",
    "        raise NotImplementedError()\n",
    "                \n",
    "    def _set_timesteps(self, num_timescales, num_timesteps_per_timescale) :        \n",
    "        \"\"\"Internal method. Sets the attributes num_timesteps and dt.\n",
    "        Parameters\n",
    "        ----------\n",
    "        num_timescales : floattimestep \n",
    "            number of timescales to evolve over\n",
    "        num_timesteps_per_timescale : int\n",
    "            number of timesteps per characteristic timescale, defines the time resolution \n",
    "        \"\"\"\n",
    "        \n",
    "        self.dt = self.tau / num_timesteps_per_timescale\n",
    "        print(self.dt)\n",
    "\n",
    "        next_timesteps = np.arange(0, self.tau * num_timescales, self.dt)\n",
    "        print('next_timesteps shape: ',next_timesteps.shape)\n",
    "        try :\n",
    "            last_timestep = self.timesteps[-1]\n",
    "            next_timesteps += last_timestep\n",
    "            self.timesteps = np.concatenate([self.timesteps, next_timesteps])\n",
    "            \n",
    "        except IndexError : \n",
    "            self.timesteps = next_timesteps        \n",
    "\n",
    "    def evolve_circuit(self, num_timescales, num_timesteps_per_timescale) :\n",
    "        \"\"\"Evolve the spring, populate the acceleration, velocity and position (a_vals, v_vals, x_vals)\n",
    "        Parameters\n",
    "        ----------\n",
    "        num_periods : float\n",
    "            number of periods to evolve over\n",
    "        num_timesteps_per_period : int\n",
    "            number of timesteps per period, defines the time resolution         \n",
    "        \"\"\"\n",
    "        \n",
    "        self._set_timesteps(num_timescales, num_timesteps_per_timescale)\n",
    "\n",
    "        # Time evolve the circuit using self._set_now_vals() and store values at each timestep\n",
    "        # YOUR CODE HERE\n",
    "        raise NotImplementedError()"
   ]
  },
  {
   "cell_type": "markdown",
   "metadata": {},
   "source": [
    "### Plot the model (2 points)\n",
    "\n",
    "Model and plot the results for this circuit with the following circuit components:\n",
    "* $V = 10$ V\n",
    "* $R_1 = 10~\\Omega$\n",
    "* $R_2 = 20~\\Omega$\n",
    "* $R_3 = 15~\\Omega$\n",
    "* $C = 1.0~\\mu$F\n",
    "\n",
    "I recommend you time evolve over 5 characteristic timescales, and plot with time in units of $\\tau$.  Full credit for making the following plots:\n",
    "* $I_1$, $I_2$, and $I_3$ vs. time\n",
    "* Voltage on $C$ vs. time"
   ]
  },
  {
   "cell_type": "code",
   "execution_count": null,
   "metadata": {
    "deletable": false,
    "nbgrader": {
     "cell_type": "code",
     "checksum": "00ecba9464e6c3efef0cda2eb4edea7b",
     "grade": true,
     "grade_id": "plot_RC_complex",
     "locked": false,
     "points": 2,
     "schema_version": 3,
     "solution": true,
     "task": false
    }
   },
   "outputs": [],
   "source": [
    "#  Define an instance of RCCircuitComplex, time evolve, and plot\n",
    "\n",
    "# YOUR CODE HERE\n",
    "raise NotImplementedError()"
   ]
  },
  {
   "cell_type": "markdown",
   "metadata": {},
   "source": [
    "### Discuss the plot (1 point)\n",
    "\n",
    "In the markdown cell below, discuss your plots.  For example, relate how the currents evolve over time.  For the voltage across the capacitor, does the asymptotal behavior make sense?  The time constant is defined as the amount of time to reach one e-folding time ($\\approx$2.718).  When does the capacitor reach (1-e) of its final charge (or voltage)?  Does this make sense?"
   ]
  },
  {
   "cell_type": "markdown",
   "metadata": {
    "deletable": false,
    "nbgrader": {
     "cell_type": "markdown",
     "checksum": "2c54a8f080526eebc1d92586550a4338",
     "grade": true,
     "grade_id": "RC_complex_plot_discussion",
     "locked": false,
     "points": 1,
     "schema_version": 3,
     "solution": true,
     "task": false
    }
   },
   "source": [
    "YOUR ANSWER HERE"
   ]
  },
  {
   "cell_type": "markdown",
   "metadata": {},
   "source": [
    "## Homework (15 points): A simple RL circuit\n",
    "\n",
    "Consider this circuit:\n",
    "\n",
    "<img src=\"http://www-personal.umich.edu/~gerdes/img/LR_DC.jpg\">\n"
   ]
  },
  {
   "cell_type": "markdown",
   "metadata": {},
   "source": [
    "### LaTeX the solution (4 points)\n",
    "\n",
    "Write up the solution to this problem using LaTeX. For full credit, use full sentences to explain your thought processes and what you are doing.\n",
    "\n",
    "At $t=0$ the switch is closed.  Use LaTeX in the cell below to: \n",
    "- Write the loop rule (sum of voltage drops) for this circuit,\n",
    "- Write the solution for the differential equation, $I(t)$, in terms of $V_{\\rm batt}$, R, and L,\n",
    "- Write the expression for the time constant, $\\tau$,\n",
    "- Write the voltage drop across the inductor as a function of time, $V_{L}$, in terms of $V_{\\rm batt}$ and $\\tau$.  Note, $V_{L}=-L\\frac{dI}{dt}$.  This will be useful in modeling the current evolution.\n",
    "- Write the expressions "
   ]
  },
  {
   "cell_type": "markdown",
   "metadata": {
    "deletable": false,
    "nbgrader": {
     "cell_type": "markdown",
     "checksum": "ed9cd99378bf226cab3752230d72dce3",
     "grade": true,
     "grade_id": "latex_RL_solution",
     "locked": false,
     "points": 4,
     "schema_version": 3,
     "solution": true,
     "task": false
    }
   },
   "source": [
    "YOUR ANSWER HERE"
   ]
  },
  {
   "cell_type": "markdown",
   "metadata": {},
   "source": [
    "### LaTeX the solution, cont. (2 points)\n",
    "\n",
    "Finally, write down the discrete equations for the $i+1$th timestep (i.e. Euler's method) you'll use in your code to numerically solve this circuit.\n",
    "\n",
    "**Hint** : The differential equation you are solving is now $dI/dt = f$ instead of $dQ/dt = f$ in the case of the capactior. This should be reflected in which discrete equation gets updated with explicit reference to the timestep, $h$. If you are having trouble, try re-reading the Euler's method review near the top of the notebook and plugging your diff eq. into it."
   ]
  },
  {
   "cell_type": "markdown",
   "metadata": {
    "deletable": false,
    "nbgrader": {
     "cell_type": "markdown",
     "checksum": "4c0fa1109b7bf864a583e1687091cd4f",
     "grade": true,
     "grade_id": "latex_RL_discrete_equations",
     "locked": false,
     "points": 2,
     "schema_version": 3,
     "solution": true,
     "task": false
    }
   },
   "source": [
    "YOUR ANSWER HERE"
   ]
  },
  {
   "cell_type": "markdown",
   "metadata": {},
   "source": [
    "#### Create a class to model the RL circuit (5 points)\n",
    "\n",
    "As a check, your LaTeX equations should show that the current starts at zero and exponentially approaches its asymptotic value of $V/R$ (as the inductor approaches the behavior of a wire).  The inductor voltage starts out at $V$ and exponentially decays to zero as the current becomes steady (no change in current means no voltage drop across the inductor).\n",
    "\n",
    "In the cell below, create a class to model the RL circuit.  You may want to refer to the structure from the tutorial.  Some differences include the fact that there is only one current, the initial current is zero (e.g. the `self.i_now`), and the characteristic timescale `self.tau` is different.\n",
    "\n",
    "For full credit choose an appropriate name for the class, the docstrings, etc.\n"
   ]
  },
  {
   "cell_type": "code",
   "execution_count": null,
   "metadata": {
    "deletable": false,
    "nbgrader": {
     "cell_type": "code",
     "checksum": "5c64bfbcfbcb35aa0e746a0eea3fd257",
     "grade": true,
     "grade_id": "RLCircuit",
     "locked": false,
     "points": 5,
     "schema_version": 3,
     "solution": true,
     "task": false
    }
   },
   "outputs": [],
   "source": [
    "# YOUR CODE HERE\n",
    "raise NotImplementedError()"
   ]
  },
  {
   "cell_type": "markdown",
   "metadata": {},
   "source": [
    "### Create an instance and plot (2 points)\n",
    "Create an instance of `RLCircuit` with the following components:\n",
    "* V = 10 Volts\n",
    "* R = 1 $\\Omega$\n",
    "* L = 1 H\n",
    "\n",
    "Time evolve and plot:\n",
    "* On the same axis: Voltage across the resistor vs. time (in units of $\\tau$) and Voltage across the inductor vs. time.  Note, you may find it useful to store the voltage across the inductor at each timestep, but there are multiple ways to do this.\n",
    "* On the same axis: Power delivered to the resistor vs. time and power delivered to the inductor vs. time (in units of $\\tau$). Recall that $P = IV$. "
   ]
  },
  {
   "cell_type": "code",
   "execution_count": null,
   "metadata": {
    "deletable": false,
    "nbgrader": {
     "cell_type": "code",
     "checksum": "2599beaf1445af5aea0dc9209d4def38",
     "grade": true,
     "grade_id": "RL_plot",
     "locked": false,
     "points": 2,
     "schema_version": 3,
     "solution": true,
     "task": false
    }
   },
   "outputs": [],
   "source": [
    "# YOUR CODE HERE\n",
    "raise NotImplementedError()"
   ]
  },
  {
   "cell_type": "markdown",
   "metadata": {},
   "source": [
    "### Open questions (2 points) :\n",
    "\n",
    "<b>Answer</b> the following questions:\n",
    "* At what time (in units of $\\tau$) is the maximum power being delivered to the inductor? \n",
    "* What is the total energy $U$ delivered to the inductor? Recall, when discretizing, power at a given timestep is energy per unit time.  Multiplying by the timestep size gives the energy over a single timestep.  \n",
    "* If you change $L$ while holding $R$ constant, how does $U$ change? \n",
    "* If you change $R$ while holding $L$ constant, how does $U$ change?\n",
    "* If you simultaneously double $R$ and $L$, you get a circuit with the same time constant as before. Is this new circuit equivalent to your original one?"
   ]
  },
  {
   "cell_type": "markdown",
   "metadata": {
    "deletable": false,
    "nbgrader": {
     "cell_type": "markdown",
     "checksum": "b9cb78c454422cda17e4684b826ddfb1",
     "grade": true,
     "grade_id": "RL_open_questions",
     "locked": false,
     "points": 2,
     "schema_version": 3,
     "solution": true,
     "task": false
    }
   },
   "source": [
    "YOUR ANSWER HERE"
   ]
  }
 ],
 "metadata": {
  "kernelspec": {
   "display_name": "Python 3",
   "language": "python",
   "name": "python3"
  },
  "language_info": {
   "codemirror_mode": {
    "name": "ipython",
    "version": 3
   },
   "file_extension": ".py",
   "mimetype": "text/x-python",
   "name": "python",
   "nbconvert_exporter": "python",
   "pygments_lexer": "ipython3",
   "version": "3.8.5"
  }
 },
 "nbformat": 4,
 "nbformat_minor": 2
}
